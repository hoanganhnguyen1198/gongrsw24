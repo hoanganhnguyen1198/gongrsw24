{
 "cells": [
  {
   "cell_type": "code",
   "execution_count": 1,
   "metadata": {},
   "outputs": [],
   "source": [
    "import os\n",
    "import sys\n",
    "import json"
   ]
  },
  {
   "cell_type": "code",
   "execution_count": 2,
   "metadata": {},
   "outputs": [],
   "source": [
    "REPORT_DIR = '1_compiled_reports'\n",
    "JSON_DIR = '2_compiled_json'"
   ]
  },
  {
   "cell_type": "code",
   "execution_count": 3,
   "metadata": {},
   "outputs": [],
   "source": [
    "subfolders = [f.name for f in os.scandir(REPORT_DIR) if f.is_dir()]\n",
    "\n",
    "if not os.path.exists(JSON_DIR):\n",
    "    os.makedirs(JSON_DIR)"
   ]
  },
  {
   "cell_type": "code",
   "execution_count": null,
   "metadata": {},
   "outputs": [],
   "source": [
    "for subfolder in subfolders:\n",
    "    print(f\"Process {subfolder}\")\n",
    "    \n",
    "    output_json_path = f'{JSON_DIR}/{subfolder}.json'\n",
    "    if os.path.exists(output_json_path):\n",
    "        print(f\"Skipping {subfolder}, JSON file already exists.\")\n",
    "        continue\n",
    "\n",
    "    json_report = {}\n",
    "    json_report['static'] = {}\n",
    "    json_report['behaviours'] = {}\n",
    "\n",
    "    pre_path = os.path.join(REPORT_DIR, subfolder, 'pre.json')\n",
    "    with open(pre_path, 'r') as file:\n",
    "        pre_json_data = json.load(file)\n",
    "    \n",
    "    # Name Imports\n",
    "    json_report['filename'] = pre_json_data['target']['filename']\n",
    "    print(f\"Filename imported: {json_report['filename']}\")\n",
    "\n",
    "    # PE Imports\n",
    "    json_report['static']['pe_imports'] = []\n",
    "    for entry in pre_json_data['static']['pe']['pe_imports']:\n",
    "        import_entry = {}\n",
    "        import_entry['dll'] = entry['dll']\n",
    "        import_entry['imports'] = []\n",
    "        for import_ in entry['imports']:\n",
    "            import_entry['imports'].append(import_['name'])\n",
    "\n",
    "        json_report['static']['pe_imports'].append(import_entry)\n",
    "    print(f\"PE Imports imported: {len(json_report['static']['pe_imports'])}\")\n",
    "\n",
    "    report_path = os.path.join(REPORT_DIR, subfolder, 'report.json')\n",
    "\n",
    "    with open(report_path, 'r') as file:\n",
    "        report_json_data = json.load(file)\n",
    "\n",
    "    # Process Imports\n",
    "    json_report['behaviours']['processes'] = []\n",
    "    for entry in report_json_data['processes']['process_list']:\n",
    "        process_entry = {}\n",
    "        process_entry['name'] = entry['name']\n",
    "        process_entry['pid'] = entry['pid']\n",
    "        process_entry['ppid'] = entry['ppid']\n",
    "        process_entry['commandline'] = entry['commandline']\n",
    "        process_entry['injected'] = entry['injected']\n",
    "\n",
    "        json_report['behaviours']['processes'].append(process_entry) \n",
    "    print(f\"Processes imported: {len(json_report['behaviours']['processes'])}\")\n",
    "\n",
    "    # Host-resolved Imports\n",
    "    json_report['behaviours']['host_resolved'] = report_json_data['network']['host']\n",
    "    print(f\"Host-resolved imported: {len(json_report['behaviours']['host_resolved'])}\")\n",
    "\n",
    "    file_path = os.path.join(REPORT_DIR, subfolder, 'file.json')\n",
    "\n",
    "    with open(file_path, 'r') as file:\n",
    "        file_json_data = [json.loads(line) for line in file]\n",
    "\n",
    "    # Files Imports\n",
    "    json_report['behaviours']['files'] = []\n",
    "    for entry in file_json_data:\n",
    "        file_entry = {}\n",
    "        file_entry['srcpath'] = entry['srcpath']\n",
    "        file_entry['dstpath'] = entry['dstpath']\n",
    "        file_entry['action'] = entry['action']\n",
    "        file_entry['effect'] = entry['effect']\n",
    "\n",
    "        json_report['behaviours']['files'].append(file_entry)\n",
    "    print(f\"Files imported: {len(json_report['behaviours']['files'])}\")\n",
    "\n",
    "    registry_json_path = os.path.join(REPORT_DIR, subfolder, 'registry.json')\n",
    "\n",
    "    with open(registry_json_path, 'r') as file:\n",
    "        registry_json_data = [json.loads(line) for line in file]\n",
    "\n",
    "    # Registry Imports\n",
    "    json_report['behaviours']['registry'] = []\n",
    "    for entry in registry_json_data:\n",
    "        registry_entry = {}\n",
    "        registry_entry['path'] = entry['path']\n",
    "        registry_entry['valuetype'] = entry['valuetype']\n",
    "        registry_entry['action'] = entry['action']\n",
    "        registry_entry['effect'] = entry['effect']\n",
    "\n",
    "        json_report['behaviours']['registry'].append(registry_entry)\n",
    "    print(f\"Registry imported: {len(json_report['behaviours']['registry'])}\")\n",
    "\n",
    "\n",
    "    with open(output_json_path, 'w') as json_file:\n",
    "        json.dump(json_report, json_file, indent=2)\n",
    "    print(f\"JSON file created: {output_json_path}\")\n",
    "    print(f\"Processed {subfolder}\\n\")"
   ]
  },
  {
   "cell_type": "markdown",
   "metadata": {},
   "source": [
    "# Test"
   ]
  },
  {
   "cell_type": "code",
   "execution_count": 29,
   "metadata": {},
   "outputs": [],
   "source": [
    "json_report = {}\n",
    "json_report['static'] = {}\n",
    "json_report['behaviours'] = {}"
   ]
  },
  {
   "cell_type": "code",
   "execution_count": 30,
   "metadata": {},
   "outputs": [],
   "source": [
    "first_subfolder = subfolders[0]\n",
    "pre_json_path = os.path.join(REPORT_DIR, first_subfolder, 'pre.json')\n",
    "\n",
    "with open(pre_json_path, 'r') as file:\n",
    "    pre_json_data = json.load(file)\n",
    "\n",
    "# Name Imports\n",
    "json_report['filename'] = pre_json_data['target']['filename']\n",
    "\n",
    "# PE Imports\n",
    "json_report['static']['pe_imports'] = []\n",
    "for entry in pre_json_data['static']['pe']['pe_imports']:\n",
    "    import_entry = {}\n",
    "    import_entry['dll'] = entry['dll']\n",
    "    import_entry['imports'] = []\n",
    "    for import_ in entry['imports']:\n",
    "        import_entry['imports'].append(import_['name'])\n",
    "\n",
    "    json_report['static']['pe_imports'].append(import_entry)"
   ]
  },
  {
   "cell_type": "code",
   "execution_count": 31,
   "metadata": {},
   "outputs": [],
   "source": [
    "report_path = os.path.join(REPORT_DIR, first_subfolder, 'report.json')\n",
    "\n",
    "with open(report_path, 'r') as file:\n",
    "    report_json_data = json.load(file)\n",
    "\n",
    "# Process Imports\n",
    "json_report['behaviours']['processes'] = []\n",
    "for entry in report_json_data['processes']['process_list']:\n",
    "    process_entry = {}\n",
    "    process_entry['name'] = entry['name']\n",
    "    process_entry['pid'] = entry['pid']\n",
    "    process_entry['ppid'] = entry['ppid']\n",
    "    process_entry['commandline'] = entry['commandline']\n",
    "    process_entry['injected'] = entry['injected']\n",
    "\n",
    "    json_report['behaviours']['processes'].append(process_entry)"
   ]
  },
  {
   "cell_type": "code",
   "execution_count": 34,
   "metadata": {},
   "outputs": [],
   "source": [
    "# Host-resolved Imports\n",
    "json_report['behaviours']['host_resolved'] = report_json_data['network']['host']"
   ]
  },
  {
   "cell_type": "code",
   "execution_count": null,
   "metadata": {},
   "outputs": [],
   "source": [
    "file_path = os.path.join(REPORT_DIR, first_subfolder, 'file.json')\n",
    "\n",
    "with open(file_path, 'r') as file:\n",
    "    file_json_data = [json.loads(line) for line in file]\n",
    "\n",
    "# Files Imports\n",
    "json_report['behaviours']['files'] = []\n",
    "for entry in file_json_data:\n",
    "    file_entry = {}\n",
    "    file_entry['srcpath'] = entry['srcpath']\n",
    "    file_entry['dstpath'] = entry['dstpath']\n",
    "    file_entry['action'] = entry['action']\n",
    "    file_entry['effect'] = entry['effect']\n",
    "\n",
    "    json_report['behaviours']['files'].append(file_entry)"
   ]
  },
  {
   "cell_type": "code",
   "execution_count": 36,
   "metadata": {},
   "outputs": [],
   "source": [
    "registry_json_path = os.path.join(REPORT_DIR, first_subfolder, 'registry.json')\n",
    "\n",
    "with open(registry_json_path, 'r') as file:\n",
    "    registry_json_data = [json.loads(line) for line in file]\n",
    "\n",
    "# Registry Imports\n",
    "json_report['behaviours']['registry'] = []\n",
    "for entry in registry_json_data:\n",
    "    registry_entry = {}\n",
    "    registry_entry['path'] = entry['path']\n",
    "    registry_entry['valuetype'] = entry['valuetype']\n",
    "    registry_entry['action'] = entry['action']\n",
    "    registry_entry['effect'] = entry['effect']\n",
    "\n",
    "    json_report['behaviours']['registry'].append(registry_entry)"
   ]
  },
  {
   "cell_type": "code",
   "execution_count": null,
   "metadata": {},
   "outputs": [],
   "source": [
    "print(json.dumps(json_report, indent=2))"
   ]
  },
  {
   "cell_type": "code",
   "execution_count": 38,
   "metadata": {},
   "outputs": [],
   "source": [
    "output_json_path = 'output.json'\n",
    "\n",
    "with open(output_json_path, 'w') as json_file:\n",
    "    json.dump(json_report, json_file, indent=2)"
   ]
  },
  {
   "cell_type": "code",
   "execution_count": 42,
   "metadata": {},
   "outputs": [],
   "source": [
    "file_path = os.path.join(REPORT_DIR, '0D9WTR', 'file.json')\n",
    "\n",
    "with open(file_path, 'r') as file:\n",
    "    file_json_data = [json.loads(line) for line in file]\n",
    "\n",
    "# Files Imports\n",
    "json_report['behaviours']['files'] = []\n",
    "for entry in file_json_data:\n",
    "    file_entry = {}\n",
    "    file_entry['srcpath'] = entry['srcpath']\n",
    "    file_entry['dstpath'] = entry['dstpath']\n",
    "    file_entry['action'] = entry['action']\n",
    "    file_entry['effect'] = entry['effect']\n",
    "\n",
    "    json_report['behaviours']['files'].append(file_entry)"
   ]
  }
 ],
 "metadata": {
  "kernelspec": {
   "display_name": "base",
   "language": "python",
   "name": "python3"
  },
  "language_info": {
   "codemirror_mode": {
    "name": "ipython",
    "version": 3
   },
   "file_extension": ".py",
   "mimetype": "text/x-python",
   "name": "python",
   "nbconvert_exporter": "python",
   "pygments_lexer": "ipython3",
   "version": "3.12.4"
  }
 },
 "nbformat": 4,
 "nbformat_minor": 2
}
