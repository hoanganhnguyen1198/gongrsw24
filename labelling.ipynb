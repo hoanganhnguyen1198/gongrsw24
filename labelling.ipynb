{
 "cells": [
  {
   "cell_type": "code",
   "execution_count": 1,
   "metadata": {},
   "outputs": [],
   "source": [
    "import os\n",
    "import sys\n",
    "import json"
   ]
  },
  {
   "cell_type": "code",
   "execution_count": 10,
   "metadata": {},
   "outputs": [],
   "source": [
    "REPORT_DIR = '1_compiled_reports'"
   ]
  },
  {
   "cell_type": "code",
   "execution_count": 11,
   "metadata": {},
   "outputs": [],
   "source": [
    "LABELS_FILE = 'labels.json'"
   ]
  },
  {
   "cell_type": "code",
   "execution_count": 6,
   "metadata": {},
   "outputs": [],
   "source": [
    "name_list = [f.name for f in os.scandir(REPORT_DIR) if f.is_dir()]"
   ]
  },
  {
   "cell_type": "code",
   "execution_count": 4,
   "metadata": {},
   "outputs": [
    {
     "name": "stdout",
     "output_type": "stream",
     "text": [
      "['02OPQ6', '3E27N6', '70S2Q7', '9U7HDN', 'DGPJ0Z', 'HEM42Y', 'LG39TA', 'PJQC57', 'TO5R3E', 'WKUY3W', '092SOH', '3H8T5K', '73D5BI', 'A3FAYJ', 'DIN5SQ', 'HNLPHO', 'LGY4HU', 'PNPS2K', 'TTTZJI', 'WXYDIL', '0J6XQ0', '3JMYUL', '73T1SH', 'A49JNX', 'DKIABQ', 'I3YNAK', 'LIBMQL', 'PU7430', 'TU347U', 'X04O47', '0N43TW', '3NAPZQ', '759Z1B', 'AJSBNV', 'DTJFN9', 'I4D8UF', 'LMIA1O', 'PXGVT7', 'TUDBW6', 'X77GJ8', '174ELB', '48XNFU', '7B9JK2', 'AN1XFY', 'DX28G8', 'I6WVL8', 'LOKKPG', 'Q5MI99', 'UBFCTK', 'XAM9Y0', '1D9PCJ', '4BM37E', '7HT5LF', 'ANAM33', 'E27KL5', 'I9SJ9T', 'LVN8OJ', 'QB90JW', 'UKSVXU', 'XH9FTV', '1HDOUU', '4LD8LU', '7RF35I', 'ASO32H', 'E6RL97', 'IEZ1DM', 'LZCARQ', 'QBUTI0', 'ULDQU5', 'XJ6M62', '1KEJSJ', '4VXFV5', '7RTLG4', 'AWIQJU', 'EYHGYL', 'IGKQ2U', 'M6W7SH', 'QCUULX', 'URJAFH', 'XNJ4RC', '1L9A7A', '4YBW5B', '86BJW7', 'B4TM4J', 'F3MXSV', 'IH785B', 'M85QRJ', 'QDFWMX', 'V011HY', 'XYA130', '1S3J9A', '51200R', '879VY4', 'BK2N7N', 'F7ODO8', 'ILLYJ3', 'MM9GS0', 'QO1O2I', 'V7WNAX', 'Y08CYO', '1WP83Z', '57HK8I', '8BNRAO', 'BKEAZJ', 'F95TBW', 'J14G6T', 'MW6JPK', 'QVDNZO', 'V94T6W', 'Y2CUPU', '20J346', '5GVH7S', '8FCOT2', 'BR0G8N', 'FLFO8G', 'J8TQY4', 'N1IIW2', 'QXVX1O', 'V9F0QM', 'Y7F370', '23DLXF', '5KHQ90', '8K4CDA', 'BW602F', 'FOQFD6', 'JM9J1M', 'N2W51F', 'RXW4BC', 'VDMNBU', 'YDXUP6', '27BOBT', '5N71O3', '8SJC1K', 'BZNFX7', 'FQ0GOW', 'JPEXEP', 'N8P5DY', 'RZABFV', 'VEIE8U', 'YEVQ6V', '2BL3U7', '5OVFSS', '8TYDJR', 'C2PDZM', 'FSN68G', 'JUJAVN', 'ND1EQE', 'S4AJIL', 'VGB81N', 'YIUMO1', '2ITDKB', '5RQAOZ', '8U3H3E', 'C5G5QF', 'G090ZF', 'K5IKNK', 'NYG6OW', 'S6A4J9', 'VJZYBV', 'YKREJH', '2JRZXO', '5UDD5J', '93TCT3', 'CC9TIF', 'G8WQ3A', 'KPPODO', 'OA364P', 'SIYCP1', 'VONKK0', 'YLM6YZ', '2RQNS5', '60SGNY', '9CRIZX', 'CKFNNX', 'GFSYKQ', 'KPY2OG', 'OIF7SX', 'SOMVFX', 'VQXEZR', 'Z1USR2', '2TWKUJ', '61JW7Y', '9D4Q2P', 'CM6H55', 'GG1IX8', 'KQGY0G', 'OKBJO5', 'SPCKF2', 'VTFFUP', 'Z5KF1U', '2UMDY9', '61PHZH', '9EY1X0', 'CPMQ3W', 'GLGUQ9', 'KTOARH', 'OO793K', 'SZNLQZ', 'VVIPNB', 'Z9S999', '2YTBZQ', '65CM3D', '9J7SQ3', 'CUKVNO', 'GPNGCK', 'KW4NS9', 'OOVCA1', 'T14NHI', 'VVZ3A3', 'ZP8HKO', '2ZBMKW', '6OL6DN', '9KGJKS', 'CW1MHR', 'GVSE5S', 'L6FH9L', 'P2CKJJ', 'T16RUX', 'VXWIZR', 'ZQ9X1Z', '32265J', '6P67RJ', '9MAXZS', 'D2MZJ4', 'H5ADES', 'L713FJ', 'P9ZIVK', 'T6ITC8', 'VYSAWR', 'ZV7GH9', '3CU552', '6U7XT8', '9PLR0E', 'DGGFG6', 'HBL6SD', 'L8HRZH', 'PA7UGG', 'TAVXVY', 'W0PKHP', 'ZWLUGL', '3DQZFK', '70QTM6', '9S7FIL', 'DGILSZ', 'HCESO8', 'LCURNR', 'PBGCMA', 'TBAC1E', 'W3VYOA']\n"
     ]
    }
   ],
   "source": [
    "with open('goodware_list.txt', 'r') as file:\n",
    "    labels = file.read().split()\n",
    "    print(labels)"
   ]
  },
  {
   "cell_type": "code",
   "execution_count": 8,
   "metadata": {},
   "outputs": [],
   "source": [
    "labels_json = {}\n",
    "for name in name_list:\n",
    "    if name in labels:\n",
    "        labels_json[name] = \"goodware\"\n",
    "    else:\n",
    "        labels_json[name] = \"ransomware\""
   ]
  },
  {
   "cell_type": "code",
   "execution_count": 9,
   "metadata": {},
   "outputs": [],
   "source": [
    "with open(LABELS_FILE, 'w') as file:\n",
    "    json.dump(labels_json, file, indent=2)"
   ]
  }
 ],
 "metadata": {
  "kernelspec": {
   "display_name": "base",
   "language": "python",
   "name": "python3"
  },
  "language_info": {
   "codemirror_mode": {
    "name": "ipython",
    "version": 3
   },
   "file_extension": ".py",
   "mimetype": "text/x-python",
   "name": "python",
   "nbconvert_exporter": "python",
   "pygments_lexer": "ipython3",
   "version": "3.12.4"
  }
 },
 "nbformat": 4,
 "nbformat_minor": 2
}
