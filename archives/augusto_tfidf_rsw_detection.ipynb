{
 "cells": [
  {
   "cell_type": "code",
   "execution_count": 1,
   "metadata": {
    "collapsed": true,
    "executionInfo": {
     "elapsed": 3288,
     "status": "ok",
     "timestamp": 1716633201080,
     "user": {
      "displayName": "Augusto Parisot de Gusmao Neto aparisot",
      "userId": "02973056020907879635"
     },
     "user_tz": 180
    },
    "id": "8lc8NqfBG3RN"
   },
   "outputs": [],
   "source": [
    "import pandas\n",
    "import numpy\n",
    "import seaborn\n",
    "import matplotlib.pyplot as plt\n",
    "import plotly.express as px\n",
    "from sklearn.model_selection import train_test_split\n",
    "from sklearn.svm import SVC\n",
    "from sklearn.neural_network import MLPClassifier\n",
    "from sklearn.metrics import *"
   ]
  },
  {
   "cell_type": "code",
   "execution_count": 2,
   "metadata": {},
   "outputs": [],
   "source": [
    "PROCESSED_DS_DIR = \"augusto_ds/processed_ds/\""
   ]
  },
  {
   "cell_type": "code",
   "execution_count": 3,
   "metadata": {
    "colab": {
     "base_uri": "https://localhost:8080/",
     "height": 1000
    },
    "executionInfo": {
     "elapsed": 388490,
     "status": "ok",
     "timestamp": 1669252040427,
     "user": {
      "displayName": "Augusto Parisot de Gusmao Neto aparisot",
      "userId": "02973056020907879635"
     },
     "user_tz": 180
    },
    "id": "AkJSng7oG3RQ",
    "outputId": "984d2b3b-262a-4e15-b396-d6ee12a372b2"
   },
   "outputs": [
    {
     "data": {
      "text/html": [
       "<div>\n",
       "<style scoped>\n",
       "    .dataframe tbody tr th:only-of-type {\n",
       "        vertical-align: middle;\n",
       "    }\n",
       "\n",
       "    .dataframe tbody tr th {\n",
       "        vertical-align: top;\n",
       "    }\n",
       "\n",
       "    .dataframe thead th {\n",
       "        text-align: right;\n",
       "    }\n",
       "</style>\n",
       "<table border=\"1\" class=\"dataframe\">\n",
       "  <thead>\n",
       "    <tr style=\"text-align: right;\">\n",
       "      <th></th>\n",
       "      <th>5382530088351570985</th>\n",
       "      <th>2038340943568240459</th>\n",
       "      <th>-3495225287822563407</th>\n",
       "      <th>-6184167012816453708</th>\n",
       "      <th>7099738312180619692</th>\n",
       "      <th>-1286049657302595261</th>\n",
       "      <th>3682553184252715219</th>\n",
       "      <th>-461646535997385497</th>\n",
       "      <th>-448961166194655894</th>\n",
       "      <th>2291019426270880460</th>\n",
       "      <th>...</th>\n",
       "      <th>2928935586553899192</th>\n",
       "      <th>3592312483698901076</th>\n",
       "      <th>3891766720362175360</th>\n",
       "      <th>4741820939497244407</th>\n",
       "      <th>3052972953189331242</th>\n",
       "      <th>-5870216326540581167</th>\n",
       "      <th>-4588096417221536179</th>\n",
       "      <th>4819813997944399364</th>\n",
       "      <th>-8078455863905672838</th>\n",
       "      <th>id</th>\n",
       "    </tr>\n",
       "  </thead>\n",
       "  <tbody>\n",
       "    <tr>\n",
       "      <th>0</th>\n",
       "      <td>0.001266</td>\n",
       "      <td>0.000576</td>\n",
       "      <td>0.000508</td>\n",
       "      <td>0.000273</td>\n",
       "      <td>0.000790</td>\n",
       "      <td>0.000269</td>\n",
       "      <td>0.000269</td>\n",
       "      <td>0.000188</td>\n",
       "      <td>0.000184</td>\n",
       "      <td>0.000674</td>\n",
       "      <td>...</td>\n",
       "      <td>0.0</td>\n",
       "      <td>0.0</td>\n",
       "      <td>0.0</td>\n",
       "      <td>0.0</td>\n",
       "      <td>0.0</td>\n",
       "      <td>0.0</td>\n",
       "      <td>0.0</td>\n",
       "      <td>0.0</td>\n",
       "      <td>0.0</td>\n",
       "      <td>612</td>\n",
       "    </tr>\n",
       "    <tr>\n",
       "      <th>1</th>\n",
       "      <td>0.000502</td>\n",
       "      <td>0.000301</td>\n",
       "      <td>0.000183</td>\n",
       "      <td>0.000066</td>\n",
       "      <td>0.000000</td>\n",
       "      <td>0.000021</td>\n",
       "      <td>0.000021</td>\n",
       "      <td>0.000044</td>\n",
       "      <td>0.000028</td>\n",
       "      <td>0.000000</td>\n",
       "      <td>...</td>\n",
       "      <td>0.0</td>\n",
       "      <td>0.0</td>\n",
       "      <td>0.0</td>\n",
       "      <td>0.0</td>\n",
       "      <td>0.0</td>\n",
       "      <td>0.0</td>\n",
       "      <td>0.0</td>\n",
       "      <td>0.0</td>\n",
       "      <td>0.0</td>\n",
       "      <td>613</td>\n",
       "    </tr>\n",
       "    <tr>\n",
       "      <th>2</th>\n",
       "      <td>0.000567</td>\n",
       "      <td>0.000468</td>\n",
       "      <td>0.000180</td>\n",
       "      <td>0.000145</td>\n",
       "      <td>0.000000</td>\n",
       "      <td>0.000344</td>\n",
       "      <td>0.000344</td>\n",
       "      <td>0.000080</td>\n",
       "      <td>0.000078</td>\n",
       "      <td>0.000000</td>\n",
       "      <td>...</td>\n",
       "      <td>0.0</td>\n",
       "      <td>0.0</td>\n",
       "      <td>0.0</td>\n",
       "      <td>0.0</td>\n",
       "      <td>0.0</td>\n",
       "      <td>0.0</td>\n",
       "      <td>0.0</td>\n",
       "      <td>0.0</td>\n",
       "      <td>0.0</td>\n",
       "      <td>614</td>\n",
       "    </tr>\n",
       "    <tr>\n",
       "      <th>3</th>\n",
       "      <td>0.189952</td>\n",
       "      <td>0.077292</td>\n",
       "      <td>0.019323</td>\n",
       "      <td>0.019435</td>\n",
       "      <td>0.000000</td>\n",
       "      <td>0.000000</td>\n",
       "      <td>0.000000</td>\n",
       "      <td>0.010718</td>\n",
       "      <td>0.000000</td>\n",
       "      <td>0.000000</td>\n",
       "      <td>...</td>\n",
       "      <td>0.0</td>\n",
       "      <td>0.0</td>\n",
       "      <td>0.0</td>\n",
       "      <td>0.0</td>\n",
       "      <td>0.0</td>\n",
       "      <td>0.0</td>\n",
       "      <td>0.0</td>\n",
       "      <td>0.0</td>\n",
       "      <td>0.0</td>\n",
       "      <td>615</td>\n",
       "    </tr>\n",
       "    <tr>\n",
       "      <th>4</th>\n",
       "      <td>0.000644</td>\n",
       "      <td>0.000279</td>\n",
       "      <td>0.000251</td>\n",
       "      <td>0.000168</td>\n",
       "      <td>0.000325</td>\n",
       "      <td>0.000133</td>\n",
       "      <td>0.000133</td>\n",
       "      <td>0.000077</td>\n",
       "      <td>0.000106</td>\n",
       "      <td>0.000000</td>\n",
       "      <td>...</td>\n",
       "      <td>0.0</td>\n",
       "      <td>0.0</td>\n",
       "      <td>0.0</td>\n",
       "      <td>0.0</td>\n",
       "      <td>0.0</td>\n",
       "      <td>0.0</td>\n",
       "      <td>0.0</td>\n",
       "      <td>0.0</td>\n",
       "      <td>0.0</td>\n",
       "      <td>616</td>\n",
       "    </tr>\n",
       "    <tr>\n",
       "      <th>...</th>\n",
       "      <td>...</td>\n",
       "      <td>...</td>\n",
       "      <td>...</td>\n",
       "      <td>...</td>\n",
       "      <td>...</td>\n",
       "      <td>...</td>\n",
       "      <td>...</td>\n",
       "      <td>...</td>\n",
       "      <td>...</td>\n",
       "      <td>...</td>\n",
       "      <td>...</td>\n",
       "      <td>...</td>\n",
       "      <td>...</td>\n",
       "      <td>...</td>\n",
       "      <td>...</td>\n",
       "      <td>...</td>\n",
       "      <td>...</td>\n",
       "      <td>...</td>\n",
       "      <td>...</td>\n",
       "      <td>...</td>\n",
       "      <td>...</td>\n",
       "    </tr>\n",
       "    <tr>\n",
       "      <th>159</th>\n",
       "      <td>0.000000</td>\n",
       "      <td>0.000000</td>\n",
       "      <td>0.000000</td>\n",
       "      <td>0.000000</td>\n",
       "      <td>0.000000</td>\n",
       "      <td>0.000000</td>\n",
       "      <td>0.000000</td>\n",
       "      <td>0.000000</td>\n",
       "      <td>0.000000</td>\n",
       "      <td>0.000000</td>\n",
       "      <td>...</td>\n",
       "      <td>0.0</td>\n",
       "      <td>0.0</td>\n",
       "      <td>0.0</td>\n",
       "      <td>0.0</td>\n",
       "      <td>0.0</td>\n",
       "      <td>0.0</td>\n",
       "      <td>0.0</td>\n",
       "      <td>0.0</td>\n",
       "      <td>0.0</td>\n",
       "      <td>780</td>\n",
       "    </tr>\n",
       "    <tr>\n",
       "      <th>160</th>\n",
       "      <td>0.000000</td>\n",
       "      <td>0.000000</td>\n",
       "      <td>0.000000</td>\n",
       "      <td>0.000000</td>\n",
       "      <td>0.000000</td>\n",
       "      <td>0.000000</td>\n",
       "      <td>0.000000</td>\n",
       "      <td>0.000000</td>\n",
       "      <td>0.000000</td>\n",
       "      <td>0.000000</td>\n",
       "      <td>...</td>\n",
       "      <td>0.0</td>\n",
       "      <td>0.0</td>\n",
       "      <td>0.0</td>\n",
       "      <td>0.0</td>\n",
       "      <td>0.0</td>\n",
       "      <td>0.0</td>\n",
       "      <td>0.0</td>\n",
       "      <td>0.0</td>\n",
       "      <td>0.0</td>\n",
       "      <td>781</td>\n",
       "    </tr>\n",
       "    <tr>\n",
       "      <th>161</th>\n",
       "      <td>0.000000</td>\n",
       "      <td>0.000000</td>\n",
       "      <td>0.000000</td>\n",
       "      <td>0.000000</td>\n",
       "      <td>0.000000</td>\n",
       "      <td>0.000000</td>\n",
       "      <td>0.000000</td>\n",
       "      <td>0.000000</td>\n",
       "      <td>0.000000</td>\n",
       "      <td>0.000000</td>\n",
       "      <td>...</td>\n",
       "      <td>0.0</td>\n",
       "      <td>0.0</td>\n",
       "      <td>0.0</td>\n",
       "      <td>0.0</td>\n",
       "      <td>0.0</td>\n",
       "      <td>0.0</td>\n",
       "      <td>0.0</td>\n",
       "      <td>0.0</td>\n",
       "      <td>0.0</td>\n",
       "      <td>782</td>\n",
       "    </tr>\n",
       "    <tr>\n",
       "      <th>162</th>\n",
       "      <td>0.000000</td>\n",
       "      <td>0.000000</td>\n",
       "      <td>0.000000</td>\n",
       "      <td>0.000000</td>\n",
       "      <td>0.000000</td>\n",
       "      <td>0.000000</td>\n",
       "      <td>0.000000</td>\n",
       "      <td>0.000000</td>\n",
       "      <td>0.000000</td>\n",
       "      <td>0.000000</td>\n",
       "      <td>...</td>\n",
       "      <td>0.0</td>\n",
       "      <td>0.0</td>\n",
       "      <td>0.0</td>\n",
       "      <td>0.0</td>\n",
       "      <td>0.0</td>\n",
       "      <td>0.0</td>\n",
       "      <td>0.0</td>\n",
       "      <td>0.0</td>\n",
       "      <td>0.0</td>\n",
       "      <td>783</td>\n",
       "    </tr>\n",
       "    <tr>\n",
       "      <th>163</th>\n",
       "      <td>0.000000</td>\n",
       "      <td>0.000000</td>\n",
       "      <td>0.000000</td>\n",
       "      <td>0.000000</td>\n",
       "      <td>0.000000</td>\n",
       "      <td>0.000000</td>\n",
       "      <td>0.000000</td>\n",
       "      <td>0.000000</td>\n",
       "      <td>0.000000</td>\n",
       "      <td>0.000000</td>\n",
       "      <td>...</td>\n",
       "      <td>0.0</td>\n",
       "      <td>0.0</td>\n",
       "      <td>0.0</td>\n",
       "      <td>0.0</td>\n",
       "      <td>0.0</td>\n",
       "      <td>0.0</td>\n",
       "      <td>0.0</td>\n",
       "      <td>0.0</td>\n",
       "      <td>0.0</td>\n",
       "      <td>784</td>\n",
       "    </tr>\n",
       "  </tbody>\n",
       "</table>\n",
       "<p>164 rows × 332480 columns</p>\n",
       "</div>"
      ],
      "text/plain": [
       "     5382530088351570985  2038340943568240459  -3495225287822563407  \\\n",
       "0               0.001266             0.000576              0.000508   \n",
       "1               0.000502             0.000301              0.000183   \n",
       "2               0.000567             0.000468              0.000180   \n",
       "3               0.189952             0.077292              0.019323   \n",
       "4               0.000644             0.000279              0.000251   \n",
       "..                   ...                  ...                   ...   \n",
       "159             0.000000             0.000000              0.000000   \n",
       "160             0.000000             0.000000              0.000000   \n",
       "161             0.000000             0.000000              0.000000   \n",
       "162             0.000000             0.000000              0.000000   \n",
       "163             0.000000             0.000000              0.000000   \n",
       "\n",
       "     -6184167012816453708  7099738312180619692  -1286049657302595261  \\\n",
       "0                0.000273             0.000790              0.000269   \n",
       "1                0.000066             0.000000              0.000021   \n",
       "2                0.000145             0.000000              0.000344   \n",
       "3                0.019435             0.000000              0.000000   \n",
       "4                0.000168             0.000325              0.000133   \n",
       "..                    ...                  ...                   ...   \n",
       "159              0.000000             0.000000              0.000000   \n",
       "160              0.000000             0.000000              0.000000   \n",
       "161              0.000000             0.000000              0.000000   \n",
       "162              0.000000             0.000000              0.000000   \n",
       "163              0.000000             0.000000              0.000000   \n",
       "\n",
       "     3682553184252715219  -461646535997385497  -448961166194655894  \\\n",
       "0               0.000269             0.000188             0.000184   \n",
       "1               0.000021             0.000044             0.000028   \n",
       "2               0.000344             0.000080             0.000078   \n",
       "3               0.000000             0.010718             0.000000   \n",
       "4               0.000133             0.000077             0.000106   \n",
       "..                   ...                  ...                  ...   \n",
       "159             0.000000             0.000000             0.000000   \n",
       "160             0.000000             0.000000             0.000000   \n",
       "161             0.000000             0.000000             0.000000   \n",
       "162             0.000000             0.000000             0.000000   \n",
       "163             0.000000             0.000000             0.000000   \n",
       "\n",
       "     2291019426270880460  ...  2928935586553899192  3592312483698901076  \\\n",
       "0               0.000674  ...                  0.0                  0.0   \n",
       "1               0.000000  ...                  0.0                  0.0   \n",
       "2               0.000000  ...                  0.0                  0.0   \n",
       "3               0.000000  ...                  0.0                  0.0   \n",
       "4               0.000000  ...                  0.0                  0.0   \n",
       "..                   ...  ...                  ...                  ...   \n",
       "159             0.000000  ...                  0.0                  0.0   \n",
       "160             0.000000  ...                  0.0                  0.0   \n",
       "161             0.000000  ...                  0.0                  0.0   \n",
       "162             0.000000  ...                  0.0                  0.0   \n",
       "163             0.000000  ...                  0.0                  0.0   \n",
       "\n",
       "     3891766720362175360  4741820939497244407  3052972953189331242  \\\n",
       "0                    0.0                  0.0                  0.0   \n",
       "1                    0.0                  0.0                  0.0   \n",
       "2                    0.0                  0.0                  0.0   \n",
       "3                    0.0                  0.0                  0.0   \n",
       "4                    0.0                  0.0                  0.0   \n",
       "..                   ...                  ...                  ...   \n",
       "159                  0.0                  0.0                  0.0   \n",
       "160                  0.0                  0.0                  0.0   \n",
       "161                  0.0                  0.0                  0.0   \n",
       "162                  0.0                  0.0                  0.0   \n",
       "163                  0.0                  0.0                  0.0   \n",
       "\n",
       "     -5870216326540581167  -4588096417221536179  4819813997944399364  \\\n",
       "0                     0.0                   0.0                  0.0   \n",
       "1                     0.0                   0.0                  0.0   \n",
       "2                     0.0                   0.0                  0.0   \n",
       "3                     0.0                   0.0                  0.0   \n",
       "4                     0.0                   0.0                  0.0   \n",
       "..                    ...                   ...                  ...   \n",
       "159                   0.0                   0.0                  0.0   \n",
       "160                   0.0                   0.0                  0.0   \n",
       "161                   0.0                   0.0                  0.0   \n",
       "162                   0.0                   0.0                  0.0   \n",
       "163                   0.0                   0.0                  0.0   \n",
       "\n",
       "     -8078455863905672838   id  \n",
       "0                     0.0  612  \n",
       "1                     0.0  613  \n",
       "2                     0.0  614  \n",
       "3                     0.0  615  \n",
       "4                     0.0  616  \n",
       "..                    ...  ...  \n",
       "159                   0.0  780  \n",
       "160                   0.0  781  \n",
       "161                   0.0  782  \n",
       "162                   0.0  783  \n",
       "163                   0.0  784  \n",
       "\n",
       "[164 rows x 332480 columns]"
      ]
     },
     "execution_count": 3,
     "metadata": {},
     "output_type": "execute_result"
    }
   ],
   "source": [
    "file_path = PROCESSED_DS_DIR + \"behaviorrevil.csv\" # Don’t forget that there are multiple sections.\n",
    "with open(file_path,\"r\") as f:\n",
    "    table = pandas.read_csv(f)\n",
    "table"
   ]
  },
  {
   "cell_type": "code",
   "execution_count": 4,
   "metadata": {
    "id": "Ydwc-6iuG3RR"
   },
   "outputs": [],
   "source": [
    "family = []\n",
    "\n",
    "for i in range(len(table)):\n",
    "    if 192<=table[\"id\"][i]<=206:\n",
    "        family.append(\"clop\")\n",
    "    elif(207<=table[\"id\"][i]<=310):\n",
    "        family.append(\"conti\")\n",
    "    elif(311<=table[\"id\"][i]<=355):\n",
    "        family.append(\"egregor\")\n",
    "    elif(403<=table[\"id\"][i]<=435):\n",
    "        family.append(\"lockbit\")\n",
    "    elif(438<=table[\"id\"][i]<=451):\n",
    "        family.append(\"lockbit\")\n",
    "    elif(452<=table[\"id\"][i]<=468):\n",
    "        family.append(\"mountlocker\")\n",
    "    elif(480<=table[\"id\"][i]<=557):\n",
    "        family.append(\"netwalker\")\n",
    "    elif(559<=table[\"id\"][i]<=611):\n",
    "        family.append(\"ryuk\")\n",
    "    elif(612<=table[\"id\"][i]<=711):\n",
    "        family.append(\"revil\")\n",
    "    elif(712<=table[\"id\"][i]<=784):\n",
    "        family.append(\"goodware\")\n",
    "    elif(791<table[\"id\"][i]<1446):\n",
    "        family.append(\"revil\")\n",
    "    else:\n",
    "        family.append(\"unknown\")"
   ]
  },
  {
   "cell_type": "code",
   "execution_count": 5,
   "metadata": {
    "id": "kwuEjrHHG3RU"
   },
   "outputs": [],
   "source": [
    "# A conditional statement is needed to iterate over table and family because it seems there’s an omission in family assignment, which is causing errors in the classifiers.\n",
    "# Identify the IDs of samples that are unclassified\n",
    "#for i in range(max(table.shape[0], len(family)):\n",
    "#    print(i, table['id'][i], family[i])"
   ]
  },
  {
   "cell_type": "markdown",
   "metadata": {
    "collapsed": false,
    "id": "2rKtUZ5WG3RV"
   },
   "source": [
    "In this cell, the classification vector that I will use as the target attribute was created."
   ]
  },
  {
   "cell_type": "code",
   "execution_count": 6,
   "metadata": {
    "colab": {
     "base_uri": "https://localhost:8080/"
    },
    "executionInfo": {
     "elapsed": 23,
     "status": "ok",
     "timestamp": 1669252040433,
     "user": {
      "displayName": "Augusto Parisot de Gusmao Neto aparisot",
      "userId": "02973056020907879635"
     },
     "user_tz": 180
    },
    "id": "vpRPy7NJG3RX",
    "outputId": "5673b6d7-5309-457b-ae77-b76faac03fea"
   },
   "outputs": [
    {
     "data": {
      "text/plain": [
       "(164, (164, 332480))"
      ]
     },
     "execution_count": 6,
     "metadata": {},
     "output_type": "execute_result"
    }
   ],
   "source": [
    "len(family), table.shape"
   ]
  },
  {
   "cell_type": "code",
   "execution_count": 7,
   "metadata": {
    "colab": {
     "base_uri": "https://localhost:8080/",
     "height": 1000
    },
    "executionInfo": {
     "elapsed": 573,
     "status": "ok",
     "timestamp": 1669252040989,
     "user": {
      "displayName": "Augusto Parisot de Gusmao Neto aparisot",
      "userId": "02973056020907879635"
     },
     "user_tz": 180
    },
    "id": "uYNzj_05bbLu",
    "outputId": "18e7c964-88fb-4cf3-a99d-6171e1113aed"
   },
   "outputs": [
    {
     "data": {
      "text/html": [
       "<div>\n",
       "<style scoped>\n",
       "    .dataframe tbody tr th:only-of-type {\n",
       "        vertical-align: middle;\n",
       "    }\n",
       "\n",
       "    .dataframe tbody tr th {\n",
       "        vertical-align: top;\n",
       "    }\n",
       "\n",
       "    .dataframe thead th {\n",
       "        text-align: right;\n",
       "    }\n",
       "</style>\n",
       "<table border=\"1\" class=\"dataframe\">\n",
       "  <thead>\n",
       "    <tr style=\"text-align: right;\">\n",
       "      <th></th>\n",
       "      <th>5382530088351570985</th>\n",
       "      <th>2038340943568240459</th>\n",
       "      <th>-3495225287822563407</th>\n",
       "      <th>-6184167012816453708</th>\n",
       "      <th>7099738312180619692</th>\n",
       "      <th>-1286049657302595261</th>\n",
       "      <th>3682553184252715219</th>\n",
       "      <th>-461646535997385497</th>\n",
       "      <th>-448961166194655894</th>\n",
       "      <th>2291019426270880460</th>\n",
       "      <th>...</th>\n",
       "      <th>3592312483698901076</th>\n",
       "      <th>3891766720362175360</th>\n",
       "      <th>4741820939497244407</th>\n",
       "      <th>3052972953189331242</th>\n",
       "      <th>-5870216326540581167</th>\n",
       "      <th>-4588096417221536179</th>\n",
       "      <th>4819813997944399364</th>\n",
       "      <th>-8078455863905672838</th>\n",
       "      <th>id</th>\n",
       "      <th>family</th>\n",
       "    </tr>\n",
       "  </thead>\n",
       "  <tbody>\n",
       "    <tr>\n",
       "      <th>0</th>\n",
       "      <td>0.001266</td>\n",
       "      <td>0.000576</td>\n",
       "      <td>0.000508</td>\n",
       "      <td>0.000273</td>\n",
       "      <td>0.000790</td>\n",
       "      <td>0.000269</td>\n",
       "      <td>0.000269</td>\n",
       "      <td>0.000188</td>\n",
       "      <td>0.000184</td>\n",
       "      <td>0.000674</td>\n",
       "      <td>...</td>\n",
       "      <td>0.0</td>\n",
       "      <td>0.0</td>\n",
       "      <td>0.0</td>\n",
       "      <td>0.0</td>\n",
       "      <td>0.0</td>\n",
       "      <td>0.0</td>\n",
       "      <td>0.0</td>\n",
       "      <td>0.0</td>\n",
       "      <td>612</td>\n",
       "      <td>revil</td>\n",
       "    </tr>\n",
       "    <tr>\n",
       "      <th>1</th>\n",
       "      <td>0.000502</td>\n",
       "      <td>0.000301</td>\n",
       "      <td>0.000183</td>\n",
       "      <td>0.000066</td>\n",
       "      <td>0.000000</td>\n",
       "      <td>0.000021</td>\n",
       "      <td>0.000021</td>\n",
       "      <td>0.000044</td>\n",
       "      <td>0.000028</td>\n",
       "      <td>0.000000</td>\n",
       "      <td>...</td>\n",
       "      <td>0.0</td>\n",
       "      <td>0.0</td>\n",
       "      <td>0.0</td>\n",
       "      <td>0.0</td>\n",
       "      <td>0.0</td>\n",
       "      <td>0.0</td>\n",
       "      <td>0.0</td>\n",
       "      <td>0.0</td>\n",
       "      <td>613</td>\n",
       "      <td>revil</td>\n",
       "    </tr>\n",
       "    <tr>\n",
       "      <th>2</th>\n",
       "      <td>0.000567</td>\n",
       "      <td>0.000468</td>\n",
       "      <td>0.000180</td>\n",
       "      <td>0.000145</td>\n",
       "      <td>0.000000</td>\n",
       "      <td>0.000344</td>\n",
       "      <td>0.000344</td>\n",
       "      <td>0.000080</td>\n",
       "      <td>0.000078</td>\n",
       "      <td>0.000000</td>\n",
       "      <td>...</td>\n",
       "      <td>0.0</td>\n",
       "      <td>0.0</td>\n",
       "      <td>0.0</td>\n",
       "      <td>0.0</td>\n",
       "      <td>0.0</td>\n",
       "      <td>0.0</td>\n",
       "      <td>0.0</td>\n",
       "      <td>0.0</td>\n",
       "      <td>614</td>\n",
       "      <td>revil</td>\n",
       "    </tr>\n",
       "    <tr>\n",
       "      <th>3</th>\n",
       "      <td>0.189952</td>\n",
       "      <td>0.077292</td>\n",
       "      <td>0.019323</td>\n",
       "      <td>0.019435</td>\n",
       "      <td>0.000000</td>\n",
       "      <td>0.000000</td>\n",
       "      <td>0.000000</td>\n",
       "      <td>0.010718</td>\n",
       "      <td>0.000000</td>\n",
       "      <td>0.000000</td>\n",
       "      <td>...</td>\n",
       "      <td>0.0</td>\n",
       "      <td>0.0</td>\n",
       "      <td>0.0</td>\n",
       "      <td>0.0</td>\n",
       "      <td>0.0</td>\n",
       "      <td>0.0</td>\n",
       "      <td>0.0</td>\n",
       "      <td>0.0</td>\n",
       "      <td>615</td>\n",
       "      <td>revil</td>\n",
       "    </tr>\n",
       "    <tr>\n",
       "      <th>4</th>\n",
       "      <td>0.000644</td>\n",
       "      <td>0.000279</td>\n",
       "      <td>0.000251</td>\n",
       "      <td>0.000168</td>\n",
       "      <td>0.000325</td>\n",
       "      <td>0.000133</td>\n",
       "      <td>0.000133</td>\n",
       "      <td>0.000077</td>\n",
       "      <td>0.000106</td>\n",
       "      <td>0.000000</td>\n",
       "      <td>...</td>\n",
       "      <td>0.0</td>\n",
       "      <td>0.0</td>\n",
       "      <td>0.0</td>\n",
       "      <td>0.0</td>\n",
       "      <td>0.0</td>\n",
       "      <td>0.0</td>\n",
       "      <td>0.0</td>\n",
       "      <td>0.0</td>\n",
       "      <td>616</td>\n",
       "      <td>revil</td>\n",
       "    </tr>\n",
       "    <tr>\n",
       "      <th>...</th>\n",
       "      <td>...</td>\n",
       "      <td>...</td>\n",
       "      <td>...</td>\n",
       "      <td>...</td>\n",
       "      <td>...</td>\n",
       "      <td>...</td>\n",
       "      <td>...</td>\n",
       "      <td>...</td>\n",
       "      <td>...</td>\n",
       "      <td>...</td>\n",
       "      <td>...</td>\n",
       "      <td>...</td>\n",
       "      <td>...</td>\n",
       "      <td>...</td>\n",
       "      <td>...</td>\n",
       "      <td>...</td>\n",
       "      <td>...</td>\n",
       "      <td>...</td>\n",
       "      <td>...</td>\n",
       "      <td>...</td>\n",
       "      <td>...</td>\n",
       "    </tr>\n",
       "    <tr>\n",
       "      <th>159</th>\n",
       "      <td>0.000000</td>\n",
       "      <td>0.000000</td>\n",
       "      <td>0.000000</td>\n",
       "      <td>0.000000</td>\n",
       "      <td>0.000000</td>\n",
       "      <td>0.000000</td>\n",
       "      <td>0.000000</td>\n",
       "      <td>0.000000</td>\n",
       "      <td>0.000000</td>\n",
       "      <td>0.000000</td>\n",
       "      <td>...</td>\n",
       "      <td>0.0</td>\n",
       "      <td>0.0</td>\n",
       "      <td>0.0</td>\n",
       "      <td>0.0</td>\n",
       "      <td>0.0</td>\n",
       "      <td>0.0</td>\n",
       "      <td>0.0</td>\n",
       "      <td>0.0</td>\n",
       "      <td>780</td>\n",
       "      <td>goodware</td>\n",
       "    </tr>\n",
       "    <tr>\n",
       "      <th>160</th>\n",
       "      <td>0.000000</td>\n",
       "      <td>0.000000</td>\n",
       "      <td>0.000000</td>\n",
       "      <td>0.000000</td>\n",
       "      <td>0.000000</td>\n",
       "      <td>0.000000</td>\n",
       "      <td>0.000000</td>\n",
       "      <td>0.000000</td>\n",
       "      <td>0.000000</td>\n",
       "      <td>0.000000</td>\n",
       "      <td>...</td>\n",
       "      <td>0.0</td>\n",
       "      <td>0.0</td>\n",
       "      <td>0.0</td>\n",
       "      <td>0.0</td>\n",
       "      <td>0.0</td>\n",
       "      <td>0.0</td>\n",
       "      <td>0.0</td>\n",
       "      <td>0.0</td>\n",
       "      <td>781</td>\n",
       "      <td>goodware</td>\n",
       "    </tr>\n",
       "    <tr>\n",
       "      <th>161</th>\n",
       "      <td>0.000000</td>\n",
       "      <td>0.000000</td>\n",
       "      <td>0.000000</td>\n",
       "      <td>0.000000</td>\n",
       "      <td>0.000000</td>\n",
       "      <td>0.000000</td>\n",
       "      <td>0.000000</td>\n",
       "      <td>0.000000</td>\n",
       "      <td>0.000000</td>\n",
       "      <td>0.000000</td>\n",
       "      <td>...</td>\n",
       "      <td>0.0</td>\n",
       "      <td>0.0</td>\n",
       "      <td>0.0</td>\n",
       "      <td>0.0</td>\n",
       "      <td>0.0</td>\n",
       "      <td>0.0</td>\n",
       "      <td>0.0</td>\n",
       "      <td>0.0</td>\n",
       "      <td>782</td>\n",
       "      <td>goodware</td>\n",
       "    </tr>\n",
       "    <tr>\n",
       "      <th>162</th>\n",
       "      <td>0.000000</td>\n",
       "      <td>0.000000</td>\n",
       "      <td>0.000000</td>\n",
       "      <td>0.000000</td>\n",
       "      <td>0.000000</td>\n",
       "      <td>0.000000</td>\n",
       "      <td>0.000000</td>\n",
       "      <td>0.000000</td>\n",
       "      <td>0.000000</td>\n",
       "      <td>0.000000</td>\n",
       "      <td>...</td>\n",
       "      <td>0.0</td>\n",
       "      <td>0.0</td>\n",
       "      <td>0.0</td>\n",
       "      <td>0.0</td>\n",
       "      <td>0.0</td>\n",
       "      <td>0.0</td>\n",
       "      <td>0.0</td>\n",
       "      <td>0.0</td>\n",
       "      <td>783</td>\n",
       "      <td>goodware</td>\n",
       "    </tr>\n",
       "    <tr>\n",
       "      <th>163</th>\n",
       "      <td>0.000000</td>\n",
       "      <td>0.000000</td>\n",
       "      <td>0.000000</td>\n",
       "      <td>0.000000</td>\n",
       "      <td>0.000000</td>\n",
       "      <td>0.000000</td>\n",
       "      <td>0.000000</td>\n",
       "      <td>0.000000</td>\n",
       "      <td>0.000000</td>\n",
       "      <td>0.000000</td>\n",
       "      <td>...</td>\n",
       "      <td>0.0</td>\n",
       "      <td>0.0</td>\n",
       "      <td>0.0</td>\n",
       "      <td>0.0</td>\n",
       "      <td>0.0</td>\n",
       "      <td>0.0</td>\n",
       "      <td>0.0</td>\n",
       "      <td>0.0</td>\n",
       "      <td>784</td>\n",
       "      <td>goodware</td>\n",
       "    </tr>\n",
       "  </tbody>\n",
       "</table>\n",
       "<p>164 rows × 332481 columns</p>\n",
       "</div>"
      ],
      "text/plain": [
       "     5382530088351570985  2038340943568240459  -3495225287822563407  \\\n",
       "0               0.001266             0.000576              0.000508   \n",
       "1               0.000502             0.000301              0.000183   \n",
       "2               0.000567             0.000468              0.000180   \n",
       "3               0.189952             0.077292              0.019323   \n",
       "4               0.000644             0.000279              0.000251   \n",
       "..                   ...                  ...                   ...   \n",
       "159             0.000000             0.000000              0.000000   \n",
       "160             0.000000             0.000000              0.000000   \n",
       "161             0.000000             0.000000              0.000000   \n",
       "162             0.000000             0.000000              0.000000   \n",
       "163             0.000000             0.000000              0.000000   \n",
       "\n",
       "     -6184167012816453708  7099738312180619692  -1286049657302595261  \\\n",
       "0                0.000273             0.000790              0.000269   \n",
       "1                0.000066             0.000000              0.000021   \n",
       "2                0.000145             0.000000              0.000344   \n",
       "3                0.019435             0.000000              0.000000   \n",
       "4                0.000168             0.000325              0.000133   \n",
       "..                    ...                  ...                   ...   \n",
       "159              0.000000             0.000000              0.000000   \n",
       "160              0.000000             0.000000              0.000000   \n",
       "161              0.000000             0.000000              0.000000   \n",
       "162              0.000000             0.000000              0.000000   \n",
       "163              0.000000             0.000000              0.000000   \n",
       "\n",
       "     3682553184252715219  -461646535997385497  -448961166194655894  \\\n",
       "0               0.000269             0.000188             0.000184   \n",
       "1               0.000021             0.000044             0.000028   \n",
       "2               0.000344             0.000080             0.000078   \n",
       "3               0.000000             0.010718             0.000000   \n",
       "4               0.000133             0.000077             0.000106   \n",
       "..                   ...                  ...                  ...   \n",
       "159             0.000000             0.000000             0.000000   \n",
       "160             0.000000             0.000000             0.000000   \n",
       "161             0.000000             0.000000             0.000000   \n",
       "162             0.000000             0.000000             0.000000   \n",
       "163             0.000000             0.000000             0.000000   \n",
       "\n",
       "     2291019426270880460  ...  3592312483698901076  3891766720362175360  \\\n",
       "0               0.000674  ...                  0.0                  0.0   \n",
       "1               0.000000  ...                  0.0                  0.0   \n",
       "2               0.000000  ...                  0.0                  0.0   \n",
       "3               0.000000  ...                  0.0                  0.0   \n",
       "4               0.000000  ...                  0.0                  0.0   \n",
       "..                   ...  ...                  ...                  ...   \n",
       "159             0.000000  ...                  0.0                  0.0   \n",
       "160             0.000000  ...                  0.0                  0.0   \n",
       "161             0.000000  ...                  0.0                  0.0   \n",
       "162             0.000000  ...                  0.0                  0.0   \n",
       "163             0.000000  ...                  0.0                  0.0   \n",
       "\n",
       "     4741820939497244407  3052972953189331242  -5870216326540581167  \\\n",
       "0                    0.0                  0.0                   0.0   \n",
       "1                    0.0                  0.0                   0.0   \n",
       "2                    0.0                  0.0                   0.0   \n",
       "3                    0.0                  0.0                   0.0   \n",
       "4                    0.0                  0.0                   0.0   \n",
       "..                   ...                  ...                   ...   \n",
       "159                  0.0                  0.0                   0.0   \n",
       "160                  0.0                  0.0                   0.0   \n",
       "161                  0.0                  0.0                   0.0   \n",
       "162                  0.0                  0.0                   0.0   \n",
       "163                  0.0                  0.0                   0.0   \n",
       "\n",
       "     -4588096417221536179  4819813997944399364  -8078455863905672838   id  \\\n",
       "0                     0.0                  0.0                   0.0  612   \n",
       "1                     0.0                  0.0                   0.0  613   \n",
       "2                     0.0                  0.0                   0.0  614   \n",
       "3                     0.0                  0.0                   0.0  615   \n",
       "4                     0.0                  0.0                   0.0  616   \n",
       "..                    ...                  ...                   ...  ...   \n",
       "159                   0.0                  0.0                   0.0  780   \n",
       "160                   0.0                  0.0                   0.0  781   \n",
       "161                   0.0                  0.0                   0.0  782   \n",
       "162                   0.0                  0.0                   0.0  783   \n",
       "163                   0.0                  0.0                   0.0  784   \n",
       "\n",
       "       family  \n",
       "0       revil  \n",
       "1       revil  \n",
       "2       revil  \n",
       "3       revil  \n",
       "4       revil  \n",
       "..        ...  \n",
       "159  goodware  \n",
       "160  goodware  \n",
       "161  goodware  \n",
       "162  goodware  \n",
       "163  goodware  \n",
       "\n",
       "[164 rows x 332481 columns]"
      ]
     },
     "execution_count": 7,
     "metadata": {},
     "output_type": "execute_result"
    }
   ],
   "source": [
    "table['family'] = family\n",
    "table"
   ]
  },
  {
   "cell_type": "code",
   "execution_count": 8,
   "metadata": {
    "id": "8eQkCPdbG3RY"
   },
   "outputs": [],
   "source": [
    "table.drop(columns=['id'], inplace=True)"
   ]
  },
  {
   "cell_type": "code",
   "execution_count": 9,
   "metadata": {
    "colab": {
     "base_uri": "https://localhost:8080/",
     "height": 143
    },
    "executionInfo": {
     "elapsed": 15,
     "status": "ok",
     "timestamp": 1669252041606,
     "user": {
      "displayName": "Augusto Parisot de Gusmao Neto aparisot",
      "userId": "02973056020907879635"
     },
     "user_tz": 180
    },
    "id": "QNmUQB-bnj4e",
    "outputId": "8f23537b-b3b2-42c0-929d-b17c2b83cbbe"
   },
   "outputs": [
    {
     "data": {
      "text/html": [
       "<div>\n",
       "<style scoped>\n",
       "    .dataframe tbody tr th:only-of-type {\n",
       "        vertical-align: middle;\n",
       "    }\n",
       "\n",
       "    .dataframe tbody tr th {\n",
       "        vertical-align: top;\n",
       "    }\n",
       "\n",
       "    .dataframe thead th {\n",
       "        text-align: right;\n",
       "    }\n",
       "</style>\n",
       "<table border=\"1\" class=\"dataframe\">\n",
       "  <thead>\n",
       "    <tr style=\"text-align: right;\">\n",
       "      <th></th>\n",
       "      <th>5382530088351570985</th>\n",
       "      <th>2038340943568240459</th>\n",
       "      <th>-3495225287822563407</th>\n",
       "      <th>-6184167012816453708</th>\n",
       "      <th>7099738312180619692</th>\n",
       "      <th>-1286049657302595261</th>\n",
       "      <th>3682553184252715219</th>\n",
       "      <th>-461646535997385497</th>\n",
       "      <th>-448961166194655894</th>\n",
       "      <th>2291019426270880460</th>\n",
       "      <th>...</th>\n",
       "      <th>2928935586553899192</th>\n",
       "      <th>3592312483698901076</th>\n",
       "      <th>3891766720362175360</th>\n",
       "      <th>4741820939497244407</th>\n",
       "      <th>3052972953189331242</th>\n",
       "      <th>-5870216326540581167</th>\n",
       "      <th>-4588096417221536179</th>\n",
       "      <th>4819813997944399364</th>\n",
       "      <th>-8078455863905672838</th>\n",
       "      <th>family</th>\n",
       "    </tr>\n",
       "  </thead>\n",
       "  <tbody>\n",
       "  </tbody>\n",
       "</table>\n",
       "<p>0 rows × 332480 columns</p>\n",
       "</div>"
      ],
      "text/plain": [
       "Empty DataFrame\n",
       "Columns: [5382530088351570985, 2038340943568240459, -3495225287822563407, -6184167012816453708, 7099738312180619692, -1286049657302595261, 3682553184252715219, -461646535997385497, -448961166194655894, 2291019426270880460, -297560569024251075, -8905996190074744278, -1315237427267915057, -5188525141683807316, 3773855395869290340, -4621510906592543823, -8202596974628287562, -5148262554652272462, -8133837602944132976, 7703133083980727768, 3910715245136016353, -2594132058191352350, -2169862983768461284, 5346917374746308633, 670726982787678788, -1538792521363416326, -161034782514252975, 1311904431148385559, 5616953071871179185, -3383112484468941984, 7446189143099786009, 5517523452535184853, -5330231582816518795, 3858432472936085682, 4723964350056832114, -3774111487685577764, -3763717471031213220, -7145596470080406398, 6130029800608534432, -2472910566109814745, 2982656299343134580, 8573919775998881882, 3304300203562295760, -3855792943694541602, 3876523951249699560, -3803757711606045920, -1525252858283489628, 6784342686655044912, -8583060216347732973, 9031052329236943738, -6574458480311320545, -8317767318041648848, 7217855361221372117, 211883088208392243, -4620807037205796886, -1285127613834821677, -1525598790543573293, 8072733730838854822, -2603549251241780219, 8770987172000033754, -773488714113214462, -3813494002917683211, -4526080535295083740, 1441933735690784345, -7198388980354892766, 8546177281911773944, -9192315235434147667, 7834555381123449422, -3766303194803418374, -3031494614346446138, -2604287901114234401, -7508181896434785208, -2864501385420605038, -1062950286093376258, -1147701079448405128, 7123916982599696098, -7724987179205096168, -8380175126296305331, 9170284620541193480, -5828922984586700699, -857921414317532525, 3340937107112553931, -5027330367558803896, 5960247406681831219, 6103416774861709278, 535578022724690405, -9137044503316110655, -114036951133408355, -404517535061961856, 3741168614612189329, 8106860086228205543, -3440697056853227500, -8188106168119159840, -2187976281204003589, -8539301395220002505, 4264160347399079733, 2304568397752620689, 96575686774376696, 5199140029541015555, -3516487188077324065, ...]\n",
       "Index: []\n",
       "\n",
       "[0 rows x 332480 columns]"
      ]
     },
     "execution_count": 9,
     "metadata": {},
     "output_type": "execute_result"
    }
   ],
   "source": [
    "rem = table.loc[table['family'] == 'unknown']\n",
    "rem"
   ]
  },
  {
   "cell_type": "code",
   "execution_count": 10,
   "metadata": {
    "colab": {
     "base_uri": "https://localhost:8080/"
    },
    "executionInfo": {
     "elapsed": 14,
     "status": "ok",
     "timestamp": 1669252041607,
     "user": {
      "displayName": "Augusto Parisot de Gusmao Neto aparisot",
      "userId": "02973056020907879635"
     },
     "user_tz": 180
    },
    "id": "lkRCt-yNNrGw",
    "outputId": "6a86d383-4c8c-477c-b52f-1a1d58a5d6d6"
   },
   "outputs": [
    {
     "data": {
      "text/plain": [
       "[]"
      ]
     },
     "execution_count": 10,
     "metadata": {},
     "output_type": "execute_result"
    }
   ],
   "source": [
    "items_to_remove = rem.index.values.tolist()\n",
    "items_to_remove"
   ]
  },
  {
   "cell_type": "code",
   "execution_count": 11,
   "metadata": {
    "colab": {
     "base_uri": "https://localhost:8080/"
    },
    "executionInfo": {
     "elapsed": 879,
     "status": "ok",
     "timestamp": 1669252042478,
     "user": {
      "displayName": "Augusto Parisot de Gusmao Neto aparisot",
      "userId": "02973056020907879635"
     },
     "user_tz": 180
    },
    "id": "gDq2-cbDOBkE",
    "outputId": "938666f9-f2e4-4502-c31f-938d88a46dc3"
   },
   "outputs": [
    {
     "data": {
      "text/plain": [
       "False"
      ]
     },
     "execution_count": 11,
     "metadata": {},
     "output_type": "execute_result"
    }
   ],
   "source": [
    "# Removing the unknowns based on the generated list.\n",
    "table.drop(table.index[items_to_remove], inplace=True)\n",
    "'unknown' in table['family']"
   ]
  },
  {
   "cell_type": "code",
   "execution_count": 12,
   "metadata": {
    "id": "VKHgyAsK0NYt"
   },
   "outputs": [],
   "source": [
    "family_table = table.copy()\n"
   ]
  },
  {
   "cell_type": "code",
   "execution_count": 13,
   "metadata": {
    "id": "ETf_eWRQf7zJ"
   },
   "outputs": [],
   "source": [
    "#table = family_table.copy()  # This section is solely for reusing the dataset loading process."
   ]
  },
  {
   "cell_type": "code",
   "execution_count": 14,
   "metadata": {
    "id": "o1OnAvpQ4ZGk"
   },
   "outputs": [],
   "source": [
    "#table = family_table.loc[(family_table['family'] == 'goodware') | (family_table['family'] == 'clop')].copy()\n",
    "#table = family_table.loc[(family_table['family'] == 'goodware') | (family_table['family'] == 'conti')].copy()\n",
    "#table = family_table.loc[(family_table['family'] == 'goodware') | (family_table['family'] == 'egregor')].copy()\n",
    "#table = family_table.loc[(family_table['family'] == 'goodware') | (family_table['family'] == 'lockbit')].copy()\n",
    "#table = family_table.loc[(family_table['family'] == 'goodware') | (family_table['family'] == 'mountlocker')].copy()\n",
    "#table = family_table.loc[(family_table['family'] == 'goodware') | (family_table['family'] == 'netwalker')].copy()\n",
    "#table = family_table.loc[(family_table['family'] == 'goodware') | (family_table['family'] == 'revil')].copy()\n",
    "#table = family_table.loc[(family_table['family'] == 'goodware') | (family_table['family'] == 'ryuk')].copy()"
   ]
  },
  {
   "cell_type": "code",
   "execution_count": 15,
   "metadata": {
    "colab": {
     "base_uri": "https://localhost:8080/",
     "height": 393
    },
    "executionInfo": {
     "elapsed": 681595,
     "status": "ok",
     "timestamp": 1669252724068,
     "user": {
      "displayName": "Augusto Parisot de Gusmao Neto aparisot",
      "userId": "02973056020907879635"
     },
     "user_tz": 180
    },
    "id": "IVELI6-p7N2y",
    "outputId": "679251e6-83b1-4fa8-e526-58163ade6b0e"
   },
   "outputs": [
    {
     "data": {
      "text/html": [
       "<div>\n",
       "<style scoped>\n",
       "    .dataframe tbody tr th:only-of-type {\n",
       "        vertical-align: middle;\n",
       "    }\n",
       "\n",
       "    .dataframe tbody tr th {\n",
       "        vertical-align: top;\n",
       "    }\n",
       "\n",
       "    .dataframe thead th {\n",
       "        text-align: right;\n",
       "    }\n",
       "</style>\n",
       "<table border=\"1\" class=\"dataframe\">\n",
       "  <thead>\n",
       "    <tr style=\"text-align: right;\">\n",
       "      <th></th>\n",
       "      <th>5382530088351570985</th>\n",
       "      <th>2038340943568240459</th>\n",
       "      <th>-3495225287822563407</th>\n",
       "      <th>-6184167012816453708</th>\n",
       "      <th>7099738312180619692</th>\n",
       "      <th>-1286049657302595261</th>\n",
       "      <th>3682553184252715219</th>\n",
       "      <th>-461646535997385497</th>\n",
       "      <th>-448961166194655894</th>\n",
       "      <th>2291019426270880460</th>\n",
       "      <th>...</th>\n",
       "      <th>-2621629302837596472</th>\n",
       "      <th>2928935586553899192</th>\n",
       "      <th>3592312483698901076</th>\n",
       "      <th>3891766720362175360</th>\n",
       "      <th>4741820939497244407</th>\n",
       "      <th>3052972953189331242</th>\n",
       "      <th>-5870216326540581167</th>\n",
       "      <th>-4588096417221536179</th>\n",
       "      <th>4819813997944399364</th>\n",
       "      <th>-8078455863905672838</th>\n",
       "    </tr>\n",
       "  </thead>\n",
       "  <tbody>\n",
       "    <tr>\n",
       "      <th>count</th>\n",
       "      <td>164.000000</td>\n",
       "      <td>164.000000</td>\n",
       "      <td>164.000000</td>\n",
       "      <td>164.000000</td>\n",
       "      <td>164.000000</td>\n",
       "      <td>164.000000</td>\n",
       "      <td>164.000000</td>\n",
       "      <td>164.000000</td>\n",
       "      <td>164.000000</td>\n",
       "      <td>164.000000</td>\n",
       "      <td>...</td>\n",
       "      <td>164.000000</td>\n",
       "      <td>164.000000</td>\n",
       "      <td>164.000000</td>\n",
       "      <td>164.000000</td>\n",
       "      <td>164.000000</td>\n",
       "      <td>164.000000</td>\n",
       "      <td>164.000000</td>\n",
       "      <td>164.000000</td>\n",
       "      <td>164.000000</td>\n",
       "      <td>164.000000</td>\n",
       "    </tr>\n",
       "    <tr>\n",
       "      <th>mean</th>\n",
       "      <td>0.059874</td>\n",
       "      <td>0.026822</td>\n",
       "      <td>0.009577</td>\n",
       "      <td>0.006867</td>\n",
       "      <td>0.000027</td>\n",
       "      <td>0.000080</td>\n",
       "      <td>0.000079</td>\n",
       "      <td>0.003566</td>\n",
       "      <td>0.003755</td>\n",
       "      <td>0.000004</td>\n",
       "      <td>...</td>\n",
       "      <td>0.000277</td>\n",
       "      <td>0.000138</td>\n",
       "      <td>0.000046</td>\n",
       "      <td>0.000046</td>\n",
       "      <td>0.000046</td>\n",
       "      <td>0.000046</td>\n",
       "      <td>0.000046</td>\n",
       "      <td>0.001172</td>\n",
       "      <td>0.001172</td>\n",
       "      <td>0.001172</td>\n",
       "    </tr>\n",
       "    <tr>\n",
       "      <th>std</th>\n",
       "      <td>0.102656</td>\n",
       "      <td>0.049760</td>\n",
       "      <td>0.017800</td>\n",
       "      <td>0.012267</td>\n",
       "      <td>0.000138</td>\n",
       "      <td>0.000132</td>\n",
       "      <td>0.000130</td>\n",
       "      <td>0.007778</td>\n",
       "      <td>0.009899</td>\n",
       "      <td>0.000053</td>\n",
       "      <td>...</td>\n",
       "      <td>0.003545</td>\n",
       "      <td>0.001772</td>\n",
       "      <td>0.000591</td>\n",
       "      <td>0.000591</td>\n",
       "      <td>0.000591</td>\n",
       "      <td>0.000591</td>\n",
       "      <td>0.000591</td>\n",
       "      <td>0.015006</td>\n",
       "      <td>0.015006</td>\n",
       "      <td>0.015006</td>\n",
       "    </tr>\n",
       "    <tr>\n",
       "      <th>min</th>\n",
       "      <td>0.000000</td>\n",
       "      <td>0.000000</td>\n",
       "      <td>0.000000</td>\n",
       "      <td>0.000000</td>\n",
       "      <td>0.000000</td>\n",
       "      <td>0.000000</td>\n",
       "      <td>0.000000</td>\n",
       "      <td>0.000000</td>\n",
       "      <td>0.000000</td>\n",
       "      <td>0.000000</td>\n",
       "      <td>...</td>\n",
       "      <td>0.000000</td>\n",
       "      <td>0.000000</td>\n",
       "      <td>0.000000</td>\n",
       "      <td>0.000000</td>\n",
       "      <td>0.000000</td>\n",
       "      <td>0.000000</td>\n",
       "      <td>0.000000</td>\n",
       "      <td>0.000000</td>\n",
       "      <td>0.000000</td>\n",
       "      <td>0.000000</td>\n",
       "    </tr>\n",
       "    <tr>\n",
       "      <th>25%</th>\n",
       "      <td>0.000000</td>\n",
       "      <td>0.000000</td>\n",
       "      <td>0.000000</td>\n",
       "      <td>0.000000</td>\n",
       "      <td>0.000000</td>\n",
       "      <td>0.000000</td>\n",
       "      <td>0.000000</td>\n",
       "      <td>0.000000</td>\n",
       "      <td>0.000000</td>\n",
       "      <td>0.000000</td>\n",
       "      <td>...</td>\n",
       "      <td>0.000000</td>\n",
       "      <td>0.000000</td>\n",
       "      <td>0.000000</td>\n",
       "      <td>0.000000</td>\n",
       "      <td>0.000000</td>\n",
       "      <td>0.000000</td>\n",
       "      <td>0.000000</td>\n",
       "      <td>0.000000</td>\n",
       "      <td>0.000000</td>\n",
       "      <td>0.000000</td>\n",
       "    </tr>\n",
       "    <tr>\n",
       "      <th>50%</th>\n",
       "      <td>0.001313</td>\n",
       "      <td>0.000576</td>\n",
       "      <td>0.000504</td>\n",
       "      <td>0.000274</td>\n",
       "      <td>0.000000</td>\n",
       "      <td>0.000000</td>\n",
       "      <td>0.000000</td>\n",
       "      <td>0.000065</td>\n",
       "      <td>0.000079</td>\n",
       "      <td>0.000000</td>\n",
       "      <td>...</td>\n",
       "      <td>0.000000</td>\n",
       "      <td>0.000000</td>\n",
       "      <td>0.000000</td>\n",
       "      <td>0.000000</td>\n",
       "      <td>0.000000</td>\n",
       "      <td>0.000000</td>\n",
       "      <td>0.000000</td>\n",
       "      <td>0.000000</td>\n",
       "      <td>0.000000</td>\n",
       "      <td>0.000000</td>\n",
       "    </tr>\n",
       "    <tr>\n",
       "      <th>75%</th>\n",
       "      <td>0.131505</td>\n",
       "      <td>0.033662</td>\n",
       "      <td>0.012570</td>\n",
       "      <td>0.014950</td>\n",
       "      <td>0.000000</td>\n",
       "      <td>0.000124</td>\n",
       "      <td>0.000124</td>\n",
       "      <td>0.000987</td>\n",
       "      <td>0.000834</td>\n",
       "      <td>0.000000</td>\n",
       "      <td>...</td>\n",
       "      <td>0.000000</td>\n",
       "      <td>0.000000</td>\n",
       "      <td>0.000000</td>\n",
       "      <td>0.000000</td>\n",
       "      <td>0.000000</td>\n",
       "      <td>0.000000</td>\n",
       "      <td>0.000000</td>\n",
       "      <td>0.000000</td>\n",
       "      <td>0.000000</td>\n",
       "      <td>0.000000</td>\n",
       "    </tr>\n",
       "    <tr>\n",
       "      <th>max</th>\n",
       "      <td>0.584468</td>\n",
       "      <td>0.237822</td>\n",
       "      <td>0.100193</td>\n",
       "      <td>0.077740</td>\n",
       "      <td>0.000790</td>\n",
       "      <td>0.000452</td>\n",
       "      <td>0.000425</td>\n",
       "      <td>0.047637</td>\n",
       "      <td>0.064702</td>\n",
       "      <td>0.000674</td>\n",
       "      <td>...</td>\n",
       "      <td>0.045394</td>\n",
       "      <td>0.022697</td>\n",
       "      <td>0.007566</td>\n",
       "      <td>0.007566</td>\n",
       "      <td>0.007566</td>\n",
       "      <td>0.007566</td>\n",
       "      <td>0.007566</td>\n",
       "      <td>0.192169</td>\n",
       "      <td>0.192169</td>\n",
       "      <td>0.192169</td>\n",
       "    </tr>\n",
       "  </tbody>\n",
       "</table>\n",
       "<p>8 rows × 332479 columns</p>\n",
       "</div>"
      ],
      "text/plain": [
       "       5382530088351570985  2038340943568240459  -3495225287822563407  \\\n",
       "count           164.000000           164.000000            164.000000   \n",
       "mean              0.059874             0.026822              0.009577   \n",
       "std               0.102656             0.049760              0.017800   \n",
       "min               0.000000             0.000000              0.000000   \n",
       "25%               0.000000             0.000000              0.000000   \n",
       "50%               0.001313             0.000576              0.000504   \n",
       "75%               0.131505             0.033662              0.012570   \n",
       "max               0.584468             0.237822              0.100193   \n",
       "\n",
       "       -6184167012816453708  7099738312180619692  -1286049657302595261  \\\n",
       "count            164.000000           164.000000            164.000000   \n",
       "mean               0.006867             0.000027              0.000080   \n",
       "std                0.012267             0.000138              0.000132   \n",
       "min                0.000000             0.000000              0.000000   \n",
       "25%                0.000000             0.000000              0.000000   \n",
       "50%                0.000274             0.000000              0.000000   \n",
       "75%                0.014950             0.000000              0.000124   \n",
       "max                0.077740             0.000790              0.000452   \n",
       "\n",
       "       3682553184252715219  -461646535997385497  -448961166194655894  \\\n",
       "count           164.000000           164.000000           164.000000   \n",
       "mean              0.000079             0.003566             0.003755   \n",
       "std               0.000130             0.007778             0.009899   \n",
       "min               0.000000             0.000000             0.000000   \n",
       "25%               0.000000             0.000000             0.000000   \n",
       "50%               0.000000             0.000065             0.000079   \n",
       "75%               0.000124             0.000987             0.000834   \n",
       "max               0.000425             0.047637             0.064702   \n",
       "\n",
       "       2291019426270880460  ...  -2621629302837596472  2928935586553899192  \\\n",
       "count           164.000000  ...            164.000000           164.000000   \n",
       "mean              0.000004  ...              0.000277             0.000138   \n",
       "std               0.000053  ...              0.003545             0.001772   \n",
       "min               0.000000  ...              0.000000             0.000000   \n",
       "25%               0.000000  ...              0.000000             0.000000   \n",
       "50%               0.000000  ...              0.000000             0.000000   \n",
       "75%               0.000000  ...              0.000000             0.000000   \n",
       "max               0.000674  ...              0.045394             0.022697   \n",
       "\n",
       "       3592312483698901076  3891766720362175360  4741820939497244407  \\\n",
       "count           164.000000           164.000000           164.000000   \n",
       "mean              0.000046             0.000046             0.000046   \n",
       "std               0.000591             0.000591             0.000591   \n",
       "min               0.000000             0.000000             0.000000   \n",
       "25%               0.000000             0.000000             0.000000   \n",
       "50%               0.000000             0.000000             0.000000   \n",
       "75%               0.000000             0.000000             0.000000   \n",
       "max               0.007566             0.007566             0.007566   \n",
       "\n",
       "       3052972953189331242  -5870216326540581167  -4588096417221536179  \\\n",
       "count           164.000000            164.000000            164.000000   \n",
       "mean              0.000046              0.000046              0.001172   \n",
       "std               0.000591              0.000591              0.015006   \n",
       "min               0.000000              0.000000              0.000000   \n",
       "25%               0.000000              0.000000              0.000000   \n",
       "50%               0.000000              0.000000              0.000000   \n",
       "75%               0.000000              0.000000              0.000000   \n",
       "max               0.007566              0.007566              0.192169   \n",
       "\n",
       "       4819813997944399364  -8078455863905672838  \n",
       "count           164.000000            164.000000  \n",
       "mean              0.001172              0.001172  \n",
       "std               0.015006              0.015006  \n",
       "min               0.000000              0.000000  \n",
       "25%               0.000000              0.000000  \n",
       "50%               0.000000              0.000000  \n",
       "75%               0.000000              0.000000  \n",
       "max               0.192169              0.192169  \n",
       "\n",
       "[8 rows x 332479 columns]"
      ]
     },
     "execution_count": 15,
     "metadata": {},
     "output_type": "execute_result"
    }
   ],
   "source": [
    "table.describe()"
   ]
  },
  {
   "cell_type": "code",
   "execution_count": 18,
   "metadata": {
    "colab": {
     "background_save": true
    },
    "id": "WbHlY9H_2ZXa"
   },
   "outputs": [],
   "source": [
    "TestSize = 0.5"
   ]
  },
  {
   "cell_type": "code",
   "execution_count": 19,
   "metadata": {
    "colab": {
     "background_save": true
    },
    "id": "D_LkojIaG3RZ"
   },
   "outputs": [],
   "source": [
    "#classes = pandas.DataFrame(table, columns = ['family'])\n",
    "classes = list(table['family'])\n",
    "table.drop(columns=['family'], inplace=True)"
   ]
  },
  {
   "cell_type": "code",
   "execution_count": 22,
   "metadata": {},
   "outputs": [
    {
     "data": {
      "text/plain": [
       "{'revil': 92, 'goodware': 72}"
      ]
     },
     "execution_count": 22,
     "metadata": {},
     "output_type": "execute_result"
    }
   ],
   "source": [
    "family_info = {}\n",
    "for family_name in classes:\n",
    "    if family_name in family_info:\n",
    "        family_info[family_name] += 1\n",
    "    else:  \n",
    "        family_info[family_name] = 1\n",
    "family_info"
   ]
  },
  {
   "cell_type": "code",
   "execution_count": 20,
   "metadata": {
    "colab": {
     "background_save": true
    },
    "id": "2zPTPk-iG3Ra"
   },
   "outputs": [
    {
     "data": {
      "text/plain": [
       "(164, 332479)"
      ]
     },
     "execution_count": 20,
     "metadata": {},
     "output_type": "execute_result"
    }
   ],
   "source": [
    "table.shape"
   ]
  },
  {
   "cell_type": "code",
   "execution_count": 21,
   "metadata": {
    "colab": {
     "background_save": true
    },
    "id": "Yug2gflWG3Rc"
   },
   "outputs": [
    {
     "data": {
      "text/plain": [
       "164"
      ]
     },
     "execution_count": 21,
     "metadata": {},
     "output_type": "execute_result"
    }
   ],
   "source": [
    "len(classes)"
   ]
  },
  {
   "cell_type": "code",
   "execution_count": 17,
   "metadata": {
    "colab": {
     "background_save": true
    },
    "id": "AAO6WIzSG3Rf"
   },
   "outputs": [],
   "source": [
    "#table"
   ]
  },
  {
   "cell_type": "code",
   "execution_count": 16,
   "metadata": {
    "colab": {
     "background_save": true
    },
    "id": "MlVB2zf64Y_S"
   },
   "outputs": [],
   "source": [
    "#classes.count(\"lockbit\"),classes.count(\"goodware\")  #This part is only for binary classification."
   ]
  },
  {
   "cell_type": "code",
   "execution_count": 23,
   "metadata": {
    "colab": {
     "background_save": true
    },
    "id": "hzuAT2rB5IZn"
   },
   "outputs": [],
   "source": [
    "train_features, test_features, train_labels, test_labels = train_test_split(table, classes, test_size=TestSize, random_state=1)"
   ]
  },
  {
   "cell_type": "code",
   "execution_count": 24,
   "metadata": {
    "colab": {
     "background_save": true
    },
    "id": "0fSDgZTCG3Rh"
   },
   "outputs": [],
   "source": [
    "from sklearn.neighbors import KNeighborsClassifier\n",
    "from sklearn import metrics\n",
    "from sklearn.model_selection import GridSearchCV"
   ]
  },
  {
   "cell_type": "code",
   "execution_count": 25,
   "metadata": {
    "colab": {
     "background_save": true
    },
    "id": "iM2i1BwQG3Rh",
    "outputId": "390d2f95-8967-4a64-caf2-9726372e02e1"
   },
   "outputs": [
    {
     "name": "stdout",
     "output_type": "stream",
     "text": [
      "              precision    recall  f1-score   support\n",
      "\n",
      "    goodware       0.83      0.88      0.85        33\n",
      "       revil       0.91      0.88      0.90        49\n",
      "\n",
      "    accuracy                           0.88        82\n",
      "   macro avg       0.87      0.88      0.87        82\n",
      "weighted avg       0.88      0.88      0.88        82\n",
      "\n",
      "{'algorithm': 'auto', 'n_neighbors': 3, 'weights': 'uniform'}\n",
      "CPU times: user 4 μs, sys: 46 μs, total: 50 μs\n",
      "Wall time: 9.06 μs\n"
     ]
    },
    {
     "data": {
      "image/png": "[encoded data removed]",
      "text/plain": [
       "<Figure size 640x480 with 2 Axes>"
      ]
     },
     "metadata": {},
     "output_type": "display_data"
    }
   ],
   "source": [
    "# KNN com GridSearch\n",
    "param_gridKNN = {'n_neighbors': [1,3,5,7,9],'algorithm': ['auto', 'ball_tree', 'kd_tree', 'brute'], 'weights': ['uniform', 'distance']}\n",
    "modelKNNgrid = GridSearchCV(KNeighborsClassifier(), param_grid=param_gridKNN, n_jobs=-1, refit=True, cv=5, error_score='raise')\n",
    "modelKNNgrid.fit(train_features, train_labels)\n",
    "predictKNNgrid = modelKNNgrid.predict(test_features)\n",
    "print(metrics.classification_report(test_labels, predictKNNgrid))\n",
    "print(modelKNNgrid.best_params_)\n",
    "cm = metrics.confusion_matrix(test_labels, predictKNNgrid)\n",
    "metrics.ConfusionMatrixDisplay(confusion_matrix=cm, display_labels=modelKNNgrid.classes_).plot(cmap='cividis')\n",
    "%time"
   ]
  },
  {
   "cell_type": "code",
   "execution_count": 26,
   "metadata": {
    "colab": {
     "background_save": true
    },
    "id": "E9RNU1zLG3Rk"
   },
   "outputs": [],
   "source": [
    "from sklearn import svm\n",
    "from sklearn.model_selection import GridSearchCV"
   ]
  },
  {
   "cell_type": "code",
   "execution_count": 27,
   "metadata": {
    "colab": {
     "background_save": true
    },
    "id": "Jw6qvSG3G3Rl",
    "outputId": "e6b2f2b8-646a-4f81-9124-95c09a12bcc8"
   },
   "outputs": [
    {
     "name": "stdout",
     "output_type": "stream",
     "text": [
      "              precision    recall  f1-score   support\n",
      "\n",
      "    goodware       1.00      0.39      0.57        33\n",
      "       revil       0.71      1.00      0.83        49\n",
      "\n",
      "    accuracy                           0.76        82\n",
      "   macro avg       0.86      0.70      0.70        82\n",
      "weighted avg       0.83      0.76      0.72        82\n",
      "\n",
      "{'C': 1, 'kernel': 'linear'}\n",
      "CPU times: user 1e+03 ns, sys: 0 ns, total: 1e+03 ns\n",
      "Wall time: 2.15 μs\n"
     ]
    },
    {
     "data": {
      "image/png": "[encoded data removed]",
      "text/plain": [
       "<Figure size 640x480 with 2 Axes>"
      ]
     },
     "metadata": {},
     "output_type": "display_data"
    }
   ],
   "source": [
    "# SVM com GridSearch\n",
    "param_gridsvm = {'C': [1,3,5,7,10,20], 'kernel': ['linear', 'poly', 'rbf', 'sigmoid']}\n",
    "modelsvmgrid = GridSearchCV(svm.SVC(gamma='auto'), param_grid=param_gridsvm, n_jobs=-1, refit=True, cv=5, error_score='raise')\n",
    "modelsvmgrid.fit(train_features, train_labels)\n",
    "predictsvm = modelsvmgrid.predict(test_features)\n",
    "print(metrics.classification_report(test_labels, predictsvm))\n",
    "print(modelsvmgrid.best_params_)\n",
    "cm = metrics.confusion_matrix(test_labels, predictsvm)\n",
    "metrics.ConfusionMatrixDisplay(confusion_matrix=cm, display_labels=modelsvmgrid.classes_).plot(cmap='cividis')\n",
    "%time"
   ]
  },
  {
   "cell_type": "code",
   "execution_count": 28,
   "metadata": {
    "colab": {
     "background_save": true
    },
    "id": "yeetcYHnG3Rm"
   },
   "outputs": [],
   "source": [
    "from sklearn.naive_bayes import GaussianNB\n",
    "from sklearn import naive_bayes"
   ]
  },
  {
   "cell_type": "code",
   "execution_count": 29,
   "metadata": {
    "colab": {
     "background_save": true
    },
    "id": "Qs4yooprG3Rm",
    "outputId": "b16d63b3-ece7-4bc2-c793-f9709656b796"
   },
   "outputs": [
    {
     "name": "stdout",
     "output_type": "stream",
     "text": [
      "              precision    recall  f1-score   support\n",
      "\n",
      "    goodware       0.85      1.00      0.92        33\n",
      "       revil       1.00      0.88      0.93        49\n",
      "\n",
      "    accuracy                           0.93        82\n",
      "   macro avg       0.92      0.94      0.93        82\n",
      "weighted avg       0.94      0.93      0.93        82\n",
      "\n",
      "CPU times: user 1e+03 ns, sys: 1e+03 ns, total: 2 μs\n",
      "Wall time: 3.1 μs\n"
     ]
    },
    {
     "data": {
      "image/png": "[encoded data removed]",
      "text/plain": [
       "<Figure size 640x480 with 2 Axes>"
      ]
     },
     "metadata": {},
     "output_type": "display_data"
    }
   ],
   "source": [
    "# In the case of Naive Bayes, there are no hyperparameters to adjust, so using Grid Search doesn’t make sense.\n",
    "modelGNB = GaussianNB()\n",
    "modelGNB.fit(train_features, train_labels)\n",
    "previsaoGNB = modelGNB.predict(test_features)\n",
    "print(metrics.classification_report(test_labels, previsaoGNB))\n",
    "cm = metrics.confusion_matrix(test_labels, previsaoGNB)\n",
    "metrics.ConfusionMatrixDisplay(confusion_matrix=cm, display_labels=modelGNB.classes_).plot(cmap='cividis')\n",
    "%time"
   ]
  },
  {
   "cell_type": "code",
   "execution_count": 30,
   "metadata": {
    "colab": {
     "background_save": true
    },
    "id": "quzMnCa2G3Rn"
   },
   "outputs": [],
   "source": [
    "from sklearn import tree"
   ]
  },
  {
   "cell_type": "code",
   "execution_count": 31,
   "metadata": {
    "colab": {
     "background_save": true
    },
    "id": "Uu5ZwDbqG3Rn",
    "outputId": "975c3295-0222-494d-e88a-443c4f11f503"
   },
   "outputs": [
    {
     "name": "stdout",
     "output_type": "stream",
     "text": [
      "              precision    recall  f1-score   support\n",
      "\n",
      "    goodware       1.00      1.00      1.00        33\n",
      "       revil       1.00      1.00      1.00        49\n",
      "\n",
      "    accuracy                           1.00        82\n",
      "   macro avg       1.00      1.00      1.00        82\n",
      "weighted avg       1.00      1.00      1.00        82\n",
      "\n",
      "{'criterion': 'gini', 'max_depth': 4}\n",
      "CPU times: user 1e+03 ns, sys: 0 ns, total: 1e+03 ns\n",
      "Wall time: 1.91 μs\n"
     ]
    },
    {
     "data": {
      "image/png": "[encoded data removed]",
      "text/plain": [
       "<Figure size 640x480 with 2 Axes>"
      ]
     },
     "metadata": {},
     "output_type": "display_data"
    }
   ],
   "source": [
    "# Decision Tree com GridSearch\n",
    "param_gridtree = {'criterion': ['gini', 'entropy'], 'max_depth': [2,4,6,8,9,10,11,12]}\n",
    "modeltreegrid = GridSearchCV(tree.DecisionTreeClassifier(random_state=9), param_grid=param_gridtree, n_jobs=-1, refit=True, cv=5, error_score='raise')\n",
    "modeltreegrid.fit(train_features, train_labels)\n",
    "predicttree = modeltreegrid.predict(test_features)\n",
    "print(metrics.classification_report(test_labels, predicttree))\n",
    "print(modeltreegrid.best_params_)\n",
    "cm = metrics.confusion_matrix(test_labels, predicttree)\n",
    "metrics.ConfusionMatrixDisplay(confusion_matrix=cm, display_labels=modeltreegrid.classes_).plot(cmap='cividis')\n",
    "%time"
   ]
  },
  {
   "cell_type": "code",
   "execution_count": 32,
   "metadata": {
    "colab": {
     "background_save": true
    },
    "id": "BrPmSCBCG3Ro"
   },
   "outputs": [],
   "source": [
    "from sklearn.ensemble import RandomForestClassifier"
   ]
  },
  {
   "cell_type": "code",
   "execution_count": 34,
   "metadata": {
    "colab": {
     "background_save": true
    },
    "id": "giL471m-G3Rp",
    "outputId": "5e5ed432-fa75-49a8-ee82-d6932b127607"
   },
   "outputs": [
    {
     "name": "stdout",
     "output_type": "stream",
     "text": [
      "              precision    recall  f1-score   support\n",
      "\n",
      "    goodware       0.94      1.00      0.97        33\n",
      "       revil       1.00      0.96      0.98        49\n",
      "\n",
      "    accuracy                           0.98        82\n",
      "   macro avg       0.97      0.98      0.97        82\n",
      "weighted avg       0.98      0.98      0.98        82\n",
      "\n",
      "{'criterion': 'gini', 'n_estimators': 84}\n",
      "CPU times: user 1 μs, sys: 1 μs, total: 2 μs\n",
      "Wall time: 2.62 μs\n"
     ]
    },
    {
     "data": {
      "image/png": "[encoded data removed]",
      "text/plain": [
       "<Figure size 640x480 with 2 Axes>"
      ]
     },
     "metadata": {},
     "output_type": "display_data"
    }
   ],
   "source": [
    "# RandomForest com GridSearch\n",
    "\n",
    "# In the first attempt, the search stopped at 80. To find the optimal parameter, I performed a new test from 80 to 90.\n",
    "# param_gridrf = {\"n_estimators\": [1,3,5,7,10,20,30,50,60,70,80,100], 'criterion':['gini', 'entropy']} \n",
    "\n",
    "param_gridrf = {\"n_estimators\": [80,81,82,83,84,85,86,87], 'criterion':['gini', 'entropy']}\n",
    "\n",
    "modelrfgrid = GridSearchCV(RandomForestClassifier(), param_gridrf, n_jobs=-1, cv=5, error_score='raise')\n",
    "modelrfgrid.fit(train_features, train_labels)\n",
    "predictrf = modelrfgrid.predict(test_features)\n",
    "print(metrics.classification_report(test_labels, predictrf))\n",
    "print(modelrfgrid.best_params_)\n",
    "cm = metrics.confusion_matrix(test_labels, predictrf)\n",
    "metrics.ConfusionMatrixDisplay(confusion_matrix=cm, display_labels=modelrfgrid.classes_).plot(cmap='cividis')\n",
    "%time"
   ]
  },
  {
   "cell_type": "markdown",
   "metadata": {
    "id": "MYKhu3Y8d3AA"
   },
   "source": [
    "The MLP encountered a ZeroDivisionError (both when using Grid Search and without it)."
   ]
  },
  {
   "cell_type": "code",
   "execution_count": 35,
   "metadata": {
    "colab": {
     "background_save": true
    },
    "id": "mzEcpt9Finm9"
   },
   "outputs": [],
   "source": [
    "from sklearn.neural_network import MLPClassifier"
   ]
  },
  {
   "cell_type": "markdown",
   "metadata": {
    "id": "7FESqYp5UrTK"
   },
   "source": [
    "Multi-layer Perceptron is sensitive to feature scaling, so it is highly recommended to scale your data. For example, scale each attribute on the input vector X to [0, 1] or [-1, +1], or standardize it to have mean 0 and variance 1. Note that you must apply the same scaling to the test set for meaningful results. You can use StandardScaler for standardization.\n",
    "\n",
    "**The Input Layer:** the number of neurons comprising that layer is equal to the number of features (columns) in your data.\n",
    "\n",
    "**The Output Layer:** If the NN is a classifier, then it also has a single node unless softmax is used in which case the output layer has one node per class label in your model.\n",
    "\n",
    "**The Hidden Layers:** One hidden layer is sufficient for the large majority of problems. The most commonly relied on is 'the optimal size of the hidden layer is usually between the size of the input and size of the output layers'. In sum, for most problems, one could probably get decent performance (even without a second optimization step) by setting the hidden layer configuration using just two rules: (i) the number of hidden layers equals one; and (ii) the number of neurons in that layer is the mean of the neurons in the input and output layers."
   ]
  },
  {
   "cell_type": "code",
   "execution_count": 36,
   "metadata": {
    "colab": {
     "background_save": true
    },
    "id": "aWQKq1mZinkV"
   },
   "outputs": [],
   "source": [
    "# MLP com GridSearch\n",
    "\n",
    "#param_gridmlp = {'hidden_layer_sizes': [(4,4), (50,50,50), (50,100,50), (100,)],'solver':['lbfgs', 'sgd','adam'],  'activation': ['logistic', 'relu', 'identity', 'tanh'], 'alpha': [0.0001, 0.05], 'learning_rate': ['constant','adaptive']}\n",
    "#modelmlpgrid = GridSearchCV(MLPClassifier(hidden_layer_sizes=(4,4), max_iter=50000000, tol=0.0001, random_state = 12, verbose = True), param_gridmlp, n_jobs=-1, cv=5, error_score='raise')\n",
    "#modelmlpgrid.fit(previsores_treinamento, classe_treinamento)\n",
    "#predictmlp = modelmlpgrid.predict(previsores_teste)\n",
    "#print(metrics.classification_report(classe_teste, predictmlp))\n",
    "#print(modelmlpgrid.best_params_)\n",
    "#cm = metrics.confusion_matrix(classe_teste, predictmlp)\n",
    "#metrics.ConfusionMatrixDisplay(confusion_matrix=cm, display_labels=modelmlpgrid.classes_).plot(cmap='cividis')\n",
    "#%time"
   ]
  },
  {
   "cell_type": "code",
   "execution_count": 37,
   "metadata": {
    "colab": {
     "background_save": true
    },
    "id": "4upJUBNiwDKV",
    "outputId": "d7e55b31-ad6f-49cd-9188-6e22a3266806"
   },
   "outputs": [
    {
     "name": "stdout",
     "output_type": "stream",
     "text": [
      "Iteration 1, loss = 0.69471238\n",
      "Iteration 2, loss = 0.69304719\n",
      "Iteration 3, loss = 0.69196450\n",
      "Iteration 4, loss = 0.69087277\n",
      "Iteration 5, loss = 0.68971639\n",
      "Iteration 6, loss = 0.68866601\n",
      "Iteration 7, loss = 0.68761835\n",
      "Iteration 8, loss = 0.68650391\n",
      "Iteration 9, loss = 0.68530507\n",
      "Iteration 10, loss = 0.68401718\n",
      "Iteration 11, loss = 0.68263376\n",
      "Iteration 12, loss = 0.68096537\n",
      "Training loss did not improve more than tol=0.010000 for 10 consecutive epochs. Stopping.\n",
      "              precision    recall  f1-score   support\n",
      "\n",
      "    goodware       0.00      0.00      0.00        33\n",
      "       revil       0.60      1.00      0.75        49\n",
      "\n",
      "    accuracy                           0.60        82\n",
      "   macro avg       0.30      0.50      0.37        82\n",
      "weighted avg       0.36      0.60      0.45        82\n",
      "\n",
      "CPU times: user 4 μs, sys: 20 μs, total: 24 μs\n",
      "Wall time: 4.05 μs\n"
     ]
    },
    {
     "name": "stderr",
     "output_type": "stream",
     "text": [
      "/Users/hanhf/anaconda3/lib/python3.12/site-packages/sklearn/metrics/_classification.py:1509: UndefinedMetricWarning: Precision is ill-defined and being set to 0.0 in labels with no predicted samples. Use `zero_division` parameter to control this behavior.\n",
      "  _warn_prf(average, modifier, f\"{metric.capitalize()} is\", len(result))\n",
      "/Users/hanhf/anaconda3/lib/python3.12/site-packages/sklearn/metrics/_classification.py:1509: UndefinedMetricWarning: Precision is ill-defined and being set to 0.0 in labels with no predicted samples. Use `zero_division` parameter to control this behavior.\n",
      "  _warn_prf(average, modifier, f\"{metric.capitalize()} is\", len(result))\n",
      "/Users/hanhf/anaconda3/lib/python3.12/site-packages/sklearn/metrics/_classification.py:1509: UndefinedMetricWarning: Precision is ill-defined and being set to 0.0 in labels with no predicted samples. Use `zero_division` parameter to control this behavior.\n",
      "  _warn_prf(average, modifier, f\"{metric.capitalize()} is\", len(result))\n"
     ]
    },
    {
     "data": {
      "image/png": "[encoded data removed]",
      "text/plain": [
       "<Figure size 640x480 with 2 Axes>"
      ]
     },
     "metadata": {},
     "output_type": "display_data"
    }
   ],
   "source": [
    "modelmlp = MLPClassifier(hidden_layer_sizes=(50,50,50), max_iter=50000000, tol=0.01, random_state = 12, verbose = True, activation='relu', solver='adam')\n",
    "modelmlp.fit(train_features, train_labels)\n",
    "predictmlp = modelmlp.predict(test_features)\n",
    "print(metrics.classification_report(test_labels, predictmlp))\n",
    "cm = metrics.confusion_matrix(test_labels, predictmlp)\n",
    "metrics.ConfusionMatrixDisplay(confusion_matrix=cm, display_labels=modelmlp.classes_).plot(cmap='cividis')\n",
    "%time"
   ]
  },
  {
   "cell_type": "markdown",
   "metadata": {
    "id": "WfslTKC6vDpa"
   },
   "source": [
    "#Provide an overall summary of the classifications performed without the Standard Scaler for the API call approach"
   ]
  },
  {
   "cell_type": "code",
   "execution_count": 38,
   "metadata": {
    "colab": {
     "background_save": true
    },
    "id": "it0_JpIXMObs"
   },
   "outputs": [],
   "source": [
    "from sklearn.preprocessing import StandardScaler"
   ]
  },
  {
   "cell_type": "code",
   "execution_count": 39,
   "metadata": {
    "colab": {
     "background_save": true
    },
    "id": "ofFObLj9MU_g",
    "outputId": "8515d85f-aed0-4b82-8cb9-ffa72c0d8bd1"
   },
   "outputs": [
    {
     "data": {
      "text/plain": [
       "array([[-0.57266975, -0.52906978, -0.51104383, ..., -0.07832604,\n",
       "        -0.07832604, -0.07832604],\n",
       "       [-0.58013561, -0.5346137 , -0.52936217, ..., -0.07832604,\n",
       "        -0.07832604, -0.07832604],\n",
       "       [-0.57950228, -0.53124103, -0.52953827, ..., -0.07832604,\n",
       "        -0.07832604, -0.07832604],\n",
       "       ...,\n",
       "       [-0.58504013, -0.54068375, -0.53969099, ..., -0.07832604,\n",
       "        -0.07832604, -0.07832604],\n",
       "       [-0.58504013, -0.54068375, -0.53969099, ..., -0.07832604,\n",
       "        -0.07832604, -0.07832604],\n",
       "       [-0.58504013, -0.54068375, -0.53969099, ..., -0.07832604,\n",
       "        -0.07832604, -0.07832604]])"
      ]
     },
     "execution_count": 39,
     "metadata": {},
     "output_type": "execute_result"
    }
   ],
   "source": [
    "sc = StandardScaler()\n",
    "table_sc = sc.fit_transform(table)\n",
    "table_sc"
   ]
  },
  {
   "cell_type": "code",
   "execution_count": 41,
   "metadata": {
    "colab": {
     "background_save": true
    },
    "id": "9ND0lLyC3-Bg"
   },
   "outputs": [],
   "source": [
    "from sklearn.model_selection import train_test_split\n",
    "train_features_sc, test_features_sc, train_labels, test_labels = train_test_split(table_sc, classes, test_size=TestSize, random_state=1)"
   ]
  },
  {
   "cell_type": "code",
   "execution_count": 42,
   "metadata": {
    "colab": {
     "background_save": true
    },
    "id": "ktYqOLW_3-Bh"
   },
   "outputs": [],
   "source": [
    "from sklearn.neighbors import KNeighborsClassifier\n",
    "from sklearn import metrics"
   ]
  },
  {
   "cell_type": "markdown",
   "metadata": {
    "id": "8AXOKxMD_R_i"
   },
   "source": [
    "#Insert the Grid Search for the classifiers here, following the same approach used above"
   ]
  },
  {
   "cell_type": "code",
   "execution_count": 43,
   "metadata": {
    "colab": {
     "background_save": true
    },
    "id": "khVpKiByGhHK",
    "outputId": "3cab9f1a-f0e2-496e-e077-4323fbeaf9d0"
   },
   "outputs": [
    {
     "name": "stdout",
     "output_type": "stream",
     "text": [
      "              precision    recall  f1-score   support\n",
      "\n",
      "    goodware       0.44      0.97      0.60        33\n",
      "       revil       0.89      0.16      0.28        49\n",
      "\n",
      "    accuracy                           0.49        82\n",
      "   macro avg       0.66      0.57      0.44        82\n",
      "weighted avg       0.71      0.49      0.41        82\n",
      "\n",
      "{'algorithm': 'auto', 'n_neighbors': 1, 'weights': 'uniform'}\n",
      "CPU times: user 4 μs, sys: 45 μs, total: 49 μs\n",
      "Wall time: 7.15 μs\n"
     ]
    },
    {
     "data": {
      "image/png": "[encoded data removed]",
      "text/plain": [
       "<Figure size 640x480 with 2 Axes>"
      ]
     },
     "metadata": {},
     "output_type": "display_data"
    }
   ],
   "source": [
    "# KNN com Grid Search CV com StandardScaler\n",
    "param_gridKNN_sc = {'n_neighbors': [1,3,5,7,9],'algorithm': ['auto', 'ball_tree', 'kd_tree', 'brute'], 'weights': ['uniform', 'distance']}\n",
    "modelKNNgrid_sc = GridSearchCV(KNeighborsClassifier(), param_grid=param_gridKNN_sc, n_jobs=-1, refit=True, cv=5, error_score='raise')\n",
    "modelKNNgrid_sc.fit(train_features_sc, train_labels)\n",
    "predictKNNgrid_sc = modelKNNgrid_sc.predict(test_features_sc)\n",
    "print(metrics.classification_report(test_labels, predictKNNgrid_sc))\n",
    "print(modelKNNgrid_sc.best_params_)\n",
    "cm = metrics.confusion_matrix(test_labels, predictKNNgrid_sc)\n",
    "metrics.ConfusionMatrixDisplay(confusion_matrix=cm, display_labels=modelKNNgrid_sc.classes_).plot(cmap='cividis')\n",
    "%time"
   ]
  },
  {
   "cell_type": "code",
   "execution_count": 44,
   "metadata": {
    "colab": {
     "background_save": true
    },
    "id": "2J1m26RhWjfr"
   },
   "outputs": [],
   "source": [
    "from sklearn import svm"
   ]
  },
  {
   "cell_type": "code",
   "execution_count": 45,
   "metadata": {
    "colab": {
     "background_save": true
    },
    "id": "0xaaGv5TGXc2",
    "outputId": "ec9f8e44-797e-46e0-e41c-bd418b705816"
   },
   "outputs": [
    {
     "name": "stdout",
     "output_type": "stream",
     "text": [
      "              precision    recall  f1-score   support\n",
      "\n",
      "    goodware       0.56      0.97      0.71        33\n",
      "       revil       0.96      0.49      0.65        49\n",
      "\n",
      "    accuracy                           0.68        82\n",
      "   macro avg       0.76      0.73      0.68        82\n",
      "weighted avg       0.80      0.68      0.67        82\n",
      "\n",
      "{'C': 1, 'kernel': 'linear'}\n",
      "CPU times: user 1e+03 ns, sys: 1 μs, total: 2 μs\n",
      "Wall time: 2.86 μs\n"
     ]
    },
    {
     "data": {
      "image/png": "[encoded data removed]",
      "text/plain": [
       "<Figure size 640x480 with 2 Axes>"
      ]
     },
     "metadata": {},
     "output_type": "display_data"
    }
   ],
   "source": [
    "# SVM com Grid Search CV StandardScaler\n",
    "param_gridsvm_sc = {'C': [1,3,5,7,10,20], 'kernel': ['linear', 'poly', 'rbf', 'sigmoid']}\n",
    "modelsvmgrid_sc = GridSearchCV(svm.SVC(gamma='auto'), param_grid=param_gridsvm_sc, n_jobs=-1, refit=True, cv=5, error_score='raise')\n",
    "modelsvmgrid_sc.fit(train_features_sc, train_labels)\n",
    "predictsvm_sc = modelsvmgrid_sc.predict(test_features_sc)\n",
    "print(metrics.classification_report(test_labels, predictsvm_sc))\n",
    "print(modelsvmgrid_sc.best_params_)\n",
    "cm = metrics.confusion_matrix(test_labels, predictsvm_sc)\n",
    "metrics.ConfusionMatrixDisplay(confusion_matrix=cm, display_labels=modelsvmgrid_sc.classes_).plot(cmap='cividis')\n",
    "%time"
   ]
  },
  {
   "cell_type": "code",
   "execution_count": 46,
   "metadata": {
    "colab": {
     "background_save": true
    },
    "id": "KOipHJGlYN50"
   },
   "outputs": [],
   "source": [
    "from sklearn.naive_bayes import GaussianNB\n",
    "from sklearn import naive_bayes"
   ]
  },
  {
   "cell_type": "code",
   "execution_count": 47,
   "metadata": {
    "colab": {
     "background_save": true
    },
    "id": "N_k_mHJ6GXZa",
    "outputId": "1e4849ae-3e7a-4fab-fdcb-f5e17249bfea"
   },
   "outputs": [
    {
     "name": "stdout",
     "output_type": "stream",
     "text": [
      "              precision    recall  f1-score   support\n",
      "\n",
      "    goodware       0.89      0.94      0.91        33\n",
      "       revil       0.96      0.92      0.94        49\n",
      "\n",
      "    accuracy                           0.93        82\n",
      "   macro avg       0.92      0.93      0.92        82\n",
      "weighted avg       0.93      0.93      0.93        82\n",
      "\n",
      "CPU times: user 1e+03 ns, sys: 0 ns, total: 1e+03 ns\n",
      "Wall time: 2.15 μs\n"
     ]
    },
    {
     "data": {
      "image/png": "[encoded data removed]",
      "text/plain": [
       "<Figure size 640x480 with 2 Axes>"
      ]
     },
     "metadata": {},
     "output_type": "display_data"
    }
   ],
   "source": [
    "# Naive Bayes com StandardScaler\n",
    "# No caso do Naive Bayes, não há hiperparâmetros para manipular, logo não faz sentido utilizar GridSearch\n",
    "modelGNB_sc = GaussianNB()\n",
    "modelGNB_sc.fit(train_features_sc, train_labels)\n",
    "previsaoGNB_sc = modelGNB_sc.predict(test_features_sc)\n",
    "print(metrics.classification_report(test_labels, previsaoGNB_sc))\n",
    "cm = metrics.confusion_matrix(test_labels, previsaoGNB_sc)\n",
    "metrics.ConfusionMatrixDisplay(confusion_matrix=cm, display_labels=modelGNB_sc.classes_).plot(cmap='cividis')\n",
    "%time"
   ]
  },
  {
   "cell_type": "code",
   "execution_count": 48,
   "metadata": {
    "colab": {
     "background_save": true
    },
    "id": "QZr9eZVeYP14"
   },
   "outputs": [],
   "source": [
    "from sklearn import tree"
   ]
  },
  {
   "cell_type": "code",
   "execution_count": 49,
   "metadata": {
    "colab": {
     "background_save": true
    },
    "id": "azI_0yMbGXXO",
    "outputId": "bce52312-42a2-4cde-9cac-6a2c4d05ea2f"
   },
   "outputs": [
    {
     "name": "stdout",
     "output_type": "stream",
     "text": [
      "              precision    recall  f1-score   support\n",
      "\n",
      "    goodware       1.00      1.00      1.00        33\n",
      "       revil       1.00      1.00      1.00        49\n",
      "\n",
      "    accuracy                           1.00        82\n",
      "   macro avg       1.00      1.00      1.00        82\n",
      "weighted avg       1.00      1.00      1.00        82\n",
      "\n",
      "{'criterion': 'gini', 'max_depth': 4}\n",
      "CPU times: user 1e+03 ns, sys: 1e+03 ns, total: 2 μs\n",
      "Wall time: 2.15 μs\n"
     ]
    },
    {
     "data": {
      "image/png": "[encoded data removed]",
      "text/plain": [
       "<Figure size 640x480 with 2 Axes>"
      ]
     },
     "metadata": {},
     "output_type": "display_data"
    }
   ],
   "source": [
    "# Decision Tree com Grid Search CV StandardScaler\n",
    "param_gridtree_sc = {'criterion': ['gini', 'entropy'], 'max_depth': [2,4,6,8,9,10,11,12]}\n",
    "modeltreegrid_sc = GridSearchCV(tree.DecisionTreeClassifier(random_state=9), param_grid=param_gridtree_sc, n_jobs=-1, refit=True, cv=5, error_score='raise')\n",
    "modeltreegrid_sc.fit(train_features_sc, train_labels)\n",
    "predicttree_sc = modeltreegrid_sc.predict(test_features_sc)\n",
    "print(metrics.classification_report(test_labels, predicttree_sc))\n",
    "print(modeltreegrid_sc.best_params_)\n",
    "cm = metrics.confusion_matrix(test_labels, predicttree_sc)\n",
    "metrics.ConfusionMatrixDisplay(confusion_matrix=cm, display_labels=modeltreegrid_sc.classes_).plot(cmap='cividis')\n",
    "%time"
   ]
  },
  {
   "cell_type": "code",
   "execution_count": 50,
   "metadata": {
    "colab": {
     "background_save": true
    },
    "id": "9Yldtp-jYRwD"
   },
   "outputs": [],
   "source": [
    "from sklearn.ensemble import RandomForestClassifier"
   ]
  },
  {
   "cell_type": "code",
   "execution_count": 51,
   "metadata": {
    "colab": {
     "background_save": true
    },
    "id": "GJPJgaEwsrj0",
    "outputId": "38e48a3c-9f48-4620-80e8-721aa6626c61"
   },
   "outputs": [
    {
     "name": "stdout",
     "output_type": "stream",
     "text": [
      "              precision    recall  f1-score   support\n",
      "\n",
      "    goodware       0.97      1.00      0.99        33\n",
      "       revil       1.00      0.98      0.99        49\n",
      "\n",
      "    accuracy                           0.99        82\n",
      "   macro avg       0.99      0.99      0.99        82\n",
      "weighted avg       0.99      0.99      0.99        82\n",
      "\n",
      "{'criterion': 'entropy', 'n_estimators': 80}\n",
      "CPU times: user 1e+03 ns, sys: 1e+03 ns, total: 2 μs\n",
      "Wall time: 1.91 μs\n"
     ]
    },
    {
     "data": {
      "image/png": "[encoded data removed]",
      "text/plain": [
       "<Figure size 640x480 with 2 Axes>"
      ]
     },
     "metadata": {},
     "output_type": "display_data"
    }
   ],
   "source": [
    "# Random Forest com Grid Search CV StandardScaler\n",
    "\n",
    "#param_gridrf_sc = {\"n_estimators\": [1,3,5,7,10,20,30,50,60,70,80,100], 'criterion':['gini', 'entropy']} # Na primeira tentativa, a busca parou no 80. Para achar o parametro ótimo, fiz novo teste desde 80 até 90\n",
    "\n",
    "param_gridrf_sc = {\"n_estimators\": [80,81,82,83,84,85,86,87], 'criterion':['gini', 'entropy']}\n",
    "\n",
    "modelrfgrid_sc = GridSearchCV(RandomForestClassifier(), param_gridrf_sc, n_jobs=-1, cv=5, error_score='raise')\n",
    "modelrfgrid_sc.fit(train_features_sc, train_labels)\n",
    "predictrf_sc = modelrfgrid_sc.predict(test_features_sc)\n",
    "print(metrics.classification_report(test_labels, predictrf_sc))\n",
    "print(modelrfgrid_sc.best_params_)\n",
    "cm = metrics.confusion_matrix(test_labels, predictrf_sc)\n",
    "metrics.ConfusionMatrixDisplay(confusion_matrix=cm, display_labels=modelrfgrid_sc.classes_).plot(cmap='cividis')\n",
    "%time"
   ]
  },
  {
   "cell_type": "code",
   "execution_count": 52,
   "metadata": {
    "colab": {
     "background_save": true
    },
    "id": "lJydp5sMYWt9"
   },
   "outputs": [],
   "source": [
    "from sklearn.neural_network import MLPClassifier"
   ]
  },
  {
   "cell_type": "code",
   "execution_count": 53,
   "metadata": {
    "colab": {
     "background_save": true
    },
    "id": "wbdlkRuWsxUb",
    "outputId": "e332c856-8052-45f9-c8c0-5caf8459c3ab"
   },
   "outputs": [
    {
     "name": "stdout",
     "output_type": "stream",
     "text": [
      "Iteration 1, loss = 0.77130021\n",
      "Iteration 2, loss = 6.65345686\n",
      "Iteration 3, loss = 2.03181598\n",
      "Iteration 4, loss = 10.11101845\n",
      "Iteration 5, loss = 10.11118476\n",
      "Iteration 6, loss = 3.79072352\n",
      "Iteration 7, loss = 11.83627483\n",
      "Iteration 8, loss = 11.93381682\n",
      "Iteration 9, loss = 1.75686913\n",
      "Iteration 10, loss = 10.11191504\n",
      "Iteration 11, loss = 10.11203561\n",
      "Iteration 12, loss = 10.11214575\n",
      "Training loss did not improve more than tol=0.010000 for 10 consecutive epochs. Stopping.\n",
      "              precision    recall  f1-score   support\n",
      "\n",
      "    goodware       0.65      0.97      0.78        33\n",
      "       revil       0.97      0.65      0.78        49\n",
      "\n",
      "    accuracy                           0.78        82\n",
      "   macro avg       0.81      0.81      0.78        82\n",
      "weighted avg       0.84      0.78      0.78        82\n",
      "\n",
      "CPU times: user 3 μs, sys: 14 μs, total: 17 μs\n",
      "Wall time: 7.15 μs\n"
     ]
    },
    {
     "data": {
      "image/png": "[encoded data removed]",
      "text/plain": [
       "<Figure size 640x480 with 2 Axes>"
      ]
     },
     "metadata": {},
     "output_type": "display_data"
    }
   ],
   "source": [
    "# MLP com Grid Search CV StandardScaler\n",
    "modelmlp_sc = MLPClassifier(hidden_layer_sizes=(500,200,10), max_iter=50000000, tol=0.01, random_state = 12, verbose = True, activation='relu', solver='adam')\n",
    "modelmlp_sc.fit(train_features_sc, train_labels)\n",
    "predictmlp_sc = modelmlp_sc.predict(test_features_sc)\n",
    "print(metrics.classification_report(test_labels, predictmlp_sc))\n",
    "cm = metrics.confusion_matrix(test_labels, predictmlp_sc)\n",
    "metrics.ConfusionMatrixDisplay(confusion_matrix=cm, display_labels=modelmlp_sc.classes_).plot(cmap='cividis')\n",
    "%time"
   ]
  },
  {
   "cell_type": "code",
   "execution_count": 54,
   "metadata": {
    "colab": {
     "background_save": true
    },
    "id": "IyJ4ghWknPZA"
   },
   "outputs": [],
   "source": [
    "from sklearn.decomposition import PCA"
   ]
  },
  {
   "cell_type": "code",
   "execution_count": 55,
   "metadata": {
    "colab": {
     "background_save": true
    },
    "id": "IWxXy_MBnMzl"
   },
   "outputs": [],
   "source": [
    "pca = PCA(n_components=100) # da pra fazer Grid Search com PCA? Qual a quantidade ótima de parametros para melhorar a classificação?\n",
    "table_pca = pca.fit_transform(table_sc)"
   ]
  },
  {
   "cell_type": "code",
   "execution_count": null,
   "metadata": {
    "colab": {
     "background_save": true
    },
    "id": "rFwxXwqRKgnp"
   },
   "outputs": [],
   "source": [
    "#df_pca = pandas.DataFrame(table_pca)\n",
    "#df_pca"
   ]
  },
  {
   "cell_type": "code",
   "execution_count": 56,
   "metadata": {
    "colab": {
     "background_save": true
    },
    "id": "_Yc-ajtpp77n"
   },
   "outputs": [],
   "source": [
    "train_features_pca, test_features_pca, train_labels, test_labels = train_test_split(table_pca, classes, test_size=TestSize, random_state=1)"
   ]
  },
  {
   "cell_type": "code",
   "execution_count": 57,
   "metadata": {
    "colab": {
     "background_save": true
    },
    "id": "fYEdLTxG3Jl8",
    "outputId": "1151f1eb-4dc0-45b7-972e-51db7a0ebba0"
   },
   "outputs": [
    {
     "name": "stdout",
     "output_type": "stream",
     "text": [
      "              precision    recall  f1-score   support\n",
      "\n",
      "    goodware       0.45      0.85      0.59        33\n",
      "       revil       0.75      0.31      0.43        49\n",
      "\n",
      "    accuracy                           0.52        82\n",
      "   macro avg       0.60      0.58      0.51        82\n",
      "weighted avg       0.63      0.52      0.50        82\n",
      "\n",
      "{'algorithm': 'auto', 'n_neighbors': 1, 'weights': 'uniform'}\n",
      "CPU times: user 1e+03 ns, sys: 0 ns, total: 1e+03 ns\n",
      "Wall time: 2.15 μs\n"
     ]
    },
    {
     "data": {
      "image/png": "[encoded data removed]",
      "text/plain": [
       "<Figure size 640x480 with 2 Axes>"
      ]
     },
     "metadata": {},
     "output_type": "display_data"
    }
   ],
   "source": [
    "# KNN com GrideSarch e PCA\n",
    "param_gridKNN_PCA = {'n_neighbors': [1,3,5,7,9],'algorithm': ['auto', 'ball_tree', 'kd_tree', 'brute'], 'weights': ['uniform', 'distance']}\n",
    "modelKNNgrid_PCA = GridSearchCV(KNeighborsClassifier(), param_grid=param_gridKNN_PCA, n_jobs=-1, refit=True, cv=5, error_score='raise')\n",
    "modelKNNgrid_PCA.fit(train_features_pca, train_labels)\n",
    "predictKNNgrid_PCA = modelKNNgrid_PCA.predict(test_features_pca)\n",
    "print(metrics.classification_report(test_labels, predictKNNgrid_PCA))\n",
    "print(modelKNNgrid_PCA.best_params_)\n",
    "cm = metrics.confusion_matrix(test_labels, predictKNNgrid_PCA)\n",
    "metrics.ConfusionMatrixDisplay(confusion_matrix=cm, display_labels=modelKNNgrid_PCA.classes_).plot(cmap='cividis')\n",
    "%time"
   ]
  },
  {
   "cell_type": "code",
   "execution_count": 58,
   "metadata": {
    "colab": {
     "background_save": true
    },
    "id": "mXsZ0r8BYpH0",
    "outputId": "98d4c3c4-134e-44cf-8a72-bc99661a7079"
   },
   "outputs": [
    {
     "name": "stdout",
     "output_type": "stream",
     "text": [
      "              precision    recall  f1-score   support\n",
      "\n",
      "    goodware       0.95      0.61      0.74        33\n",
      "       revil       0.79      0.98      0.87        49\n",
      "\n",
      "    accuracy                           0.83        82\n",
      "   macro avg       0.87      0.79      0.81        82\n",
      "weighted avg       0.85      0.83      0.82        82\n",
      "\n",
      "{'C': 1, 'kernel': 'rbf'}\n",
      "CPU times: user 1e+03 ns, sys: 1e+03 ns, total: 2 μs\n",
      "Wall time: 3.1 μs\n"
     ]
    },
    {
     "data": {
      "image/png": "[encoded data removed]",
      "text/plain": [
       "<Figure size 640x480 with 2 Axes>"
      ]
     },
     "metadata": {},
     "output_type": "display_data"
    }
   ],
   "source": [
    "# SVM com Grid Search CV PCA\n",
    "param_gridsvm_PCA = {'C': [1,3,5,7,10,20], 'kernel': ['linear', 'poly', 'rbf', 'sigmoid']}\n",
    "modelsvmgrid_PCA = GridSearchCV(svm.SVC(gamma='auto'), param_grid=param_gridsvm_PCA, n_jobs=-1, refit=True, cv=5, error_score='raise')\n",
    "modelsvmgrid_PCA.fit(train_features_pca, train_labels)\n",
    "predictsvm_pca = modelsvmgrid_PCA.predict(test_features_pca)\n",
    "print(metrics.classification_report(test_labels, predictsvm_pca))\n",
    "print(modelsvmgrid_PCA.best_params_)\n",
    "cm = metrics.confusion_matrix(test_labels, predictsvm_pca)\n",
    "metrics.ConfusionMatrixDisplay(confusion_matrix=cm, display_labels=modelsvmgrid_PCA.classes_).plot(cmap='cividis')\n",
    "%time"
   ]
  },
  {
   "cell_type": "code",
   "execution_count": 59,
   "metadata": {
    "colab": {
     "background_save": true
    },
    "id": "M7p8waN3Y-1X",
    "outputId": "899673d7-a7a4-441a-e0f9-824f5b5a1022"
   },
   "outputs": [
    {
     "name": "stdout",
     "output_type": "stream",
     "text": [
      "              precision    recall  f1-score   support\n",
      "\n",
      "    goodware       0.97      0.88      0.92        33\n",
      "       revil       0.92      0.98      0.95        49\n",
      "\n",
      "    accuracy                           0.94        82\n",
      "   macro avg       0.94      0.93      0.94        82\n",
      "weighted avg       0.94      0.94      0.94        82\n",
      "\n",
      "CPU times: user 1e+03 ns, sys: 1e+03 ns, total: 2 μs\n",
      "Wall time: 4.29 μs\n"
     ]
    },
    {
     "data": {
      "image/png": "[encoded data removed]",
      "text/plain": [
       "<Figure size 640x480 with 2 Axes>"
      ]
     },
     "metadata": {},
     "output_type": "display_data"
    }
   ],
   "source": [
    "# Naive Bayes com PCA\n",
    "# No caso do Naive Bayes, não há hiperparâmetros para manipular, logo não faz sentido utilizar GridSearch\n",
    "modelGNB_PCA = GaussianNB()\n",
    "modelGNB_PCA.fit(train_features_pca, train_labels)\n",
    "previsaoGNB_PCA = modelGNB_PCA.predict(test_features_pca)\n",
    "print(metrics.classification_report(test_labels, previsaoGNB_PCA))\n",
    "cm = metrics.confusion_matrix(test_labels, previsaoGNB_PCA)\n",
    "metrics.ConfusionMatrixDisplay(confusion_matrix=cm, display_labels=modelGNB_PCA.classes_).plot(cmap='cividis')\n",
    "%time"
   ]
  },
  {
   "cell_type": "code",
   "execution_count": 60,
   "metadata": {
    "colab": {
     "background_save": true
    },
    "id": "W2Be5UpIZaj9",
    "outputId": "95bb788d-5252-4d7a-87dd-caf7924b45b2"
   },
   "outputs": [
    {
     "name": "stdout",
     "output_type": "stream",
     "text": [
      "              precision    recall  f1-score   support\n",
      "\n",
      "    goodware       1.00      1.00      1.00        33\n",
      "       revil       1.00      1.00      1.00        49\n",
      "\n",
      "    accuracy                           1.00        82\n",
      "   macro avg       1.00      1.00      1.00        82\n",
      "weighted avg       1.00      1.00      1.00        82\n",
      "\n",
      "{'criterion': 'gini', 'max_depth': 4}\n",
      "CPU times: user 1e+03 ns, sys: 0 ns, total: 1e+03 ns\n",
      "Wall time: 3.1 μs\n"
     ]
    },
    {
     "data": {
      "image/png": "[encoded data removed]",
      "text/plain": [
       "<Figure size 640x480 with 2 Axes>"
      ]
     },
     "metadata": {},
     "output_type": "display_data"
    }
   ],
   "source": [
    "# Decision Tree com Grid Search CV e PCA\n",
    "param_gridtree_PCA = {'criterion': ['gini', 'entropy'], 'max_depth': [2,4,6,8,9,10,11,12]}\n",
    "modeltreegrid_PCA = GridSearchCV(tree.DecisionTreeClassifier(random_state=9), param_grid=param_gridtree_PCA, n_jobs=-1, refit=True, cv=5, error_score='raise')\n",
    "modeltreegrid_PCA.fit(train_features_sc, train_labels)\n",
    "predicttree_PCA = modeltreegrid_PCA.predict(test_features_sc)\n",
    "print(metrics.classification_report(test_labels, predicttree_PCA))\n",
    "print(modeltreegrid_PCA.best_params_)\n",
    "cm = metrics.confusion_matrix(test_labels, predicttree_PCA)\n",
    "metrics.ConfusionMatrixDisplay(confusion_matrix=cm, display_labels=modeltreegrid_PCA.classes_).plot(cmap='cividis')\n",
    "%time"
   ]
  },
  {
   "cell_type": "code",
   "execution_count": 61,
   "metadata": {
    "colab": {
     "background_save": true
    },
    "id": "o95f1p1JjPyC",
    "outputId": "402f3ac7-f120-4dba-e698-ed1831e58b71"
   },
   "outputs": [
    {
     "name": "stdout",
     "output_type": "stream",
     "text": [
      "              precision    recall  f1-score   support\n",
      "\n",
      "    goodware       0.96      0.76      0.85        33\n",
      "       revil       0.86      0.98      0.91        49\n",
      "\n",
      "    accuracy                           0.89        82\n",
      "   macro avg       0.91      0.87      0.88        82\n",
      "weighted avg       0.90      0.89      0.89        82\n",
      "\n",
      "{'criterion': 'entropy', 'n_estimators': 10}\n",
      "CPU times: user 1e+03 ns, sys: 0 ns, total: 1e+03 ns\n",
      "Wall time: 2.15 μs\n"
     ]
    },
    {
     "data": {
      "image/png": "[encoded data removed]",
      "text/plain": [
       "<Figure size 640x480 with 2 Axes>"
      ]
     },
     "metadata": {},
     "output_type": "display_data"
    }
   ],
   "source": [
    "# Random Forest com Grid Search CV e PCA\n",
    "\n",
    "param_gridrf_PCA = {\"n_estimators\": [1,3,5,7,10,20,30,50,60,70,80,100], 'criterion':['gini', 'entropy']} # Na primeira tentativa, a busca parou no 80. Para achar o parametro ótimo, fiz novo teste desde 80 até 90\n",
    "\n",
    "#param_gridrf_PCA = {\"n_estimators\": [80,81,82,83,84,85,86,87], 'criterion':['gini', 'entropy']}\n",
    "\n",
    "modelrfgrid_PCA = GridSearchCV(RandomForestClassifier(), param_gridrf_PCA, n_jobs=-1, cv=5, error_score='raise')\n",
    "modelrfgrid_PCA.fit(train_features_pca, train_labels)\n",
    "predictrf_pca = modelrfgrid_PCA.predict(test_features_pca)\n",
    "print(metrics.classification_report(test_labels, predictrf_pca))\n",
    "print(modelrfgrid_PCA.best_params_)\n",
    "cm = metrics.confusion_matrix(test_labels, predictrf_pca)\n",
    "metrics.ConfusionMatrixDisplay(confusion_matrix=cm, display_labels=modelrfgrid_PCA.classes_).plot(cmap='cividis')\n",
    "%time"
   ]
  },
  {
   "cell_type": "code",
   "execution_count": 62,
   "metadata": {
    "colab": {
     "background_save": true
    },
    "id": "6KH7r1bMVfw0",
    "outputId": "f7cae743-f75e-4510-9405-baf96c175a88"
   },
   "outputs": [
    {
     "name": "stdout",
     "output_type": "stream",
     "text": [
      "Iteration 1, loss = 2.38995380\n",
      "Iteration 2, loss = 2.53912872\n",
      "Iteration 3, loss = 0.76809621\n",
      "Iteration 4, loss = 0.50621405\n",
      "Iteration 5, loss = 0.49975855\n",
      "Iteration 6, loss = 0.34116850\n",
      "Iteration 7, loss = 0.25459182\n",
      "Iteration 8, loss = 0.30713541\n",
      "Iteration 9, loss = 0.28699139\n",
      "Iteration 10, loss = 0.21158327\n",
      "Iteration 11, loss = 0.18665823\n",
      "Iteration 12, loss = 0.19819122\n",
      "Iteration 13, loss = 0.20159320\n",
      "Iteration 14, loss = 0.18246682\n",
      "Iteration 15, loss = 0.15654275\n",
      "Iteration 16, loss = 0.14218380\n",
      "Iteration 17, loss = 0.14075656\n",
      "Iteration 18, loss = 0.14125050\n",
      "Iteration 19, loss = 0.13666445\n",
      "Iteration 20, loss = 0.12675201\n",
      "Iteration 21, loss = 0.11685986\n",
      "Iteration 22, loss = 0.11079772\n",
      "Iteration 23, loss = 0.10832258\n",
      "Iteration 24, loss = 0.10770782\n",
      "Iteration 25, loss = 0.10673344\n",
      "Iteration 26, loss = 0.10405735\n",
      "Iteration 27, loss = 0.10007483\n",
      "Training loss did not improve more than tol=0.010000 for 10 consecutive epochs. Stopping.\n",
      "              precision    recall  f1-score   support\n",
      "\n",
      "    goodware       0.88      0.85      0.86        33\n",
      "       revil       0.90      0.92      0.91        49\n",
      "\n",
      "    accuracy                           0.89        82\n",
      "   macro avg       0.89      0.88      0.89        82\n",
      "weighted avg       0.89      0.89      0.89        82\n",
      "\n",
      "CPU times: user 1e+03 ns, sys: 1e+03 ns, total: 2 μs\n",
      "Wall time: 5.25 μs\n"
     ]
    },
    {
     "data": {
      "image/png": "[encoded data removed]",
      "text/plain": [
       "<Figure size 640x480 with 2 Axes>"
      ]
     },
     "metadata": {},
     "output_type": "display_data"
    }
   ],
   "source": [
    "# MLP com Grid Search CV e PCA\n",
    "modelmlp_pca = MLPClassifier(hidden_layer_sizes=(500,200,10), max_iter=50000000, tol=0.01, random_state = 12, verbose = True, activation='relu', solver='adam')\n",
    "modelmlp_pca.fit(train_features_pca, train_labels)\n",
    "predictmlp_pca = modelmlp_pca.predict(test_features_pca)\n",
    "print(metrics.classification_report(test_labels, predictmlp_pca))\n",
    "cm = metrics.confusion_matrix(test_labels, predictmlp_pca)\n",
    "metrics.ConfusionMatrixDisplay(confusion_matrix=cm, display_labels=modelmlp_pca.classes_).plot(cmap='cividis')\n",
    "%time"
   ]
  }
 ],
 "metadata": {
  "colab": {
   "machine_shape": "hm",
   "provenance": []
  },
  "kernelspec": {
   "display_name": "base",
   "language": "python",
   "name": "python3"
  },
  "language_info": {
   "codemirror_mode": {
    "name": "ipython",
    "version": 3
   },
   "file_extension": ".py",
   "mimetype": "text/x-python",
   "name": "python",
   "nbconvert_exporter": "python",
   "pygments_lexer": "ipython3",
   "version": "3.12.4"
  }
 },
 "nbformat": 4,
 "nbformat_minor": 0
}
