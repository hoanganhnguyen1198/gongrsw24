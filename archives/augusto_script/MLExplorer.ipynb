{
 "cells": [
  {
   "cell_type": "code",
   "execution_count": 16,
   "outputs": [],
   "source": [
    "import pandas\n",
    "import numpy\n",
    "import seaborn\n",
    "import matplotlib.pyplot as plt\n",
    "import plotly.express as px\n",
    "from sklearn.model_selection import train_test_split\n",
    "from sklearn.svm import SVC\n",
    "from sklearn.neural_network import MLPClassifier\n",
    "from sklearn.metrics import *"
   ],
   "metadata": {
    "collapsed": false,
    "pycharm": {
     "name": "#%%\n"
    }
   }
  },
  {
   "cell_type": "code",
   "execution_count": 17,
   "outputs": [],
   "source": [
    "file_path = \"..//6 - Dataset//1075.pkl\""
   ],
   "metadata": {
    "collapsed": false,
    "pycharm": {
     "name": "#%%\n"
    }
   }
  },
  {
   "cell_type": "code",
   "execution_count": 18,
   "outputs": [],
   "source": [
    "with open(file_path,\"rb\") as f:\n",
    "    table = pandas.read_pickle(f)"
   ],
   "metadata": {
    "collapsed": false,
    "pycharm": {
     "name": "#%%\n"
    }
   }
  },
  {
   "cell_type": "code",
   "execution_count": 19,
   "outputs": [
    {
     "data": {
      "text/plain": "        id  score  added_files  LdrUnloadDll  NtReadFile  CreateActCtxW  \\\n0     1000    6.2            0           1.0         2.0            8.0   \n1     1001   15.2         4168          48.0      3968.0            2.0   \n2     1002   11.0            1          14.0       245.0           14.0   \n3     1003   15.4         4127          26.0      3934.0            2.0   \n4     1004    6.2            0           1.0         2.0            8.0   \n...    ...    ...          ...           ...         ...            ...   \n1071   993   16.0         4069          28.0      7665.0            6.0   \n1072   994    6.2            0           1.0         2.0            8.0   \n1073   995    4.8            0           3.0         2.0            8.0   \n1074   996    9.8            1          14.0       245.0           14.0   \n1075   997   14.8         4164          44.0     19759.0            6.0   \n\n      NtOpenKey  SetFilePointer  SetUnhandledExceptionFilter  SetErrorMode  \\\n0           1.0             1.0                          2.0           3.0   \n1          44.0             NaN                          NaN          17.0   \n2          53.0             1.0                          5.0         258.0   \n3          31.0             NaN                          2.0          26.0   \n4           1.0             1.0                          2.0           3.0   \n...         ...             ...                          ...           ...   \n1071       87.0             NaN                          3.0         256.0   \n1072        1.0             1.0                          2.0           3.0   \n1073        2.0             1.0                          2.0           3.0   \n1074       44.0             1.0                          5.0         258.0   \n1075      353.0             NaN                          3.0         256.0   \n\n      ...  19cd4deb02d2b5  20d46f118a5e92  26df34c6b83ece  34c40c3f22b377  \\\n0     ...             NaN             NaN             NaN             NaN   \n1     ...             NaN             NaN             NaN             NaN   \n2     ...             NaN             NaN             NaN             NaN   \n3     ...             NaN             NaN             NaN             NaN   \n4     ...             NaN             NaN             NaN             NaN   \n...   ...             ...             ...             ...             ...   \n1071  ...             NaN             NaN             NaN             NaN   \n1072  ...             NaN             NaN             NaN             NaN   \n1073  ...             NaN             NaN             NaN             NaN   \n1074  ...             NaN             NaN             NaN             NaN   \n1075  ...             NaN             NaN             NaN             NaN   \n\n      046a416f4a41da  44f0c8fe6fd1c0  54f07b825fd662  74ce1be7fe3286  \\\n0                NaN             NaN             NaN             NaN   \n1                NaN             NaN             NaN             NaN   \n2                NaN             NaN             NaN             NaN   \n3                NaN             NaN             NaN             NaN   \n4                NaN             NaN             NaN             NaN   \n...              ...             ...             ...             ...   \n1071             NaN             NaN             NaN             NaN   \n1072             NaN             NaN             NaN             NaN   \n1073             NaN             NaN             NaN             NaN   \n1074             NaN             NaN             NaN             NaN   \n1075             NaN             NaN             NaN             NaN   \n\n      67a1130899695f  64f3d2db7a782f  \n0                NaN             NaN  \n1                NaN             NaN  \n2                NaN             NaN  \n3                NaN             NaN  \n4                NaN             NaN  \n...              ...             ...  \n1071             NaN             NaN  \n1072             NaN             NaN  \n1073             NaN             NaN  \n1074             NaN             NaN  \n1075             NaN             NaN  \n\n[1076 rows x 448 columns]",
      "text/html": "<div>\n<style scoped>\n    .dataframe tbody tr th:only-of-type {\n        vertical-align: middle;\n    }\n\n    .dataframe tbody tr th {\n        vertical-align: top;\n    }\n\n    .dataframe thead th {\n        text-align: right;\n    }\n</style>\n<table border=\"1\" class=\"dataframe\">\n  <thead>\n    <tr style=\"text-align: right;\">\n      <th></th>\n      <th>id</th>\n      <th>score</th>\n      <th>added_files</th>\n      <th>LdrUnloadDll</th>\n      <th>NtReadFile</th>\n      <th>CreateActCtxW</th>\n      <th>NtOpenKey</th>\n      <th>SetFilePointer</th>\n      <th>SetUnhandledExceptionFilter</th>\n      <th>SetErrorMode</th>\n      <th>...</th>\n      <th>19cd4deb02d2b5</th>\n      <th>20d46f118a5e92</th>\n      <th>26df34c6b83ece</th>\n      <th>34c40c3f22b377</th>\n      <th>046a416f4a41da</th>\n      <th>44f0c8fe6fd1c0</th>\n      <th>54f07b825fd662</th>\n      <th>74ce1be7fe3286</th>\n      <th>67a1130899695f</th>\n      <th>64f3d2db7a782f</th>\n    </tr>\n  </thead>\n  <tbody>\n    <tr>\n      <th>0</th>\n      <td>1000</td>\n      <td>6.2</td>\n      <td>0</td>\n      <td>1.0</td>\n      <td>2.0</td>\n      <td>8.0</td>\n      <td>1.0</td>\n      <td>1.0</td>\n      <td>2.0</td>\n      <td>3.0</td>\n      <td>...</td>\n      <td>NaN</td>\n      <td>NaN</td>\n      <td>NaN</td>\n      <td>NaN</td>\n      <td>NaN</td>\n      <td>NaN</td>\n      <td>NaN</td>\n      <td>NaN</td>\n      <td>NaN</td>\n      <td>NaN</td>\n    </tr>\n    <tr>\n      <th>1</th>\n      <td>1001</td>\n      <td>15.2</td>\n      <td>4168</td>\n      <td>48.0</td>\n      <td>3968.0</td>\n      <td>2.0</td>\n      <td>44.0</td>\n      <td>NaN</td>\n      <td>NaN</td>\n      <td>17.0</td>\n      <td>...</td>\n      <td>NaN</td>\n      <td>NaN</td>\n      <td>NaN</td>\n      <td>NaN</td>\n      <td>NaN</td>\n      <td>NaN</td>\n      <td>NaN</td>\n      <td>NaN</td>\n      <td>NaN</td>\n      <td>NaN</td>\n    </tr>\n    <tr>\n      <th>2</th>\n      <td>1002</td>\n      <td>11.0</td>\n      <td>1</td>\n      <td>14.0</td>\n      <td>245.0</td>\n      <td>14.0</td>\n      <td>53.0</td>\n      <td>1.0</td>\n      <td>5.0</td>\n      <td>258.0</td>\n      <td>...</td>\n      <td>NaN</td>\n      <td>NaN</td>\n      <td>NaN</td>\n      <td>NaN</td>\n      <td>NaN</td>\n      <td>NaN</td>\n      <td>NaN</td>\n      <td>NaN</td>\n      <td>NaN</td>\n      <td>NaN</td>\n    </tr>\n    <tr>\n      <th>3</th>\n      <td>1003</td>\n      <td>15.4</td>\n      <td>4127</td>\n      <td>26.0</td>\n      <td>3934.0</td>\n      <td>2.0</td>\n      <td>31.0</td>\n      <td>NaN</td>\n      <td>2.0</td>\n      <td>26.0</td>\n      <td>...</td>\n      <td>NaN</td>\n      <td>NaN</td>\n      <td>NaN</td>\n      <td>NaN</td>\n      <td>NaN</td>\n      <td>NaN</td>\n      <td>NaN</td>\n      <td>NaN</td>\n      <td>NaN</td>\n      <td>NaN</td>\n    </tr>\n    <tr>\n      <th>4</th>\n      <td>1004</td>\n      <td>6.2</td>\n      <td>0</td>\n      <td>1.0</td>\n      <td>2.0</td>\n      <td>8.0</td>\n      <td>1.0</td>\n      <td>1.0</td>\n      <td>2.0</td>\n      <td>3.0</td>\n      <td>...</td>\n      <td>NaN</td>\n      <td>NaN</td>\n      <td>NaN</td>\n      <td>NaN</td>\n      <td>NaN</td>\n      <td>NaN</td>\n      <td>NaN</td>\n      <td>NaN</td>\n      <td>NaN</td>\n      <td>NaN</td>\n    </tr>\n    <tr>\n      <th>...</th>\n      <td>...</td>\n      <td>...</td>\n      <td>...</td>\n      <td>...</td>\n      <td>...</td>\n      <td>...</td>\n      <td>...</td>\n      <td>...</td>\n      <td>...</td>\n      <td>...</td>\n      <td>...</td>\n      <td>...</td>\n      <td>...</td>\n      <td>...</td>\n      <td>...</td>\n      <td>...</td>\n      <td>...</td>\n      <td>...</td>\n      <td>...</td>\n      <td>...</td>\n      <td>...</td>\n    </tr>\n    <tr>\n      <th>1071</th>\n      <td>993</td>\n      <td>16.0</td>\n      <td>4069</td>\n      <td>28.0</td>\n      <td>7665.0</td>\n      <td>6.0</td>\n      <td>87.0</td>\n      <td>NaN</td>\n      <td>3.0</td>\n      <td>256.0</td>\n      <td>...</td>\n      <td>NaN</td>\n      <td>NaN</td>\n      <td>NaN</td>\n      <td>NaN</td>\n      <td>NaN</td>\n      <td>NaN</td>\n      <td>NaN</td>\n      <td>NaN</td>\n      <td>NaN</td>\n      <td>NaN</td>\n    </tr>\n    <tr>\n      <th>1072</th>\n      <td>994</td>\n      <td>6.2</td>\n      <td>0</td>\n      <td>1.0</td>\n      <td>2.0</td>\n      <td>8.0</td>\n      <td>1.0</td>\n      <td>1.0</td>\n      <td>2.0</td>\n      <td>3.0</td>\n      <td>...</td>\n      <td>NaN</td>\n      <td>NaN</td>\n      <td>NaN</td>\n      <td>NaN</td>\n      <td>NaN</td>\n      <td>NaN</td>\n      <td>NaN</td>\n      <td>NaN</td>\n      <td>NaN</td>\n      <td>NaN</td>\n    </tr>\n    <tr>\n      <th>1073</th>\n      <td>995</td>\n      <td>4.8</td>\n      <td>0</td>\n      <td>3.0</td>\n      <td>2.0</td>\n      <td>8.0</td>\n      <td>2.0</td>\n      <td>1.0</td>\n      <td>2.0</td>\n      <td>3.0</td>\n      <td>...</td>\n      <td>NaN</td>\n      <td>NaN</td>\n      <td>NaN</td>\n      <td>NaN</td>\n      <td>NaN</td>\n      <td>NaN</td>\n      <td>NaN</td>\n      <td>NaN</td>\n      <td>NaN</td>\n      <td>NaN</td>\n    </tr>\n    <tr>\n      <th>1074</th>\n      <td>996</td>\n      <td>9.8</td>\n      <td>1</td>\n      <td>14.0</td>\n      <td>245.0</td>\n      <td>14.0</td>\n      <td>44.0</td>\n      <td>1.0</td>\n      <td>5.0</td>\n      <td>258.0</td>\n      <td>...</td>\n      <td>NaN</td>\n      <td>NaN</td>\n      <td>NaN</td>\n      <td>NaN</td>\n      <td>NaN</td>\n      <td>NaN</td>\n      <td>NaN</td>\n      <td>NaN</td>\n      <td>NaN</td>\n      <td>NaN</td>\n    </tr>\n    <tr>\n      <th>1075</th>\n      <td>997</td>\n      <td>14.8</td>\n      <td>4164</td>\n      <td>44.0</td>\n      <td>19759.0</td>\n      <td>6.0</td>\n      <td>353.0</td>\n      <td>NaN</td>\n      <td>3.0</td>\n      <td>256.0</td>\n      <td>...</td>\n      <td>NaN</td>\n      <td>NaN</td>\n      <td>NaN</td>\n      <td>NaN</td>\n      <td>NaN</td>\n      <td>NaN</td>\n      <td>NaN</td>\n      <td>NaN</td>\n      <td>NaN</td>\n      <td>NaN</td>\n    </tr>\n  </tbody>\n</table>\n<p>1076 rows × 448 columns</p>\n</div>"
     },
     "execution_count": 19,
     "metadata": {},
     "output_type": "execute_result"
    }
   ],
   "source": [
    "table"
   ],
   "metadata": {
    "collapsed": false,
    "pycharm": {
     "name": "#%%\n"
    }
   }
  },
  {
   "cell_type": "code",
   "execution_count": 20,
   "outputs": [
    {
     "data": {
      "text/plain": "(True, True)"
     },
     "execution_count": 20,
     "metadata": {},
     "output_type": "execute_result"
    }
   ],
   "source": [
    "\"id\" in table.columns, \"score\" in table.columns"
   ],
   "metadata": {
    "collapsed": false,
    "pycharm": {
     "name": "#%%\n"
    }
   }
  },
  {
   "cell_type": "code",
   "execution_count": 21,
   "outputs": [
    {
     "data": {
      "text/plain": "[192,\n 193,\n 194,\n 195,\n 196,\n 197,\n 198,\n 199,\n 200,\n 201,\n 202,\n 203,\n 204,\n 205,\n 206,\n 207,\n 208,\n 209,\n 210,\n 211,\n 212,\n 213,\n 214,\n 215,\n 216,\n 217,\n 218,\n 219,\n 220,\n 221,\n 222,\n 223,\n 224,\n 225,\n 226,\n 227,\n 228,\n 229,\n 230,\n 231,\n 232,\n 233,\n 234,\n 235,\n 236,\n 237,\n 238,\n 239,\n 240,\n 241,\n 242,\n 243,\n 244,\n 245,\n 246,\n 247,\n 248,\n 249,\n 250,\n 251,\n 252,\n 253,\n 254,\n 255,\n 256,\n 257,\n 258,\n 259,\n 260,\n 261,\n 262,\n 263,\n 264,\n 265,\n 266,\n 267,\n 268,\n 269,\n 270,\n 271,\n 272,\n 273,\n 274,\n 275,\n 276,\n 277,\n 278,\n 279,\n 280,\n 281,\n 282,\n 283,\n 284,\n 285,\n 286,\n 287,\n 288,\n 289,\n 290,\n 291,\n 292,\n 293,\n 294,\n 295,\n 296,\n 297,\n 298,\n 299,\n 300,\n 301,\n 302,\n 303,\n 304,\n 305,\n 306,\n 307,\n 308,\n 309,\n 310,\n 311,\n 312,\n 313,\n 314,\n 315,\n 316,\n 317,\n 318,\n 319,\n 320,\n 321,\n 322,\n 323,\n 324,\n 325,\n 326,\n 327,\n 328,\n 329,\n 330,\n 331,\n 332,\n 333,\n 334,\n 335,\n 336,\n 337,\n 338,\n 339,\n 340,\n 341,\n 342,\n 343,\n 344,\n 345,\n 346,\n 347,\n 348,\n 349,\n 350,\n 351,\n 352,\n 353,\n 354,\n 355,\n 403,\n 404,\n 405,\n 406,\n 407,\n 408,\n 409,\n 410,\n 411,\n 412,\n 413,\n 414,\n 415,\n 416,\n 417,\n 418,\n 419,\n 420,\n 421,\n 422,\n 423,\n 424,\n 425,\n 426,\n 427,\n 428,\n 429,\n 430,\n 431,\n 432,\n 433,\n 434,\n 435,\n 436,\n 437,\n 438,\n 439,\n 440,\n 441,\n 442,\n 443,\n 444,\n 445,\n 446,\n 447,\n 448,\n 449,\n 450,\n 451,\n 452,\n 453,\n 454,\n 455,\n 456,\n 457,\n 458,\n 459,\n 460,\n 461,\n 462,\n 463,\n 464,\n 465,\n 466,\n 467,\n 468,\n 469,\n 470,\n 471,\n 472,\n 473,\n 474,\n 475,\n 476,\n 477,\n 478,\n 479,\n 480,\n 481,\n 482,\n 483,\n 484,\n 485,\n 486,\n 487,\n 488,\n 489,\n 490,\n 491,\n 492,\n 493,\n 494,\n 495,\n 496,\n 497,\n 498,\n 499,\n 500,\n 501,\n 502,\n 503,\n 504,\n 505,\n 506,\n 507,\n 508,\n 509,\n 510,\n 511,\n 512,\n 513,\n 514,\n 515,\n 516,\n 517,\n 518,\n 519,\n 520,\n 521,\n 522,\n 523,\n 524,\n 525,\n 526,\n 527,\n 528,\n 529,\n 530,\n 531,\n 532,\n 533,\n 534,\n 535,\n 536,\n 537,\n 538,\n 539,\n 540,\n 541,\n 542,\n 543,\n 544,\n 545,\n 546,\n 547,\n 548,\n 549,\n 550,\n 551,\n 552,\n 553,\n 554,\n 555,\n 556,\n 557,\n 558,\n 559,\n 560,\n 561,\n 562,\n 563,\n 564,\n 565,\n 566,\n 567,\n 568,\n 569,\n 570,\n 571,\n 572,\n 573,\n 574,\n 575,\n 576,\n 577,\n 578,\n 579,\n 580,\n 581,\n 582,\n 583,\n 584,\n 585,\n 586,\n 587,\n 588,\n 589,\n 590,\n 592,\n 593,\n 594,\n 595,\n 596,\n 597,\n 598,\n 599,\n 600,\n 601,\n 602,\n 603,\n 604,\n 605,\n 606,\n 607,\n 608,\n 609,\n 610,\n 611,\n 612,\n 613,\n 614,\n 615,\n 616,\n 617,\n 618,\n 619,\n 620,\n 621,\n 622,\n 623,\n 624,\n 625,\n 626,\n 627,\n 628,\n 629,\n 630,\n 631,\n 632,\n 633,\n 634,\n 635,\n 636,\n 637,\n 638,\n 639,\n 640,\n 641,\n 642,\n 643,\n 644,\n 645,\n 646,\n 647,\n 648,\n 649,\n 650,\n 651,\n 652,\n 653,\n 654,\n 655,\n 656,\n 657,\n 659,\n 661,\n 662,\n 663,\n 664,\n 665,\n 666,\n 667,\n 669,\n 671,\n 672,\n 673,\n 674,\n 675,\n 676,\n 678,\n 679,\n 680,\n 681,\n 682,\n 683,\n 684,\n 686,\n 687,\n 688,\n 689,\n 690,\n 692,\n 693,\n 694,\n 695,\n 696,\n 697,\n 698,\n 700,\n 701,\n 702,\n 703,\n 704,\n 705,\n 706,\n 707,\n 708,\n 709,\n 710,\n 711,\n 712,\n 713,\n 714,\n 715,\n 716,\n 717,\n 718,\n 719,\n 720,\n 721,\n 722,\n 723,\n 724,\n 725,\n 727,\n 728,\n 729,\n 730,\n 731,\n 732,\n 733,\n 734,\n 735,\n 736,\n 737,\n 738,\n 739,\n 740,\n 741,\n 742,\n 743,\n 744,\n 745,\n 746,\n 747,\n 748,\n 749,\n 750,\n 751,\n 752,\n 753,\n 754,\n 755,\n 756,\n 757,\n 758,\n 759,\n 760,\n 761,\n 762,\n 763,\n 764,\n 765,\n 766,\n 767,\n 768,\n 769,\n 770,\n 771,\n 772,\n 773,\n 774,\n 775,\n 776,\n 777,\n 778,\n 779,\n 780,\n 781,\n 782,\n 783,\n 784,\n 791,\n 792,\n 794,\n 795,\n 797,\n 798,\n 799,\n 801,\n 802,\n 803,\n 804,\n 805,\n 806,\n 807,\n 808,\n 809,\n 810,\n 812,\n 813,\n 814,\n 815,\n 816,\n 818,\n 819,\n 821,\n 822,\n 823,\n 824,\n 825,\n 827,\n 828,\n 829,\n 832,\n 834,\n 835,\n 836,\n 837,\n 838,\n 839,\n 840,\n 841,\n 842,\n 843,\n 844,\n 846,\n 847,\n 848,\n 849,\n 850,\n 851,\n 852,\n 853,\n 855,\n 857,\n 858,\n 859,\n 860,\n 861,\n 862,\n 863,\n 864,\n 865,\n 866,\n 867,\n 868,\n 869,\n 870,\n 871,\n 872,\n 873,\n 874,\n 875,\n 876,\n 877,\n 878,\n 879,\n 880,\n 881,\n 882,\n 883,\n 884,\n 885,\n 887,\n 888,\n 889,\n 890,\n 892,\n 893,\n 894,\n 895,\n 896,\n 897,\n 898,\n 899,\n 900,\n 901,\n 902,\n 903,\n 904,\n 905,\n 906,\n 907,\n 908,\n 909,\n 910,\n 911,\n 912,\n 913,\n 914,\n 915,\n 916,\n 919,\n 920,\n 923,\n 924,\n 925,\n 926,\n 928,\n 929,\n 931,\n 932,\n 933,\n 934,\n 935,\n 936,\n 937,\n 938,\n 939,\n 940,\n 941,\n 942,\n 943,\n 946,\n 947,\n 948,\n 949,\n 950,\n 951,\n 952,\n 953,\n 954,\n 955,\n 956,\n 957,\n 958,\n 959,\n 960,\n 961,\n 962,\n 963,\n 964,\n 965,\n 966,\n 967,\n 968,\n 969,\n 970,\n 971,\n 972,\n 973,\n 974,\n 976,\n 977,\n 978,\n 979,\n 981,\n 982,\n 983,\n 984,\n 985,\n 986,\n 987,\n 988,\n 989,\n 990,\n 991,\n 992,\n 993,\n 994,\n 995,\n 996,\n 997,\n 1000,\n 1001,\n 1002,\n 1003,\n 1004,\n 1005,\n 1006,\n 1007,\n 1008,\n 1009,\n 1010,\n 1011,\n 1012,\n 1013,\n 1014,\n 1015,\n 1018,\n 1019,\n 1020,\n 1021,\n 1022,\n 1023,\n 1024,\n 1025,\n 1026,\n 1027,\n 1028,\n 1029,\n 1030,\n 1031,\n 1032,\n 1033,\n 1034,\n 1035,\n 1036,\n 1037,\n 1038,\n 1039,\n 1041,\n 1042,\n 1043,\n 1044,\n 1045,\n 1046,\n 1047,\n 1048,\n 1049,\n 1050,\n 1051,\n 1052,\n 1053,\n 1054,\n 1055,\n 1057,\n 1059,\n 1061,\n 1064,\n 1065,\n 1066,\n 1067,\n 1068,\n 1069,\n 1071,\n 1072,\n 1074,\n 1075,\n 1076,\n 1077,\n 1079,\n 1080,\n 1081,\n 1082,\n 1083,\n 1084,\n 1085,\n 1086,\n 1089,\n 1090,\n 1091,\n 1094,\n 1095,\n 1097,\n 1098,\n 1099,\n 1100,\n 1101,\n 1102,\n 1103,\n 1104,\n 1105,\n 1106,\n 1107,\n 1108,\n 1110,\n 1111,\n 1112,\n 1113,\n 1114,\n 1115,\n 1116,\n 1117,\n 1118,\n 1119,\n 1120,\n 1121,\n 1122,\n 1123,\n 1124,\n 1125,\n 1126,\n 1127,\n 1128,\n 1129,\n 1130,\n 1131,\n 1132,\n 1134,\n 1136,\n 1137,\n 1138,\n 1139,\n 1140,\n 1141,\n 1142,\n 1147,\n 1148,\n 1150,\n 1151,\n 1152,\n 1154,\n 1155,\n 1156,\n 1157,\n 1159,\n 1160,\n 1161,\n 1162,\n 1163,\n 1164,\n 1165,\n 1166,\n 1167,\n 1168,\n 1169,\n 1170,\n 1171,\n 1173,\n 1174,\n 1175,\n 1176,\n 1177,\n 1178,\n 1179,\n 1180,\n 1181,\n 1182,\n 1183,\n 1184,\n 1185,\n 1186,\n 1188,\n 1189,\n 1190,\n 1191,\n 1192,\n 1195,\n 1196,\n 1197,\n 1198,\n 1199,\n 1200,\n 1201,\n 1202,\n 1203,\n 1204,\n 1205,\n 1206,\n 1207,\n 1209,\n 1210,\n 1211,\n 1212,\n 1213,\n 1214,\n 1216,\n 1217,\n 1218,\n 1219,\n 1220,\n 1222,\n 1223,\n 1224,\n 1225,\n 1226,\n 1227,\n 1229,\n 1231,\n 1232,\n 1233,\n 1235,\n 1236,\n 1237,\n 1238,\n 1239,\n 1240,\n 1244,\n 1245,\n 1246,\n 1247,\n 1248,\n 1249,\n 1250,\n 1251,\n 1252,\n 1253,\n 1254,\n 1255,\n 1256,\n 1257,\n 1258,\n 1259,\n 1261,\n 1263,\n 1264,\n 1266,\n 1267,\n 1268,\n 1269,\n 1271,\n 1272,\n 1273,\n 1274,\n 1275,\n 1276,\n 1277,\n 1278,\n 1279,\n 1280,\n 1281,\n 1282,\n 1284,\n 1285,\n 1286,\n 1287,\n 1288,\n 1289,\n 1290,\n 1291,\n 1293,\n 1295,\n 1296,\n 1297,\n 1299,\n 1300,\n 1301,\n 1302,\n 1303,\n 1304,\n 1305,\n 1306,\n 1307,\n 1308,\n 1309,\n 1310,\n 1311,\n 1312,\n 1313,\n 1314,\n 1315,\n 1316,\n 1317,\n 1318,\n 1319,\n 1320,\n 1321,\n 1322,\n 1324,\n 1325,\n 1326,\n 1327,\n 1328,\n 1329,\n ...]"
     },
     "execution_count": 21,
     "metadata": {},
     "output_type": "execute_result"
    }
   ],
   "source": [
    "sorted(table[\"id\"])"
   ],
   "metadata": {
    "collapsed": false,
    "pycharm": {
     "name": "#%%\n"
    }
   }
  },
  {
   "cell_type": "code",
   "execution_count": 22,
   "outputs": [
    {
     "name": "stdout",
     "output_type": "stream",
     "text": [
      "['', '00260c390ffab5', '00e815ade8f3ad', '04419b76566142', '046a416f4a41da', '04f710f755af9a', '0832b9544b38ae', '0aa8099c5a6506', '0d0ed90929351c', '0dcbc979c995ee', '14cb0affce00f0', '14d09a259f7256', '17b2425219679a', '19cd4deb02d2b5', '20d46f118a5e92', '20f74016f44481', '26df34c6b83ece', '277bbabf2bcffc', '2b8fe787f921aa', '2cf51d2d9edcfc', '2d4b2b807ace9d', '2d73ce9f8e11bb', '307a8158e69868', '30980f00bc1bcb', '320850e1cd91c5', '3338eb73de83e9', '34c40c3f22b377', '38d20104c7a295', '3b0cf9bc480a7f', '3ba4483c761a05', '3bbbc68fe566ca', '3e8efba2ef67cc', '3ea8f71bfb79e6', '3ec98567ef4b4e', '40c436f4ac5193', '44f0c8fe6fd1c0', '4672f4ade47a47', '4a5ac3c6f8383c', '4b753dc49f7e45', '4bb152c96ba9e2', '4be415c196067f', '4d3fb0e2d5ba3f', '4e1317c219c4bf', '4e5c233cf1270e', '4edbf2358a9820', '4f6ce92fccafa6', '5072678821b490', '51634f69ba2c47', '51923ec7455554', '5219bdf17e6cf7', '54f07b825fd662', '5a67b802ccb3ff', '5ace33358a8b11', '5b1f242aee0eab', '5fa14751ef7fa7', '645f2904cde1bd', '64f3d2db7a782f', '66060484cccedb', '67a1130899695f', '67fd7b558dbe2c', '6964a0bc3d98f1', '6a2bd52a5d68a7', '6ac88349fce736', '6d90727156fec8', '6e57810c41f253', '6edef9c0343c53', '6f4da4d2ffa8f6', '6ff970f1502347', '7363f13db04862', '74ce1be7fe3286', '75175009b6864c', '7789ea5daa745b', '781bc4dcbd4598', '7b4d8115ef55d2', '7bafd5de1b6724', '7c8cb66e9e5ac6', '7e70460a2e3954', '8587037c15463d', '8644b269a72052', '8ab99ac368b338', '8b3d44f0998886', '8d8c401dd0169a', '8e5cd93d172b65', '968307a367471e', 'COleScript_Compile', 'CertControlStore', 'CertOpenStore', 'CoCreateInstance', 'CoCreateInstanceEx', 'CoGetClassObject', 'CoInitializeEx', 'CoInitializeSecurity', 'CoUninitialize', 'ControlService', 'CopyFileA', 'CopyFileW', 'CreateActCtxW', 'CreateDirectoryW', 'CreateProcessInternalW', 'CreateRemoteThread', 'CreateServiceW', 'CreateThread', 'CreateToolhelp32Snapshot', 'CryptAcquireContextA', 'CryptAcquireContextW', 'CryptCreateHash', 'CryptDecodeObjectEx', 'CryptDecrypt', 'CryptEncrypt', 'CryptExportKey', 'CryptGenKey', 'CryptHashData', 'CryptProtectData', 'CryptUnprotectData', 'DecryptMessage', 'DeleteFileW', 'DeleteService', 'DeleteUrlCacheEntryW', 'DeviceIoControl', 'DrawTextExW', 'EXE', 'EncryptMessage', 'EnumServicesStatusA', 'EnumServicesStatusW', 'EnumWindows', 'FindFirstFileExW', 'FindResourceA', 'FindResourceExA', 'FindResourceExW', 'FindResourceW', 'FindWindowA', 'FindWindowExW', 'FindWindowW', 'GetAdaptersAddresses', 'GetAdaptersInfo', 'GetAddrInfoW', 'GetAsyncKeyState', 'GetBestInterfaceEx', 'GetComputerNameA', 'GetComputerNameW', 'GetCursorPos', 'GetDiskFreeSpaceExW', 'GetDiskFreeSpaceW', 'GetFileAttributesExW', 'GetFileAttributesW', 'GetFileInformationByHandle', 'GetFileInformationByHandleEx', 'GetFileSize', 'GetFileSizeEx', 'GetFileType', 'GetFileVersionInfoExW', 'GetFileVersionInfoSizeExW', 'GetFileVersionInfoSizeW', 'GetFileVersionInfoW', 'GetForegroundWindow', 'GetKeyState', 'GetKeyboardState', 'GetNativeSystemInfo', 'GetShortPathNameW', 'GetSystemDirectoryA', 'GetSystemDirectoryW', 'GetSystemInfo', 'GetSystemMetrics', 'GetSystemTimeAsFileTime', 'GetSystemWindowsDirectoryA', 'GetSystemWindowsDirectoryW', 'GetTempPathW', 'GetTimeZoneInformation', 'GetUserNameA', 'GetUserNameExW', 'GetUserNameW', 'GetVolumeNameForVolumeMountPointW', 'GetVolumePathNameW', 'GetVolumePathNamesForVolumeNameW', 'GlobalMemoryStatus', 'GlobalMemoryStatusEx', 'HttpOpenRequestW', 'HttpSendRequestA', 'HttpSendRequestW', 'IWbemServices_ExecMethod', 'IWbemServices_ExecQuery', 'InternetCloseHandle', 'InternetConnectA', 'InternetConnectW', 'InternetCrackUrlA', 'InternetCrackUrlW', 'InternetGetConnectedState', 'InternetOpenA', 'InternetOpenUrlA', 'InternetOpenUrlW', 'InternetOpenW', 'InternetQueryOptionA', 'InternetReadFile', 'InternetSetOptionA', 'InternetSetStatusCallback', 'IsDebuggerPresent', 'LdrGetDllHandle', 'LdrGetProcedureAddress', 'LdrLoadDll', 'LdrUnloadDll', 'LoadResource', 'LoadStringA', 'LoadStringW', 'LookupAccountSidW', 'LookupPrivilegeValueW', 'MessageBoxTimeoutA', 'MessageBoxTimeoutW', 'Module32FirstW', 'Module32NextW', 'MoveFileWithProgressW', 'NetGetJoinInformation', 'NetShareEnum', 'NetUserGetInfo', 'NtAllocateVirtualMemory', 'NtClose', 'NtCreateFile', 'NtCreateKey', 'NtCreateMutant', 'NtCreateSection', 'NtCreateThreadEx', 'NtDelayExecution', 'NtDeleteKey', 'NtDeviceIoControlFile', 'NtDuplicateObject', 'NtEnumerateKey', 'NtEnumerateValueKey', 'NtFreeVirtualMemory', 'NtGetContextThread', 'NtMapViewOfSection', 'NtOpenDirectoryObject', 'NtOpenFile', 'NtOpenKey', 'NtOpenKeyEx', 'NtOpenMutant', 'NtOpenProcess', 'NtOpenSection', 'NtOpenThread', 'NtProtectVirtualMemory', 'NtQueryAttributesFile', 'NtQueryDirectoryFile', 'NtQueryInformationFile', 'NtQueryKey', 'NtQueryMultipleValueKey', 'NtQuerySystemInformation', 'NtQueryValueKey', 'NtQueueApcThread', 'NtReadFile', 'NtReadVirtualMemory', 'NtResumeThread', 'NtSetContextThread', 'NtSetInformationFile', 'NtSetValueKey', 'NtSuspendThread', 'NtTerminateProcess', 'NtTerminateThread', 'NtUnmapViewOfSection', 'NtWriteFile', 'NtWriteVirtualMemory', 'ObtainUserAgentString', 'OleInitialize', 'OpenSCManagerA', 'OpenSCManagerW', 'OpenServiceA', 'OpenServiceW', 'OutputDebugStringA', 'PRF', 'Process32FirstW', 'Process32NextW', 'ReadCabinetState', 'ReadProcessMemory', 'RegCloseKey', 'RegCreateKeyExA', 'RegCreateKeyExW', 'RegDeleteKeyA', 'RegDeleteKeyW', 'RegDeleteValueW', 'RegEnumKeyExA', 'RegEnumKeyExW', 'RegEnumKeyW', 'RegEnumValueA', 'RegEnumValueW', 'RegOpenKeyExA', 'RegOpenKeyExW', 'RegQueryInfoKeyA', 'RegQueryInfoKeyW', 'RegQueryValueExA', 'RegQueryValueExW', 'RegSetValueExA', 'RegSetValueExW', 'RegisterHotKey', 'RemoveDirectoryA', 'RemoveDirectoryW', 'RtlAddVectoredContinueHandler', 'RtlAddVectoredExceptionHandler', 'SHGetFolderPathW', 'SHGetSpecialFolderLocation', 'SeAssignPrimaryTokenPrivilege', 'SeAuditPrivilege', 'SeBackupPrivilege', 'SeChangeNotifyPrivilege', 'SeCreateGlobalPrivilege', 'SeCreatePagefilePrivilege', 'SeCreatePermanentPrivilege', 'SeCreateSymbolicLinkPrivilege', 'SeCreateTokenPrivilege', 'SeDebugPrivilege', 'SeEnableDelegationPrivilege', 'SeImpersonatePrivilege', 'SeIncreaseBasePriorityPrivilege', 'SeIncreaseQuotaPrivilege', 'SeIncreaseWorkingSetPrivilege', 'SeLoadDriverPrivilege', 'SeLockMemoryPrivilege', 'SeMachineAccountPrivilege', 'SeManageVolumePrivilege', 'SeProfileSingleProcessPrivilege', 'SeRelabelPrivilege', 'SeRemoteShutdownPrivilege', 'SeRestorePrivilege', 'SeSecurityPrivilege', 'SeShutdownPrivilege', 'SeSyncAgentPrivilege', 'SeSystemEnvironmentPrivilege', 'SeSystemProfilePrivilege', 'SeSystemtimePrivilege', 'SeTakeOwnershipPrivilege', 'SeTcbPrivilege', 'SeTimeZonePrivilege', 'SeTrustedCredManAccessPrivilege', 'SeUndockPrivilege', 'SearchFilterHo', 'SearchPathW', 'SearchProtocol', 'SendNotifyMessageA', 'SendNotifyMessageW', 'SetEndOfFile', 'SetErrorMode', 'SetFileAttributesW', 'SetFileInformationByHandle', 'SetFilePointer', 'SetFilePointerEx', 'SetFileTime', 'SetStdHandle', 'SetUnhandledExceptionFilter', 'SetWindowsHookExA', 'SetWindowsHookExW', 'ShellExecuteExW', 'SizeofResource', 'StartServiceA', 'StartServiceW', 'System', 'Thread32First', 'Thread32Next', 'Thunderbird Se', 'TrustedInstall', 'URLDownloadToFileW', 'UnhookWindowsHookEx', 'UuidCreate', 'WSARecv', 'WSASend', 'WSASocketA', 'WSASocketW', 'WSAStartup', 'WriteConsoleA', 'WriteConsoleW', 'WriteProcessMemory', '__anomaly__', '__exception__', 'a9cb8fb06970ee', 'ab0aa003d72389', 'acad2d9b291b5a', 'accept', 'added_files', 'b6317c86864cc8', 'b9f3199637a366', 'bb663585a677c1', 'bind', 'c068e2fe99d491', 'c43fe59d34ceef', 'c6902f14bafb0f', 'c765054b9257ae', 'cfb959cc29e728', 'closesocket', 'command_line', 'connect', 'd089d57b8b2b32', 'd0cde86d47219e', 'd7c7947d060da8', 'd9a56374fd8977', 'db59d4ab0aaf66', 'dd05b24610d5f9', 'dd8fe3966ab4d2', 'dec4ca3a086391', 'df09717cadadad', 'directory_created', 'directory_enumerated', 'dll_loaded', 'e', 'e435a95489a4eb', 'e786673320cd80', 'ec9950b2114f7c', 'ex', 'exe', 'f0f41725a9bcbe', 'f69943bf5f5f8e', 'f894ffdc00c7b9', 'f978a39f80fe81', 'faaa06208acdf2', 'fac5d96467b6b9', 'fb420db352c21d', 'fcccb31dc2205a', 'fedc73b81adb7a', 'file_created', 'file_deleted', 'file_exists', 'file_failed', 'file_moved', 'file_opened', 'file_read', 'file_recreated', 'file_written', 'getaddrinfo', 'gethostbyname', 'getsockname', 'guid', 'id', 'ioctlsocket', 'listen', 'maintenanceser', 'minidump-analy', 'mutex', 'recv', 'recvfrom', 'regkey_opened', 'regkey_read', 'regkey_written', 'resolve_host', 'score', 'select', 'send', 'sendto', 'setsockopt', 'shutdown', 'socket', 'strings_count', 'timeGetTime', 'udp', 'wmi_query']\n"
     ]
    }
   ],
   "source": [
    "colunas = []\n",
    "for col in table.columns:\n",
    "    colunas.append(col)\n",
    "print(sorted(colunas))"
   ],
   "metadata": {
    "collapsed": false,
    "pycharm": {
     "name": "#%%\n"
    }
   }
  },
  {
   "cell_type": "code",
   "execution_count": 23,
   "outputs": [],
   "source": [
    "for column in table.columns:\n",
    "    table[column].fillna(0, inplace =True)"
   ],
   "metadata": {
    "collapsed": false,
    "pycharm": {
     "name": "#%%\n"
    }
   }
  },
  {
   "cell_type": "code",
   "execution_count": 25,
   "outputs": [
    {
     "data": {
      "text/plain": "        id  score  added_files  LdrUnloadDll  NtReadFile  CreateActCtxW  \\\n0     1000    6.2            0           1.0         2.0            8.0   \n1     1001   15.2         4168          48.0      3968.0            2.0   \n2     1002   11.0            1          14.0       245.0           14.0   \n3     1003   15.4         4127          26.0      3934.0            2.0   \n4     1004    6.2            0           1.0         2.0            8.0   \n...    ...    ...          ...           ...         ...            ...   \n1071   993   16.0         4069          28.0      7665.0            6.0   \n1072   994    6.2            0           1.0         2.0            8.0   \n1073   995    4.8            0           3.0         2.0            8.0   \n1074   996    9.8            1          14.0       245.0           14.0   \n1075   997   14.8         4164          44.0     19759.0            6.0   \n\n      NtOpenKey  SetFilePointer  SetUnhandledExceptionFilter  SetErrorMode  \\\n0           1.0             1.0                          2.0           3.0   \n1          44.0             0.0                          0.0          17.0   \n2          53.0             1.0                          5.0         258.0   \n3          31.0             0.0                          2.0          26.0   \n4           1.0             1.0                          2.0           3.0   \n...         ...             ...                          ...           ...   \n1071       87.0             0.0                          3.0         256.0   \n1072        1.0             1.0                          2.0           3.0   \n1073        2.0             1.0                          2.0           3.0   \n1074       44.0             1.0                          5.0         258.0   \n1075      353.0             0.0                          3.0         256.0   \n\n      ...  19cd4deb02d2b5  20d46f118a5e92  26df34c6b83ece  34c40c3f22b377  \\\n0     ...             0.0             0.0             0.0             0.0   \n1     ...             0.0             0.0             0.0             0.0   \n2     ...             0.0             0.0             0.0             0.0   \n3     ...             0.0             0.0             0.0             0.0   \n4     ...             0.0             0.0             0.0             0.0   \n...   ...             ...             ...             ...             ...   \n1071  ...             0.0             0.0             0.0             0.0   \n1072  ...             0.0             0.0             0.0             0.0   \n1073  ...             0.0             0.0             0.0             0.0   \n1074  ...             0.0             0.0             0.0             0.0   \n1075  ...             0.0             0.0             0.0             0.0   \n\n      046a416f4a41da  44f0c8fe6fd1c0  54f07b825fd662  74ce1be7fe3286  \\\n0                0.0             0.0             0.0             0.0   \n1                0.0             0.0             0.0             0.0   \n2                0.0             0.0             0.0             0.0   \n3                0.0             0.0             0.0             0.0   \n4                0.0             0.0             0.0             0.0   \n...              ...             ...             ...             ...   \n1071             0.0             0.0             0.0             0.0   \n1072             0.0             0.0             0.0             0.0   \n1073             0.0             0.0             0.0             0.0   \n1074             0.0             0.0             0.0             0.0   \n1075             0.0             0.0             0.0             0.0   \n\n      67a1130899695f  64f3d2db7a782f  \n0                0.0             0.0  \n1                0.0             0.0  \n2                0.0             0.0  \n3                0.0             0.0  \n4                0.0             0.0  \n...              ...             ...  \n1071             0.0             0.0  \n1072             0.0             0.0  \n1073             0.0             0.0  \n1074             0.0             0.0  \n1075             0.0             0.0  \n\n[1076 rows x 448 columns]",
      "text/html": "<div>\n<style scoped>\n    .dataframe tbody tr th:only-of-type {\n        vertical-align: middle;\n    }\n\n    .dataframe tbody tr th {\n        vertical-align: top;\n    }\n\n    .dataframe thead th {\n        text-align: right;\n    }\n</style>\n<table border=\"1\" class=\"dataframe\">\n  <thead>\n    <tr style=\"text-align: right;\">\n      <th></th>\n      <th>id</th>\n      <th>score</th>\n      <th>added_files</th>\n      <th>LdrUnloadDll</th>\n      <th>NtReadFile</th>\n      <th>CreateActCtxW</th>\n      <th>NtOpenKey</th>\n      <th>SetFilePointer</th>\n      <th>SetUnhandledExceptionFilter</th>\n      <th>SetErrorMode</th>\n      <th>...</th>\n      <th>19cd4deb02d2b5</th>\n      <th>20d46f118a5e92</th>\n      <th>26df34c6b83ece</th>\n      <th>34c40c3f22b377</th>\n      <th>046a416f4a41da</th>\n      <th>44f0c8fe6fd1c0</th>\n      <th>54f07b825fd662</th>\n      <th>74ce1be7fe3286</th>\n      <th>67a1130899695f</th>\n      <th>64f3d2db7a782f</th>\n    </tr>\n  </thead>\n  <tbody>\n    <tr>\n      <th>0</th>\n      <td>1000</td>\n      <td>6.2</td>\n      <td>0</td>\n      <td>1.0</td>\n      <td>2.0</td>\n      <td>8.0</td>\n      <td>1.0</td>\n      <td>1.0</td>\n      <td>2.0</td>\n      <td>3.0</td>\n      <td>...</td>\n      <td>0.0</td>\n      <td>0.0</td>\n      <td>0.0</td>\n      <td>0.0</td>\n      <td>0.0</td>\n      <td>0.0</td>\n      <td>0.0</td>\n      <td>0.0</td>\n      <td>0.0</td>\n      <td>0.0</td>\n    </tr>\n    <tr>\n      <th>1</th>\n      <td>1001</td>\n      <td>15.2</td>\n      <td>4168</td>\n      <td>48.0</td>\n      <td>3968.0</td>\n      <td>2.0</td>\n      <td>44.0</td>\n      <td>0.0</td>\n      <td>0.0</td>\n      <td>17.0</td>\n      <td>...</td>\n      <td>0.0</td>\n      <td>0.0</td>\n      <td>0.0</td>\n      <td>0.0</td>\n      <td>0.0</td>\n      <td>0.0</td>\n      <td>0.0</td>\n      <td>0.0</td>\n      <td>0.0</td>\n      <td>0.0</td>\n    </tr>\n    <tr>\n      <th>2</th>\n      <td>1002</td>\n      <td>11.0</td>\n      <td>1</td>\n      <td>14.0</td>\n      <td>245.0</td>\n      <td>14.0</td>\n      <td>53.0</td>\n      <td>1.0</td>\n      <td>5.0</td>\n      <td>258.0</td>\n      <td>...</td>\n      <td>0.0</td>\n      <td>0.0</td>\n      <td>0.0</td>\n      <td>0.0</td>\n      <td>0.0</td>\n      <td>0.0</td>\n      <td>0.0</td>\n      <td>0.0</td>\n      <td>0.0</td>\n      <td>0.0</td>\n    </tr>\n    <tr>\n      <th>3</th>\n      <td>1003</td>\n      <td>15.4</td>\n      <td>4127</td>\n      <td>26.0</td>\n      <td>3934.0</td>\n      <td>2.0</td>\n      <td>31.0</td>\n      <td>0.0</td>\n      <td>2.0</td>\n      <td>26.0</td>\n      <td>...</td>\n      <td>0.0</td>\n      <td>0.0</td>\n      <td>0.0</td>\n      <td>0.0</td>\n      <td>0.0</td>\n      <td>0.0</td>\n      <td>0.0</td>\n      <td>0.0</td>\n      <td>0.0</td>\n      <td>0.0</td>\n    </tr>\n    <tr>\n      <th>4</th>\n      <td>1004</td>\n      <td>6.2</td>\n      <td>0</td>\n      <td>1.0</td>\n      <td>2.0</td>\n      <td>8.0</td>\n      <td>1.0</td>\n      <td>1.0</td>\n      <td>2.0</td>\n      <td>3.0</td>\n      <td>...</td>\n      <td>0.0</td>\n      <td>0.0</td>\n      <td>0.0</td>\n      <td>0.0</td>\n      <td>0.0</td>\n      <td>0.0</td>\n      <td>0.0</td>\n      <td>0.0</td>\n      <td>0.0</td>\n      <td>0.0</td>\n    </tr>\n    <tr>\n      <th>...</th>\n      <td>...</td>\n      <td>...</td>\n      <td>...</td>\n      <td>...</td>\n      <td>...</td>\n      <td>...</td>\n      <td>...</td>\n      <td>...</td>\n      <td>...</td>\n      <td>...</td>\n      <td>...</td>\n      <td>...</td>\n      <td>...</td>\n      <td>...</td>\n      <td>...</td>\n      <td>...</td>\n      <td>...</td>\n      <td>...</td>\n      <td>...</td>\n      <td>...</td>\n      <td>...</td>\n    </tr>\n    <tr>\n      <th>1071</th>\n      <td>993</td>\n      <td>16.0</td>\n      <td>4069</td>\n      <td>28.0</td>\n      <td>7665.0</td>\n      <td>6.0</td>\n      <td>87.0</td>\n      <td>0.0</td>\n      <td>3.0</td>\n      <td>256.0</td>\n      <td>...</td>\n      <td>0.0</td>\n      <td>0.0</td>\n      <td>0.0</td>\n      <td>0.0</td>\n      <td>0.0</td>\n      <td>0.0</td>\n      <td>0.0</td>\n      <td>0.0</td>\n      <td>0.0</td>\n      <td>0.0</td>\n    </tr>\n    <tr>\n      <th>1072</th>\n      <td>994</td>\n      <td>6.2</td>\n      <td>0</td>\n      <td>1.0</td>\n      <td>2.0</td>\n      <td>8.0</td>\n      <td>1.0</td>\n      <td>1.0</td>\n      <td>2.0</td>\n      <td>3.0</td>\n      <td>...</td>\n      <td>0.0</td>\n      <td>0.0</td>\n      <td>0.0</td>\n      <td>0.0</td>\n      <td>0.0</td>\n      <td>0.0</td>\n      <td>0.0</td>\n      <td>0.0</td>\n      <td>0.0</td>\n      <td>0.0</td>\n    </tr>\n    <tr>\n      <th>1073</th>\n      <td>995</td>\n      <td>4.8</td>\n      <td>0</td>\n      <td>3.0</td>\n      <td>2.0</td>\n      <td>8.0</td>\n      <td>2.0</td>\n      <td>1.0</td>\n      <td>2.0</td>\n      <td>3.0</td>\n      <td>...</td>\n      <td>0.0</td>\n      <td>0.0</td>\n      <td>0.0</td>\n      <td>0.0</td>\n      <td>0.0</td>\n      <td>0.0</td>\n      <td>0.0</td>\n      <td>0.0</td>\n      <td>0.0</td>\n      <td>0.0</td>\n    </tr>\n    <tr>\n      <th>1074</th>\n      <td>996</td>\n      <td>9.8</td>\n      <td>1</td>\n      <td>14.0</td>\n      <td>245.0</td>\n      <td>14.0</td>\n      <td>44.0</td>\n      <td>1.0</td>\n      <td>5.0</td>\n      <td>258.0</td>\n      <td>...</td>\n      <td>0.0</td>\n      <td>0.0</td>\n      <td>0.0</td>\n      <td>0.0</td>\n      <td>0.0</td>\n      <td>0.0</td>\n      <td>0.0</td>\n      <td>0.0</td>\n      <td>0.0</td>\n      <td>0.0</td>\n    </tr>\n    <tr>\n      <th>1075</th>\n      <td>997</td>\n      <td>14.8</td>\n      <td>4164</td>\n      <td>44.0</td>\n      <td>19759.0</td>\n      <td>6.0</td>\n      <td>353.0</td>\n      <td>0.0</td>\n      <td>3.0</td>\n      <td>256.0</td>\n      <td>...</td>\n      <td>0.0</td>\n      <td>0.0</td>\n      <td>0.0</td>\n      <td>0.0</td>\n      <td>0.0</td>\n      <td>0.0</td>\n      <td>0.0</td>\n      <td>0.0</td>\n      <td>0.0</td>\n      <td>0.0</td>\n    </tr>\n  </tbody>\n</table>\n<p>1076 rows × 448 columns</p>\n</div>"
     },
     "execution_count": 25,
     "metadata": {},
     "output_type": "execute_result"
    }
   ],
   "source": [
    "table"
   ],
   "metadata": {
    "collapsed": false,
    "pycharm": {
     "name": "#%%\n"
    }
   }
  },
  {
   "cell_type": "code",
   "execution_count": 26,
   "outputs": [
    {
     "name": "stdout",
     "output_type": "stream",
     "text": [
      "id => 862302\n",
      "score => 10926.8\n",
      "added_files => 2002594\n",
      "LdrUnloadDll => 135279.0\n",
      "NtReadFile => 15076907.0\n",
      "CreateActCtxW => 5245.0\n",
      "NtOpenKey => 187331.0\n",
      "SetFilePointer => 129383.0\n",
      "SetUnhandledExceptionFilter => 6914.0\n",
      "SetErrorMode => 87757.0\n",
      "NtCreateFile => 4653509.0\n",
      "NtClose => 25642467.0\n",
      "GetSystemTimeAsFileTime => 492824.0\n",
      "LdrLoadDll => 444110.0\n",
      "NtTerminateProcess => 13638.0\n",
      "GetFileAttributesW => 800263.0\n",
      "CreateProcessInternalW => 257114.0\n",
      "NtQueryValueKey => 1307452.0\n",
      "CreateToolhelp32Snapshot => 3182.0\n",
      "GetNativeSystemInfo => 28601.0\n",
      "RegCloseKey => 404541.0\n",
      "GetSystemInfo => 235154.0\n",
      "RegQueryValueExA => 25763.0\n",
      "NtOpenProcess => 190659.0\n",
      "NtFreeVirtualMemory => 1559623.0\n",
      "Process32NextW => 121659.0\n",
      "RegOpenKeyExW => 468897.0\n",
      "NtDelayExecution => 2179535.0\n",
      "NtAllocateVirtualMemory => 2168906.0\n",
      "RegOpenKeyExA => 25492.0\n",
      "LdrGetDllHandle => 535569.0\n",
      "Process32FirstW => 3082.0\n",
      "CreateThread => 1391854.0\n",
      "GetSystemDirectoryW => 11927.0\n",
      "timeGetTime => 1362099.0\n",
      "LoadStringW => 5064554.0\n",
      "NtCreateMutant => 16666.0\n",
      "NtProtectVirtualMemory => 48780.0\n",
      "GetFileAttributesExW => 22987.0\n",
      "LdrGetProcedureAddress => 850485.0\n",
      "file_created => 162271.0\n",
      "file_recreated => 18210.0\n",
      "directory_created => 1920.0\n",
      "dll_loaded => 44992.0\n",
      "file_opened => 3904432.0\n",
      "command_line => 3413.0\n",
      "regkey_opened => 131595.0\n",
      "resolve_host => 0.0\n",
      "file_written => 1628026.0\n",
      "file_deleted => 202905.0\n",
      "file_exists => 394328.0\n",
      "file_moved => 1412129.0\n",
      "mutex => 2937.0\n",
      "file_failed => 422933.0\n",
      "wmi_query => 312.0\n",
      "guid => 15795.0\n",
      "file_read => 2040283.0\n",
      "regkey_read => 669254.0\n",
      "directory_enumerated => 1425474.0\n",
      "regkey_written => 13773.0\n",
      "System => 1069.0\n",
      "exe => 44659.0\n",
      " => 1092.0\n",
      "277bbabf2bcffc => 30.0\n",
      "SeCreateTokenPrivilege => 48469.0\n",
      "SeAssignPrimaryTokenPrivilege => 48469.0\n",
      "SeLockMemoryPrivilege => 48469.0\n",
      "SeIncreaseQuotaPrivilege => 48469.0\n",
      "SeMachineAccountPrivilege => 48469.0\n",
      "SeTcbPrivilege => 48469.0\n",
      "SeSecurityPrivilege => 48469.0\n",
      "SeTakeOwnershipPrivilege => 48469.0\n",
      "SeLoadDriverPrivilege => 48469.0\n",
      "SeSystemProfilePrivilege => 48469.0\n",
      "SeSystemtimePrivilege => 48469.0\n",
      "SeProfileSingleProcessPrivilege => 48469.0\n",
      "SeIncreaseBasePriorityPrivilege => 48469.0\n",
      "SeCreatePagefilePrivilege => 48469.0\n",
      "SeCreatePermanentPrivilege => 48469.0\n",
      "SeBackupPrivilege => 48469.0\n",
      "SeRestorePrivilege => 48469.0\n",
      "SeShutdownPrivilege => 48469.0\n",
      "SeDebugPrivilege => 48469.0\n",
      "SeAuditPrivilege => 48469.0\n",
      "SeSystemEnvironmentPrivilege => 48469.0\n",
      "SeChangeNotifyPrivilege => 48469.0\n",
      "SeRemoteShutdownPrivilege => 48469.0\n",
      "SeUndockPrivilege => 48469.0\n",
      "SeSyncAgentPrivilege => 48469.0\n",
      "SeEnableDelegationPrivilege => 48469.0\n",
      "SeManageVolumePrivilege => 48469.0\n",
      "SeImpersonatePrivilege => 48469.0\n",
      "SeCreateGlobalPrivilege => 48469.0\n",
      "SeTrustedCredManAccessPrivilege => 48469.0\n",
      "SeRelabelPrivilege => 48469.0\n",
      "SeIncreaseWorkingSetPrivilege => 48469.0\n",
      "SeTimeZonePrivilege => 48469.0\n",
      "SeCreateSymbolicLinkPrivilege => 48469.0\n",
      "udp => 7128\n",
      "strings_count => 606467\n",
      "NtOpenSection => 5281.0\n",
      "GetForegroundWindow => 424095.0\n",
      "GetVolumePathNamesForVolumeNameW => 5176.0\n",
      "ShellExecuteExW => 719.0\n",
      "GetUserNameW => 2585.0\n",
      "FindResourceExW => 162186.0\n",
      "CoInitializeEx => 85393.0\n",
      "LoadResource => 114539.0\n",
      "SetFileAttributesW => 799388.0\n",
      "NtQueryInformationFile => 7466360.0\n",
      "RegCreateKeyExW => 13277.0\n",
      "NtQueryKey => 1218346.0\n",
      "IsDebuggerPresent => 1397.0\n",
      "RegQueryValueExW => 674044.0\n",
      "NtDeviceIoControlFile => 994012.0\n",
      "NtWriteFile => 5575342.0\n",
      "NtQuerySystemInformation => 4124232.0\n",
      "NtEnumerateValueKey => 68090.0\n",
      "NtQueryDirectoryFile => 11631976.0\n",
      "GetVolumeNameForVolumeMountPointW => 2242.0\n",
      "SHGetFolderPathW => 14490.0\n",
      "RegDeleteValueW => 1789.0\n",
      "RegSetValueExW => 13351.0\n",
      "GetDiskFreeSpaceExW => 1555.0\n",
      "NtEnumerateKey => 69587.0\n",
      "CoUninitialize => 85782.0\n",
      "LookupAccountSidW => 19072.0\n",
      "NtDuplicateObject => 513816.0\n",
      "NtSetInformationFile => 2438251.0\n",
      "NtCreateKey => 4880.0\n",
      "MoveFileWithProgressW => 1485124.0\n",
      "WSAStartup => 57814.0\n",
      "GetSystemMetrics => 6685247.0\n",
      "NtCreateThreadEx => 690.0\n",
      "GetFileSize => 58002.0\n",
      "CreateDirectoryW => 7242.0\n",
      "GetComputerNameW => 4468.0\n",
      "NtResumeThread => 1827.0\n",
      "GetFileSizeEx => 1006398.0\n",
      "CoCreateInstance => 108095.0\n",
      "FindFirstFileExW => 1658580.0\n",
      "NtCreateSection => 154213.0\n",
      "SearchPathW => 10151.0\n",
      "NtQueryMultipleValueKey => 124.0\n",
      "DrawTextExW => 116991.0\n",
      "NetShareEnum => 1830.0\n",
      "GetSystemWindowsDirectoryW => 8191.0\n",
      "NtMapViewOfSection => 116089.0\n",
      "RegEnumKeyW => 39314.0\n",
      "NtOpenDirectoryObject => 7527.0\n",
      "OleInitialize => 140274.0\n",
      "NtOpenFile => 7976550.0\n",
      "NtUnmapViewOfSection => 125888.0\n",
      "__exception__ => 198303.0\n",
      "GetAddrInfoW => 109410.0\n",
      "GetTempPathW => 3513.0\n",
      "NtOpenKeyEx => 1029489.0\n",
      "GetUserNameExW => 3123.0\n",
      "GetFileVersionInfoSizeW => 2936.0\n",
      "NtReadVirtualMemory => 104273.0\n",
      "GetFileInformationByHandle => 1941.0\n",
      "RtlAddVectoredExceptionHandler => 250.0\n",
      "GetFileInformationByHandleEx => 9139.0\n",
      "GlobalMemoryStatusEx => 1796.0\n",
      "CoInitializeSecurity => 1209.0\n",
      "DeviceIoControl => 3732.0\n",
      "EnumWindows => 4965.0\n",
      "LookupPrivilegeValueW => 1196.0\n",
      "CoCreateInstanceEx => 647.0\n",
      "CryptExportKey => 58057.0\n",
      "UuidCreate => 193747.0\n",
      "CryptCreateHash => 2917655.0\n",
      "IWbemServices_ExecQuery => 341.0\n",
      "DeleteFileW => 203299.0\n",
      "CryptAcquireContextA => 1207.0\n",
      "RegEnumKeyExW => 29974.0\n",
      "GetComputerNameA => 342.0\n",
      "RegEnumValueW => 46149.0\n",
      "GetTimeZoneInformation => 1831.0\n",
      "NtOpenMutant => 601.0\n",
      "GetFileType => 235823.0\n",
      "CryptHashData => 2930304.0\n",
      "RtlAddVectoredContinueHandler => 193.0\n",
      "CoGetClassObject => 6326.0\n",
      "RegQueryInfoKeyW => 4920.0\n",
      "gethostbyname => 199.0\n",
      "NtQueryAttributesFile => 26602.0\n",
      "GetFileVersionInfoW => 2880.0\n",
      "OpenServiceW => 3705.0\n",
      "ControlService => 1230.0\n",
      "DeleteService => 516.0\n",
      "OpenSCManagerW => 3756.0\n",
      "NtOpenThread => 52590.0\n",
      "WriteConsoleW => 947299.0\n",
      "SetFilePointerEx => 2400303.0\n",
      "NtSetValueKey => 19244.0\n",
      "SendNotifyMessageW => 4339.0\n",
      "SizeofResource => 37215.0\n",
      "GetKeyState => 2726593.0\n",
      "GetCursorPos => 109467.0\n",
      "NtDeleteKey => 360.0\n",
      "FindWindowW => 18445.0\n",
      "FindResourceW => 23184.0\n",
      "GetVolumePathNameW => 608.0\n",
      "SetWindowsHookExW => 332.0\n",
      "UnhookWindowsHookEx => 338.0\n",
      "IWbemServices_ExecMethod => 456.0\n",
      "RemoveDirectoryW => 749.0\n",
      "MessageBoxTimeoutW => 259.0\n",
      "TrustedInstall => 271.0\n",
      "SearchProtocol => 314.0\n",
      "SearchFilterHo => 314.0\n",
      "EXE => 358.0\n",
      "OutputDebugStringA => 759162.0\n",
      "645f2904cde1bd => 1.0\n",
      "0832b9544b38ae => 1.0\n",
      "3338eb73de83e9 => 9.0\n",
      "CryptAcquireContextW => 194.0\n",
      "RegEnumKeyExA => 3305.0\n",
      "RegQueryInfoKeyA => 2984.0\n",
      "WriteConsoleA => 2085.0\n",
      "Thread32First => 80.0\n",
      "Thread32Next => 47190.0\n",
      "04419b76566142 => 2.0\n",
      "5219bdf17e6cf7 => 1.0\n",
      "6964a0bc3d98f1 => 2.0\n",
      "7789ea5daa745b => 34.0\n",
      "GetShortPathNameW => 24562.0\n",
      "RegSetValueExA => 453.0\n",
      "ReadProcessMemory => 2620.0\n",
      "30980f00bc1bcb => 1.0\n",
      "51923ec7455554 => 1.0\n",
      "320850e1cd91c5 => 8.0\n",
      "GetSystemWindowsDirectoryA => 2.0\n",
      "MessageBoxTimeoutA => 24.0\n",
      "66060484cccedb => 2.0\n",
      "75175009b6864c => 45.0\n",
      "WSASocketA => 2.0\n",
      "FindWindowA => 14360.0\n",
      "WSASend => 105312.0\n",
      "SHGetSpecialFolderLocation => 262.0\n",
      "ab0aa003d72389 => 32.0\n",
      "b9f3199637a366 => 3.0\n",
      "OpenServiceA => 3206.0\n",
      "WriteProcessMemory => 2172.0\n",
      "NtSetContextThread => 31.0\n",
      "LoadStringA => 194.0\n",
      "NtGetContextThread => 237.0\n",
      "OpenSCManagerA => 308.0\n",
      "FindResourceA => 169.0\n",
      "FindResourceExA => 75.0\n",
      "SendNotifyMessageA => 1.0\n",
      "SetWindowsHookExA => 10.0\n",
      "bb663585a677c1 => 1.0\n",
      "c068e2fe99d491 => 39.0\n",
      "db59d4ab0aaf66 => 53.0\n",
      "e => 85.0\n",
      "NtTerminateThread => 3.0\n",
      "dd05b24610d5f9 => 9.0\n",
      "SetFileTime => 13137.0\n",
      "SetEndOfFile => 54402.0\n",
      "df09717cadadad => 1.0\n",
      "WSARecv => 105348.0\n",
      "WSASocketW => 109912.0\n",
      "getsockname => 105318.0\n",
      "setsockopt => 210868.0\n",
      "closesocket => 126942.0\n",
      "bind => 123936.0\n",
      "ec9950b2114f7c => 1.0\n",
      "PRF => 732.0\n",
      "f0f41725a9bcbe => 1.0\n",
      "fac5d96467b6b9 => 1.0\n",
      "fb420db352c21d => 1.0\n",
      "fcccb31dc2205a => 2.0\n",
      "fedc73b81adb7a => 3.0\n",
      "00e815ade8f3ad => 1.0\n",
      "20f74016f44481 => 2.0\n",
      "67fd7b558dbe2c => 1.0\n",
      "968307a367471e => 1.0\n",
      "b6317c86864cc8 => 1.0\n",
      "c43fe59d34ceef => 2.0\n",
      "d0cde86d47219e => 6.0\n",
      "CryptEncrypt => 137490.0\n",
      "CryptGenKey => 25505.0\n",
      "CryptDecodeObjectEx => 79519.0\n",
      "shutdown => 4590.0\n",
      "socket => 17634.0\n",
      "InternetCrackUrlW => 492.0\n",
      "5ace33358a8b11 => 3.0\n",
      "RegCreateKeyExA => 355.0\n",
      "NtQueueApcThread => 1.0\n",
      "8644b269a72052 => 1.0\n",
      "GetDiskFreeSpaceW => 51.0\n",
      "SetStdHandle => 91.0\n",
      "__anomaly__ => 3.0\n",
      "GetAdaptersInfo => 77.0\n",
      "CryptDecrypt => 88.0\n",
      "NetUserGetInfo => 64.0\n",
      "38d20104c7a295 => 2.0\n",
      "RegDeleteKeyW => 359.0\n",
      "40c436f4ac5193 => 1.0\n",
      "RegisterHotKey => 50.0\n",
      "ioctlsocket => 3577.0\n",
      "select => 3106.0\n",
      "connect => 3578.0\n",
      "00260c390ffab5 => 1.0\n",
      "getaddrinfo => 57.0\n",
      "Module32FirstW => 47.0\n",
      "4672f4ade47a47 => 1.0\n",
      "7363f13db04862 => 1.0\n",
      "51634f69ba2c47 => 1.0\n",
      "5072678821b490 => 2.0\n",
      "a9cb8fb06970ee => 1.0\n",
      "acad2d9b291b5a => 1.0\n",
      "c6902f14bafb0f => 1.0\n",
      "GetUserNameA => 11.0\n",
      "c765054b9257ae => 1.0\n",
      "NtWriteVirtualMemory => 5.0\n",
      "d9a56374fd8977 => 1.0\n",
      "d089d57b8b2b32 => 1.0\n",
      "dd8fe3966ab4d2 => 1.0\n",
      "dec4ca3a086391 => 1.0\n",
      "e786673320cd80 => 1.0\n",
      "f978a39f80fe81 => 1.0\n",
      "faaa06208acdf2 => 1.0\n",
      "0dcbc979c995ee => 1.0\n",
      "2b8fe787f921aa => 1.0\n",
      "2cf51d2d9edcfc => 1.0\n",
      "4bb152c96ba9e2 => 1.0\n",
      "4edbf2358a9820 => 1.0\n",
      "5a67b802ccb3ff => 1.0\n",
      "8b3d44f0998886 => 1.0\n",
      "GetAdaptersAddresses => 479.0\n",
      "HttpOpenRequestW => 1344.0\n",
      "InternetConnectW => 1344.0\n",
      "InternetCloseHandle => 3998.0\n",
      "InternetQueryOptionA => 13.0\n",
      "InternetReadFile => 2591.0\n",
      "HttpSendRequestW => 1323.0\n",
      "InternetOpenW => 1331.0\n",
      "17b2425219679a => 1.0\n",
      "0aa8099c5a6506 => 1.0\n",
      "NetGetJoinInformation => 6.0\n",
      "GlobalMemoryStatus => 52.0\n",
      "EnumServicesStatusA => 4.0\n",
      "4a5ac3c6f8383c => 1.0\n",
      "SetFileInformationByHandle => 4.0\n",
      "e435a95489a4eb => 1.0\n",
      "GetSystemDirectoryA => 34.0\n",
      "NtSuspendThread => 186.0\n",
      "2d4b2b807ace9d => 1.0\n",
      "GetFileVersionInfoSizeExW => 90.0\n",
      "GetFileVersionInfoExW => 90.0\n",
      "recv => 15.0\n",
      "send => 40.0\n",
      "InternetOpenA => 20.0\n",
      "URLDownloadToFileW => 1.0\n",
      "InternetOpenUrlA => 7.0\n",
      "CertControlStore => 4568.0\n",
      "f69943bf5f5f8e => 10.0\n",
      "FindWindowExW => 8127.0\n",
      "d7c7947d060da8 => 4.0\n",
      "recvfrom => 380.0\n",
      "sendto => 192.0\n",
      "CertOpenStore => 2845.0\n",
      "8587037c15463d => 4.0\n",
      "CopyFileW => 28.0\n",
      "0d0ed90929351c => 5.0\n",
      "ReadCabinetState => 31.0\n",
      "GetKeyboardState => 1705.0\n",
      "5b1f242aee0eab => 1.0\n",
      "EnumServicesStatusW => 496.0\n",
      "CreateRemoteThread => 93.0\n",
      "cfb959cc29e728 => 45.0\n",
      "307a8158e69868 => 2.0\n",
      "781bc4dcbd4598 => 1.0\n",
      "DecryptMessage => 6.0\n",
      "EncryptMessage => 10.0\n",
      "f894ffdc00c7b9 => 1.0\n",
      "2d73ce9f8e11bb => 48.0\n",
      "RemoveDirectoryA => 105.0\n",
      "DeleteUrlCacheEntryW => 31.0\n",
      "RegDeleteKeyA => 4.0\n",
      "4f6ce92fccafa6 => 40.0\n",
      "InternetCrackUrlA => 1.0\n",
      "HttpSendRequestA => 10.0\n",
      "InternetSetOptionA => 91.0\n",
      "InternetSetStatusCallback => 12.0\n",
      "GetBestInterfaceEx => 114.0\n",
      "InternetGetConnectedState => 2.0\n",
      "ObtainUserAgentString => 14.0\n",
      "RegEnumValueA => 97.0\n",
      "InternetConnectA => 1.0\n",
      "CryptProtectData => 1.0\n",
      "GetAsyncKeyState => 44.0\n",
      "COleScript_Compile => 5.0\n",
      "CryptUnprotectData => 1.0\n",
      "Module32NextW => 2289.0\n",
      "listen => 2.0\n",
      "accept => 2.0\n",
      "Thunderbird Se => 12.0\n",
      "maintenanceser => 2.0\n",
      "ex => 35.0\n",
      "minidump-analy => 24.0\n",
      "CreateServiceW => 1.0\n",
      "CopyFileA => 514.0\n",
      "StartServiceA => 2.0\n",
      "InternetOpenUrlW => 2.0\n",
      "3b0cf9bc480a7f => 1.0\n",
      "3ba4483c761a05 => 1.0\n",
      "3bbbc68fe566ca => 1.0\n",
      "3e8efba2ef67cc => 1.0\n",
      "3ea8f71bfb79e6 => 1.0\n",
      "3ec98567ef4b4e => 1.0\n",
      "4b753dc49f7e45 => 1.0\n",
      "4be415c196067f => 1.0\n",
      "4d3fb0e2d5ba3f => 1.0\n",
      "4e5c233cf1270e => 1.0\n",
      "4e1317c219c4bf => 1.0\n",
      "04f710f755af9a => 1.0\n",
      "5fa14751ef7fa7 => 2.0\n",
      "6a2bd52a5d68a7 => 1.0\n",
      "6ac88349fce736 => 1.0\n",
      "6d90727156fec8 => 3.0\n",
      "6e57810c41f253 => 1.0\n",
      "6edef9c0343c53 => 1.0\n",
      "6f4da4d2ffa8f6 => 4.0\n",
      "6ff970f1502347 => 1.0\n",
      "7bafd5de1b6724 => 2.0\n",
      "7b4d8115ef55d2 => 1.0\n",
      "7c8cb66e9e5ac6 => 1.0\n",
      "7e70460a2e3954 => 2.0\n",
      "8ab99ac368b338 => 1.0\n",
      "8d8c401dd0169a => 1.0\n",
      "StartServiceW => 2.0\n",
      "8e5cd93d172b65 => 21.0\n",
      "14cb0affce00f0 => 2.0\n",
      "14d09a259f7256 => 15.0\n",
      "19cd4deb02d2b5 => 1.0\n",
      "20d46f118a5e92 => 1.0\n",
      "26df34c6b83ece => 1.0\n",
      "34c40c3f22b377 => 2.0\n",
      "046a416f4a41da => 24.0\n",
      "44f0c8fe6fd1c0 => 1.0\n",
      "54f07b825fd662 => 1.0\n",
      "74ce1be7fe3286 => 25.0\n",
      "67a1130899695f => 1.0\n",
      "64f3d2db7a782f => 1.0\n"
     ]
    }
   ],
   "source": [
    "for col in table.columns:\n",
    "    print (col + \" => \" + str(table[col].sum()))\n",
    "\n",
    "# as colunas com hexa aleatrório provavelmente vão ser descartadas\n",
    "# as colunas com os arquivos de extensão sys e dll provavelmente vão ser descartadas\n",
    "# as colunas do pribvilégio provavelmente serão descartadas\n",
    "\n"
   ],
   "metadata": {
    "collapsed": false,
    "pycharm": {
     "name": "#%%\n"
    }
   }
  },
  {
   "cell_type": "code",
   "execution_count": 174,
   "outputs": [],
   "source": [
    "family = []\n",
    "\n",
    "for i in range(len(table)):\n",
    "    if 191<table[\"id\"][i]<207:\n",
    "        family.append(\"clop\")\n",
    "    elif(206<table[\"id\"][i]<311):\n",
    "        family.append(\"conti\")\n",
    "    elif(310<table[\"id\"][i]<356):\n",
    "        family.append(\"egregor\")\n",
    "    elif(401<table[\"id\"][i]<452):\n",
    "        family.append(\"lockbit\")\n",
    "    elif(451<table[\"id\"][i]<469):\n",
    "        family.append(\"mountlocker\")\n",
    "    elif(479<table[\"id\"][i]<557):\n",
    "        family.append(\"netwalker\")\n",
    "    elif(611<table[\"id\"][i]<712):\n",
    "        family.append(\"revil\")\n",
    "    elif(558<table[\"id\"][i]<612):\n",
    "        family.append(\"ryuk\")\n",
    "    elif(711<table[\"id\"][i]<785):\n",
    "        family.append(\"goodware\")\n",
    "    elif(790<table[\"id\"][i]<1446):\n",
    "        family.append(\"revil\")\n",
    "    else:\n",
    "        family.append(\"unknown\")"
   ],
   "metadata": {
    "collapsed": false,
    "pycharm": {
     "name": "#%%\n"
    }
   }
  },
  {
   "cell_type": "code",
   "execution_count": 210,
   "outputs": [],
   "source": [
    "family = []\n",
    "\n",
    "for i in range(len(table)):\n",
    "    if 191<table[\"id\"][i]<207:\n",
    "        family.append(\"malware\")\n",
    "    elif(206<table[\"id\"][i]<311):\n",
    "        family.append(\"malware\")\n",
    "    elif(310<table[\"id\"][i]<356):\n",
    "        family.append(\"malware\")\n",
    "    elif(401<table[\"id\"][i]<452):\n",
    "        family.append(\"malware\")\n",
    "    elif(451<table[\"id\"][i]<469):\n",
    "        family.append(\"malware\")\n",
    "    elif(479<table[\"id\"][i]<557):\n",
    "        family.append(\"malware\")\n",
    "    elif(611<table[\"id\"][i]<712):\n",
    "        family.append(\"malware\")\n",
    "    elif(558<table[\"id\"][i]<612):\n",
    "        family.append(\"malware\")\n",
    "    elif(711<table[\"id\"][i]<738):\n",
    "        family.append(\"goodware\")\n",
    "    else:\n",
    "        family.append(\"unknown\")"
   ],
   "metadata": {
    "collapsed": false,
    "pycharm": {
     "name": "#%%\n"
    }
   }
  },
  {
   "cell_type": "code",
   "execution_count": 211,
   "outputs": [
    {
     "data": {
      "text/plain": "['unknown',\n 'malware',\n 'malware',\n 'malware',\n 'malware',\n 'malware',\n 'unknown',\n 'malware',\n 'malware',\n 'malware',\n 'malware',\n 'malware',\n 'malware',\n 'unknown',\n 'malware',\n 'malware',\n 'malware',\n 'malware',\n 'unknown',\n 'malware',\n 'malware',\n 'malware',\n 'malware',\n 'malware',\n 'malware',\n 'malware',\n 'malware',\n 'malware',\n 'malware',\n 'malware',\n 'malware',\n 'unknown',\n 'unknown',\n 'malware',\n 'malware',\n 'malware',\n 'malware',\n 'malware',\n 'malware',\n 'malware',\n 'malware',\n 'malware',\n 'malware',\n 'malware',\n 'malware',\n 'malware',\n 'malware',\n 'malware',\n 'malware',\n 'malware',\n 'malware',\n 'unknown',\n 'malware',\n 'malware',\n 'malware',\n 'malware',\n 'malware',\n 'malware',\n 'malware',\n 'goodware',\n 'malware',\n 'malware',\n 'unknown',\n 'malware',\n 'malware',\n 'malware',\n 'malware',\n 'goodware',\n 'malware',\n 'malware',\n 'malware',\n 'malware',\n 'malware',\n 'goodware',\n 'unknown',\n 'malware',\n 'malware',\n 'malware',\n 'malware',\n 'malware',\n 'malware',\n 'malware',\n 'malware',\n 'malware',\n 'malware',\n 'malware',\n 'malware',\n 'malware',\n 'malware',\n 'malware',\n 'malware',\n 'malware',\n 'malware',\n 'malware',\n 'malware',\n 'malware',\n 'malware',\n 'malware',\n 'malware',\n 'goodware',\n 'malware',\n 'malware',\n 'malware',\n 'malware',\n 'malware',\n 'malware',\n 'malware',\n 'malware',\n 'malware',\n 'malware',\n 'malware',\n 'malware',\n 'malware',\n 'malware',\n 'malware',\n 'malware',\n 'malware',\n 'malware',\n 'malware',\n 'malware',\n 'malware',\n 'malware',\n 'malware',\n 'malware',\n 'malware',\n 'malware',\n 'unknown',\n 'malware',\n 'malware',\n 'goodware',\n 'malware',\n 'malware',\n 'malware',\n 'malware',\n 'malware',\n 'malware',\n 'malware',\n 'malware',\n 'malware',\n 'malware',\n 'malware',\n 'unknown',\n 'malware',\n 'malware',\n 'malware',\n 'malware',\n 'malware',\n 'malware',\n 'goodware',\n 'malware',\n 'malware',\n 'malware',\n 'unknown',\n 'malware',\n 'malware',\n 'unknown',\n 'malware',\n 'malware',\n 'malware',\n 'malware',\n 'malware',\n 'malware',\n 'malware',\n 'malware',\n 'malware',\n 'malware',\n 'malware',\n 'malware',\n 'malware',\n 'malware',\n 'malware',\n 'malware',\n 'malware',\n 'malware',\n 'malware',\n 'malware',\n 'malware',\n 'malware',\n 'malware',\n 'malware',\n 'malware',\n 'malware',\n 'unknown',\n 'malware',\n 'malware',\n 'malware',\n 'malware',\n 'malware',\n 'malware',\n 'malware',\n 'malware',\n 'malware',\n 'unknown',\n 'malware',\n 'malware',\n 'malware',\n 'malware',\n 'malware',\n 'malware',\n 'malware',\n 'unknown',\n 'malware',\n 'unknown',\n 'malware',\n 'malware',\n 'malware',\n 'malware',\n 'malware',\n 'malware',\n 'malware',\n 'malware',\n 'malware',\n 'malware',\n 'malware',\n 'malware',\n 'malware',\n 'malware',\n 'malware',\n 'malware',\n 'malware',\n 'malware',\n 'unknown',\n 'malware',\n 'malware',\n 'malware',\n 'malware',\n 'unknown',\n 'malware',\n 'malware',\n 'malware',\n 'malware',\n 'unknown',\n 'malware',\n 'malware',\n 'unknown',\n 'malware',\n 'malware',\n 'malware',\n 'malware',\n 'malware',\n 'malware',\n 'malware',\n 'malware',\n 'malware',\n 'malware',\n 'malware',\n 'malware',\n 'malware',\n 'malware',\n 'malware',\n 'malware',\n 'malware',\n 'malware',\n 'malware',\n 'malware',\n 'malware',\n 'unknown',\n 'malware',\n 'malware',\n 'malware',\n 'malware',\n 'malware',\n 'unknown',\n 'malware',\n 'malware',\n 'malware',\n 'unknown',\n 'malware',\n 'unknown',\n 'unknown',\n 'malware',\n 'malware',\n 'unknown',\n 'malware',\n 'malware',\n 'malware',\n 'malware',\n 'malware',\n 'malware',\n 'malware',\n 'malware',\n 'malware',\n 'malware',\n 'malware',\n 'malware',\n 'malware',\n 'goodware',\n 'malware',\n 'malware',\n 'malware',\n 'malware',\n 'unknown',\n 'unknown',\n 'unknown',\n 'malware',\n 'malware',\n 'malware',\n 'unknown',\n 'malware',\n 'unknown',\n 'malware',\n 'malware',\n 'malware',\n 'malware',\n 'malware',\n 'malware',\n 'malware',\n 'unknown',\n 'malware',\n 'goodware',\n 'malware',\n 'malware',\n 'malware',\n 'malware',\n 'malware',\n 'malware',\n 'malware',\n 'malware',\n 'goodware',\n 'malware',\n 'malware',\n 'malware',\n 'malware',\n 'malware',\n 'malware',\n 'malware',\n 'unknown',\n 'malware',\n 'unknown',\n 'malware',\n 'malware',\n 'malware',\n 'unknown',\n 'malware',\n 'malware',\n 'malware',\n 'malware',\n 'malware',\n 'malware',\n 'malware',\n 'unknown',\n 'malware',\n 'malware',\n 'malware',\n 'malware',\n 'malware',\n 'malware',\n 'malware',\n 'malware',\n 'malware',\n 'malware',\n 'malware',\n 'malware',\n 'malware',\n 'unknown',\n 'malware',\n 'goodware',\n 'malware',\n 'malware',\n 'malware',\n 'malware',\n 'malware',\n 'malware',\n 'malware',\n 'malware',\n 'malware',\n 'malware',\n 'malware',\n 'malware',\n 'malware',\n 'goodware',\n 'malware',\n 'malware',\n 'malware',\n 'malware',\n 'malware',\n 'malware',\n 'malware',\n 'malware',\n 'malware',\n 'malware',\n 'malware',\n 'malware',\n 'malware',\n 'malware',\n 'malware',\n 'malware',\n 'malware',\n 'malware',\n 'malware',\n 'unknown',\n 'malware',\n 'malware',\n 'malware',\n 'malware',\n 'malware',\n 'malware',\n 'malware',\n 'malware',\n 'malware',\n 'goodware',\n 'malware',\n 'malware',\n 'malware',\n 'malware',\n 'malware',\n 'malware',\n 'malware',\n 'malware',\n 'malware',\n 'malware',\n 'malware',\n 'malware',\n 'malware',\n 'malware',\n 'malware',\n 'malware',\n 'goodware',\n 'malware',\n 'malware',\n 'malware',\n 'malware',\n 'malware',\n 'unknown',\n 'malware',\n 'malware',\n 'malware',\n 'malware',\n 'malware',\n 'malware',\n 'malware',\n 'malware',\n 'malware',\n 'malware',\n 'malware',\n 'malware',\n 'malware',\n 'malware',\n 'malware',\n 'malware',\n 'malware',\n 'malware',\n 'malware',\n 'malware',\n 'malware',\n 'malware',\n 'goodware',\n 'malware',\n 'malware',\n 'malware',\n 'malware',\n 'malware',\n 'malware',\n 'malware',\n 'malware',\n 'malware',\n 'malware',\n 'malware',\n 'malware',\n 'malware',\n 'malware',\n 'malware',\n 'unknown',\n 'malware',\n 'malware',\n 'malware',\n 'malware',\n 'malware',\n 'malware',\n 'malware',\n 'malware',\n 'malware',\n 'malware',\n 'malware',\n 'malware',\n 'malware',\n 'malware',\n 'malware',\n 'malware',\n 'malware',\n 'malware',\n 'goodware',\n 'malware',\n 'malware',\n 'malware',\n 'malware',\n 'malware',\n 'malware',\n 'malware',\n 'malware',\n 'malware',\n 'malware',\n 'goodware',\n 'malware',\n 'malware',\n 'malware']"
     },
     "execution_count": 211,
     "metadata": {},
     "output_type": "execute_result"
    }
   ],
   "source": [
    "family"
   ],
   "metadata": {
    "collapsed": false,
    "pycharm": {
     "name": "#%%\n"
    }
   }
  },
  {
   "cell_type": "code",
   "execution_count": 254,
   "outputs": [
    {
     "data": {
      "text/plain": "16"
     },
     "execution_count": 254,
     "metadata": {},
     "output_type": "execute_result"
    }
   ],
   "source": [
    "family.count(\"goodware\")"
   ],
   "metadata": {
    "collapsed": false,
    "pycharm": {
     "name": "#%%\n"
    }
   }
  },
  {
   "cell_type": "code",
   "execution_count": 212,
   "outputs": [],
   "source": [
    "table = table.copy()"
   ],
   "metadata": {
    "collapsed": false,
    "pycharm": {
     "name": "#%%\n"
    }
   }
  },
  {
   "cell_type": "code",
   "execution_count": 213,
   "outputs": [],
   "source": [
    "table['family'] = family"
   ],
   "metadata": {
    "collapsed": false,
    "pycharm": {
     "name": "#%%\n"
    }
   }
  },
  {
   "cell_type": "code",
   "execution_count": 214,
   "outputs": [
    {
     "name": "stdout",
     "output_type": "stream",
     "text": [
      "Index(['', 'NtDuplicateObject', 'CoUninitialize', 'NtQueryKey', 'LdrUnloadDll',\n",
      "       'LookupPrivilegeValueW', 'NtClose', 'NtAllocateVirtualMemory',\n",
      "       'LdrGetDllHandle', 'CoCreateInstance',\n",
      "       ...\n",
      "       'RegEnumValueA', 'InternetCrackUrlA', 'HttpSendRequestA',\n",
      "       'InternetSetStatusCallback', 'InternetGetConnectedState',\n",
      "       'ObtainUserAgentString', 'InternetConnectA', 'CryptProtectData',\n",
      "       'InternetOpenUrlW', 'family'],\n",
      "      dtype='object', length=261)\n"
     ]
    }
   ],
   "source": [
    "print(table.columns)"
   ],
   "metadata": {
    "collapsed": false,
    "pycharm": {
     "name": "#%%\n"
    }
   }
  },
  {
   "cell_type": "code",
   "execution_count": 215,
   "outputs": [
    {
     "data": {
      "text/plain": "<matplotlib.axes._subplots.AxesSubplot at 0x7f63cbca1c10>"
     },
     "execution_count": 215,
     "metadata": {},
     "output_type": "execute_result"
    },
    {
     "data": {
      "text/plain": "<Figure size 432x288 with 1 Axes>",
      "image/png": "[encoded data removed]"
     },
     "metadata": {},
     "output_type": "display_data"
    }
   ],
   "source": [
    "seaborn.countplot(x = table[\"family\"])"
   ],
   "metadata": {
    "collapsed": false,
    "pycharm": {
     "name": "#%%\n"
    }
   }
  },
  {
   "cell_type": "code",
   "execution_count": 216,
   "outputs": [],
   "source": [
    "# Preenche tudo que for NaN por zero (API chamada zero vezes)\n",
    "for column in table.columns:\n",
    "    table[column].fillna(0, inplace =True)"
   ],
   "metadata": {
    "collapsed": false,
    "pycharm": {
     "name": "#%%\n"
    }
   }
  },
  {
   "cell_type": "code",
   "execution_count": 217,
   "outputs": [
    {
     "data": {
      "text/plain": "          NtDuplicateObject  CoUninitialize  NtQueryKey  LdrUnloadDll  \\\n0    0.0                0.0             0.0         0.0           0.0   \n1    0.0             1766.0             5.0        16.0           8.0   \n2    0.0                0.0             0.0         0.0           0.0   \n3    0.0               18.0           240.0      1027.0          45.0   \n4    0.0                0.0             0.0         0.0           1.0   \n..   ...                ...             ...         ...           ...   \n491  0.0                0.0             0.0         0.0           1.0   \n492  0.0               23.0            15.0       845.0          40.0   \n493  0.0               23.0             1.0       123.0          17.0   \n494  0.0                0.0             0.0         0.0           3.0   \n495  0.0                0.0             0.0         0.0           4.0   \n\n     LookupPrivilegeValueW  NtClose  NtAllocateVirtualMemory  LdrGetDllHandle  \\\n0                      0.0      0.0                      0.0              0.0   \n1                      5.0  22672.0                  11924.0             10.0   \n2                      0.0      0.0                      3.0              1.0   \n3                      1.0  18450.0                   9116.0            211.0   \n4                      0.0     16.0                      0.0             17.0   \n..                     ...      ...                      ...              ...   \n491                    0.0     12.0                      0.0              0.0   \n492                    0.0  24775.0                    894.0            490.0   \n493                    0.0    505.0                    273.0            187.0   \n494                    0.0     35.0                     13.0              5.0   \n495                    0.0     31.0                      0.0              2.0   \n\n     CoCreateInstance  ...  RegEnumValueA  InternetCrackUrlA  \\\n0                 0.0  ...            0.0                0.0   \n1                 8.0  ...            0.0                0.0   \n2                 0.0  ...            0.0                0.0   \n3                52.0  ...            0.0                0.0   \n4                 0.0  ...            0.0                0.0   \n..                ...  ...            ...                ...   \n491               0.0  ...            0.0                0.0   \n492              14.0  ...           42.0                0.0   \n493              23.0  ...            0.0                0.0   \n494               0.0  ...            0.0                0.0   \n495               0.0  ...            0.0                0.0   \n\n     HttpSendRequestA  InternetSetStatusCallback  InternetGetConnectedState  \\\n0                 0.0                        0.0                        0.0   \n1                 0.0                        0.0                        0.0   \n2                 0.0                        0.0                        0.0   \n3                 0.0                        0.0                        0.0   \n4                 0.0                        0.0                        0.0   \n..                ...                        ...                        ...   \n491               0.0                        0.0                        0.0   \n492               0.0                        1.0                        1.0   \n493               0.0                        0.0                        0.0   \n494               0.0                        0.0                        0.0   \n495               0.0                        0.0                        0.0   \n\n     ObtainUserAgentString  InternetConnectA  CryptProtectData  \\\n0                      0.0               0.0               0.0   \n1                      0.0               0.0               0.0   \n2                      0.0               0.0               0.0   \n3                      0.0               0.0               0.0   \n4                      0.0               0.0               0.0   \n..                     ...               ...               ...   \n491                    0.0               0.0               0.0   \n492                    0.0               0.0               0.0   \n493                    0.0               0.0               0.0   \n494                    0.0               0.0               0.0   \n495                    0.0               0.0               0.0   \n\n     InternetOpenUrlW    family  \n0                 0.0   unknown  \n1                 0.0   malware  \n2                 0.0   malware  \n3                 0.0   malware  \n4                 0.0   malware  \n..                ...       ...  \n491               0.0   malware  \n492               2.0  goodware  \n493               0.0   malware  \n494               0.0   malware  \n495               0.0   malware  \n\n[496 rows x 261 columns]",
      "text/html": "<div>\n<style scoped>\n    .dataframe tbody tr th:only-of-type {\n        vertical-align: middle;\n    }\n\n    .dataframe tbody tr th {\n        vertical-align: top;\n    }\n\n    .dataframe thead th {\n        text-align: right;\n    }\n</style>\n<table border=\"1\" class=\"dataframe\">\n  <thead>\n    <tr style=\"text-align: right;\">\n      <th></th>\n      <th></th>\n      <th>NtDuplicateObject</th>\n      <th>CoUninitialize</th>\n      <th>NtQueryKey</th>\n      <th>LdrUnloadDll</th>\n      <th>LookupPrivilegeValueW</th>\n      <th>NtClose</th>\n      <th>NtAllocateVirtualMemory</th>\n      <th>LdrGetDllHandle</th>\n      <th>CoCreateInstance</th>\n      <th>...</th>\n      <th>RegEnumValueA</th>\n      <th>InternetCrackUrlA</th>\n      <th>HttpSendRequestA</th>\n      <th>InternetSetStatusCallback</th>\n      <th>InternetGetConnectedState</th>\n      <th>ObtainUserAgentString</th>\n      <th>InternetConnectA</th>\n      <th>CryptProtectData</th>\n      <th>InternetOpenUrlW</th>\n      <th>family</th>\n    </tr>\n  </thead>\n  <tbody>\n    <tr>\n      <th>0</th>\n      <td>0.0</td>\n      <td>0.0</td>\n      <td>0.0</td>\n      <td>0.0</td>\n      <td>0.0</td>\n      <td>0.0</td>\n      <td>0.0</td>\n      <td>0.0</td>\n      <td>0.0</td>\n      <td>0.0</td>\n      <td>...</td>\n      <td>0.0</td>\n      <td>0.0</td>\n      <td>0.0</td>\n      <td>0.0</td>\n      <td>0.0</td>\n      <td>0.0</td>\n      <td>0.0</td>\n      <td>0.0</td>\n      <td>0.0</td>\n      <td>unknown</td>\n    </tr>\n    <tr>\n      <th>1</th>\n      <td>0.0</td>\n      <td>1766.0</td>\n      <td>5.0</td>\n      <td>16.0</td>\n      <td>8.0</td>\n      <td>5.0</td>\n      <td>22672.0</td>\n      <td>11924.0</td>\n      <td>10.0</td>\n      <td>8.0</td>\n      <td>...</td>\n      <td>0.0</td>\n      <td>0.0</td>\n      <td>0.0</td>\n      <td>0.0</td>\n      <td>0.0</td>\n      <td>0.0</td>\n      <td>0.0</td>\n      <td>0.0</td>\n      <td>0.0</td>\n      <td>malware</td>\n    </tr>\n    <tr>\n      <th>2</th>\n      <td>0.0</td>\n      <td>0.0</td>\n      <td>0.0</td>\n      <td>0.0</td>\n      <td>0.0</td>\n      <td>0.0</td>\n      <td>0.0</td>\n      <td>3.0</td>\n      <td>1.0</td>\n      <td>0.0</td>\n      <td>...</td>\n      <td>0.0</td>\n      <td>0.0</td>\n      <td>0.0</td>\n      <td>0.0</td>\n      <td>0.0</td>\n      <td>0.0</td>\n      <td>0.0</td>\n      <td>0.0</td>\n      <td>0.0</td>\n      <td>malware</td>\n    </tr>\n    <tr>\n      <th>3</th>\n      <td>0.0</td>\n      <td>18.0</td>\n      <td>240.0</td>\n      <td>1027.0</td>\n      <td>45.0</td>\n      <td>1.0</td>\n      <td>18450.0</td>\n      <td>9116.0</td>\n      <td>211.0</td>\n      <td>52.0</td>\n      <td>...</td>\n      <td>0.0</td>\n      <td>0.0</td>\n      <td>0.0</td>\n      <td>0.0</td>\n      <td>0.0</td>\n      <td>0.0</td>\n      <td>0.0</td>\n      <td>0.0</td>\n      <td>0.0</td>\n      <td>malware</td>\n    </tr>\n    <tr>\n      <th>4</th>\n      <td>0.0</td>\n      <td>0.0</td>\n      <td>0.0</td>\n      <td>0.0</td>\n      <td>1.0</td>\n      <td>0.0</td>\n      <td>16.0</td>\n      <td>0.0</td>\n      <td>17.0</td>\n      <td>0.0</td>\n      <td>...</td>\n      <td>0.0</td>\n      <td>0.0</td>\n      <td>0.0</td>\n      <td>0.0</td>\n      <td>0.0</td>\n      <td>0.0</td>\n      <td>0.0</td>\n      <td>0.0</td>\n      <td>0.0</td>\n      <td>malware</td>\n    </tr>\n    <tr>\n      <th>...</th>\n      <td>...</td>\n      <td>...</td>\n      <td>...</td>\n      <td>...</td>\n      <td>...</td>\n      <td>...</td>\n      <td>...</td>\n      <td>...</td>\n      <td>...</td>\n      <td>...</td>\n      <td>...</td>\n      <td>...</td>\n      <td>...</td>\n      <td>...</td>\n      <td>...</td>\n      <td>...</td>\n      <td>...</td>\n      <td>...</td>\n      <td>...</td>\n      <td>...</td>\n      <td>...</td>\n    </tr>\n    <tr>\n      <th>491</th>\n      <td>0.0</td>\n      <td>0.0</td>\n      <td>0.0</td>\n      <td>0.0</td>\n      <td>1.0</td>\n      <td>0.0</td>\n      <td>12.0</td>\n      <td>0.0</td>\n      <td>0.0</td>\n      <td>0.0</td>\n      <td>...</td>\n      <td>0.0</td>\n      <td>0.0</td>\n      <td>0.0</td>\n      <td>0.0</td>\n      <td>0.0</td>\n      <td>0.0</td>\n      <td>0.0</td>\n      <td>0.0</td>\n      <td>0.0</td>\n      <td>malware</td>\n    </tr>\n    <tr>\n      <th>492</th>\n      <td>0.0</td>\n      <td>23.0</td>\n      <td>15.0</td>\n      <td>845.0</td>\n      <td>40.0</td>\n      <td>0.0</td>\n      <td>24775.0</td>\n      <td>894.0</td>\n      <td>490.0</td>\n      <td>14.0</td>\n      <td>...</td>\n      <td>42.0</td>\n      <td>0.0</td>\n      <td>0.0</td>\n      <td>1.0</td>\n      <td>1.0</td>\n      <td>0.0</td>\n      <td>0.0</td>\n      <td>0.0</td>\n      <td>2.0</td>\n      <td>goodware</td>\n    </tr>\n    <tr>\n      <th>493</th>\n      <td>0.0</td>\n      <td>23.0</td>\n      <td>1.0</td>\n      <td>123.0</td>\n      <td>17.0</td>\n      <td>0.0</td>\n      <td>505.0</td>\n      <td>273.0</td>\n      <td>187.0</td>\n      <td>23.0</td>\n      <td>...</td>\n      <td>0.0</td>\n      <td>0.0</td>\n      <td>0.0</td>\n      <td>0.0</td>\n      <td>0.0</td>\n      <td>0.0</td>\n      <td>0.0</td>\n      <td>0.0</td>\n      <td>0.0</td>\n      <td>malware</td>\n    </tr>\n    <tr>\n      <th>494</th>\n      <td>0.0</td>\n      <td>0.0</td>\n      <td>0.0</td>\n      <td>0.0</td>\n      <td>3.0</td>\n      <td>0.0</td>\n      <td>35.0</td>\n      <td>13.0</td>\n      <td>5.0</td>\n      <td>0.0</td>\n      <td>...</td>\n      <td>0.0</td>\n      <td>0.0</td>\n      <td>0.0</td>\n      <td>0.0</td>\n      <td>0.0</td>\n      <td>0.0</td>\n      <td>0.0</td>\n      <td>0.0</td>\n      <td>0.0</td>\n      <td>malware</td>\n    </tr>\n    <tr>\n      <th>495</th>\n      <td>0.0</td>\n      <td>0.0</td>\n      <td>0.0</td>\n      <td>0.0</td>\n      <td>4.0</td>\n      <td>0.0</td>\n      <td>31.0</td>\n      <td>0.0</td>\n      <td>2.0</td>\n      <td>0.0</td>\n      <td>...</td>\n      <td>0.0</td>\n      <td>0.0</td>\n      <td>0.0</td>\n      <td>0.0</td>\n      <td>0.0</td>\n      <td>0.0</td>\n      <td>0.0</td>\n      <td>0.0</td>\n      <td>0.0</td>\n      <td>malware</td>\n    </tr>\n  </tbody>\n</table>\n<p>496 rows × 261 columns</p>\n</div>"
     },
     "execution_count": 217,
     "metadata": {},
     "output_type": "execute_result"
    }
   ],
   "source": [
    "table"
   ],
   "metadata": {
    "collapsed": false,
    "pycharm": {
     "name": "#%%\n"
    }
   }
  },
  {
   "cell_type": "code",
   "execution_count": 218,
   "outputs": [],
   "source": [
    "table.drop(columns=['id', 'score'], inplace=True)"
   ],
   "metadata": {
    "collapsed": false,
    "pycharm": {
     "name": "#%%\n"
    }
   }
  },
  {
   "cell_type": "code",
   "execution_count": 219,
   "outputs": [
    {
     "data": {
      "text/plain": "(False, False)"
     },
     "execution_count": 219,
     "metadata": {},
     "output_type": "execute_result"
    }
   ],
   "source": [
    "\"id\" in table.columns, \"score\" in table.columns"
   ],
   "metadata": {
    "collapsed": false,
    "pycharm": {
     "name": "#%%\n"
    }
   }
  },
  {
   "cell_type": "code",
   "execution_count": 185,
   "outputs": [],
   "source": [
    "#remover os unknown\n",
    "index_names = table[ table['family'] == \"goodware\" ].index\n",
    "table.drop(index_names, inplace = True)"
   ],
   "metadata": {
    "collapsed": false,
    "pycharm": {
     "name": "#%%\n"
    }
   }
  },
  {
   "cell_type": "code",
   "execution_count": 220,
   "outputs": [],
   "source": [
    "#remover os unknown\n",
    "index_names = table[ table['family'] == \"unknown\" ].index\n",
    "table.drop(index_names, inplace = True)"
   ],
   "metadata": {
    "collapsed": false,
    "pycharm": {
     "name": "#%%\n"
    }
   }
  },
  {
   "cell_type": "code",
   "execution_count": 221,
   "outputs": [
    {
     "data": {
      "text/plain": "1       malware\n2       malware\n3       malware\n4       malware\n5       malware\n         ...   \n491     malware\n492    goodware\n493     malware\n494     malware\n495     malware\nName: family, Length: 455, dtype: object"
     },
     "execution_count": 221,
     "metadata": {},
     "output_type": "execute_result"
    }
   ],
   "source": [
    "table[\"family\"]"
   ],
   "metadata": {
    "collapsed": false,
    "pycharm": {
     "name": "#%%\n"
    }
   }
  },
  {
   "cell_type": "code",
   "execution_count": 222,
   "outputs": [
    {
     "data": {
      "text/plain": "(455, 259)"
     },
     "execution_count": 222,
     "metadata": {},
     "output_type": "execute_result"
    }
   ],
   "source": [
    "table.shape"
   ],
   "metadata": {
    "collapsed": false,
    "pycharm": {
     "name": "#%%\n"
    }
   }
  },
  {
   "cell_type": "code",
   "execution_count": 223,
   "outputs": [],
   "source": [
    "previsores_table = table.iloc[:, 0:258].values"
   ],
   "metadata": {
    "collapsed": false,
    "pycharm": {
     "name": "#%%\n"
    }
   }
  },
  {
   "cell_type": "code",
   "execution_count": 224,
   "outputs": [
    {
     "data": {
      "text/plain": "array([[0.000e+00, 1.766e+03, 5.000e+00, ..., 0.000e+00, 0.000e+00,\n        0.000e+00],\n       [0.000e+00, 0.000e+00, 0.000e+00, ..., 0.000e+00, 0.000e+00,\n        0.000e+00],\n       [0.000e+00, 1.800e+01, 2.400e+02, ..., 0.000e+00, 0.000e+00,\n        0.000e+00],\n       ...,\n       [0.000e+00, 2.300e+01, 1.000e+00, ..., 0.000e+00, 0.000e+00,\n        0.000e+00],\n       [0.000e+00, 0.000e+00, 0.000e+00, ..., 0.000e+00, 0.000e+00,\n        0.000e+00],\n       [0.000e+00, 0.000e+00, 0.000e+00, ..., 0.000e+00, 0.000e+00,\n        0.000e+00]])"
     },
     "execution_count": 224,
     "metadata": {},
     "output_type": "execute_result"
    }
   ],
   "source": [
    "previsores_table"
   ],
   "metadata": {
    "collapsed": false,
    "pycharm": {
     "name": "#%%\n"
    }
   }
  },
  {
   "cell_type": "code",
   "execution_count": 225,
   "outputs": [],
   "source": [
    "classe_table = table.iloc[:,258].values"
   ],
   "metadata": {
    "collapsed": false,
    "pycharm": {
     "name": "#%%\n"
    }
   }
  },
  {
   "cell_type": "code",
   "execution_count": 226,
   "outputs": [
    {
     "data": {
      "text/plain": "array(['malware', 'malware', 'malware', 'malware', 'malware', 'malware',\n       'malware', 'malware', 'malware', 'malware', 'malware', 'malware',\n       'malware', 'malware', 'malware', 'malware', 'malware', 'malware',\n       'malware', 'malware', 'malware', 'malware', 'malware', 'malware',\n       'malware', 'malware', 'malware', 'malware', 'malware', 'malware',\n       'malware', 'malware', 'malware', 'malware', 'malware', 'malware',\n       'malware', 'malware', 'malware', 'malware', 'malware', 'malware',\n       'malware', 'malware', 'malware', 'malware', 'malware', 'malware',\n       'malware', 'malware', 'malware', 'malware', 'goodware', 'malware',\n       'malware', 'malware', 'malware', 'malware', 'malware', 'goodware',\n       'malware', 'malware', 'malware', 'malware', 'malware', 'goodware',\n       'malware', 'malware', 'malware', 'malware', 'malware', 'malware',\n       'malware', 'malware', 'malware', 'malware', 'malware', 'malware',\n       'malware', 'malware', 'malware', 'malware', 'malware', 'malware',\n       'malware', 'malware', 'malware', 'malware', 'malware', 'malware',\n       'goodware', 'malware', 'malware', 'malware', 'malware', 'malware',\n       'malware', 'malware', 'malware', 'malware', 'malware', 'malware',\n       'malware', 'malware', 'malware', 'malware', 'malware', 'malware',\n       'malware', 'malware', 'malware', 'malware', 'malware', 'malware',\n       'malware', 'malware', 'malware', 'malware', 'malware', 'goodware',\n       'malware', 'malware', 'malware', 'malware', 'malware', 'malware',\n       'malware', 'malware', 'malware', 'malware', 'malware', 'malware',\n       'malware', 'malware', 'malware', 'malware', 'malware', 'goodware',\n       'malware', 'malware', 'malware', 'malware', 'malware', 'malware',\n       'malware', 'malware', 'malware', 'malware', 'malware', 'malware',\n       'malware', 'malware', 'malware', 'malware', 'malware', 'malware',\n       'malware', 'malware', 'malware', 'malware', 'malware', 'malware',\n       'malware', 'malware', 'malware', 'malware', 'malware', 'malware',\n       'malware', 'malware', 'malware', 'malware', 'malware', 'malware',\n       'malware', 'malware', 'malware', 'malware', 'malware', 'malware',\n       'malware', 'malware', 'malware', 'malware', 'malware', 'malware',\n       'malware', 'malware', 'malware', 'malware', 'malware', 'malware',\n       'malware', 'malware', 'malware', 'malware', 'malware', 'malware',\n       'malware', 'malware', 'malware', 'malware', 'malware', 'malware',\n       'malware', 'malware', 'malware', 'malware', 'malware', 'malware',\n       'malware', 'malware', 'malware', 'malware', 'malware', 'malware',\n       'malware', 'malware', 'malware', 'malware', 'malware', 'malware',\n       'malware', 'malware', 'malware', 'malware', 'malware', 'malware',\n       'malware', 'malware', 'malware', 'malware', 'malware', 'malware',\n       'malware', 'malware', 'malware', 'malware', 'malware', 'malware',\n       'malware', 'malware', 'malware', 'malware', 'malware', 'malware',\n       'malware', 'malware', 'malware', 'malware', 'malware', 'malware',\n       'malware', 'malware', 'malware', 'malware', 'malware', 'malware',\n       'malware', 'goodware', 'malware', 'malware', 'malware', 'malware',\n       'malware', 'malware', 'malware', 'malware', 'malware', 'malware',\n       'malware', 'malware', 'malware', 'malware', 'malware', 'malware',\n       'goodware', 'malware', 'malware', 'malware', 'malware', 'malware',\n       'malware', 'malware', 'malware', 'goodware', 'malware', 'malware',\n       'malware', 'malware', 'malware', 'malware', 'malware', 'malware',\n       'malware', 'malware', 'malware', 'malware', 'malware', 'malware',\n       'malware', 'malware', 'malware', 'malware', 'malware', 'malware',\n       'malware', 'malware', 'malware', 'malware', 'malware', 'malware',\n       'malware', 'malware', 'malware', 'malware', 'malware', 'malware',\n       'goodware', 'malware', 'malware', 'malware', 'malware', 'malware',\n       'malware', 'malware', 'malware', 'malware', 'malware', 'malware',\n       'malware', 'malware', 'goodware', 'malware', 'malware', 'malware',\n       'malware', 'malware', 'malware', 'malware', 'malware', 'malware',\n       'malware', 'malware', 'malware', 'malware', 'malware', 'malware',\n       'malware', 'malware', 'malware', 'malware', 'malware', 'malware',\n       'malware', 'malware', 'malware', 'malware', 'malware', 'malware',\n       'malware', 'goodware', 'malware', 'malware', 'malware', 'malware',\n       'malware', 'malware', 'malware', 'malware', 'malware', 'malware',\n       'malware', 'malware', 'malware', 'malware', 'malware', 'malware',\n       'goodware', 'malware', 'malware', 'malware', 'malware', 'malware',\n       'malware', 'malware', 'malware', 'malware', 'malware', 'malware',\n       'malware', 'malware', 'malware', 'malware', 'malware', 'malware',\n       'malware', 'malware', 'malware', 'malware', 'malware', 'malware',\n       'malware', 'malware', 'malware', 'malware', 'goodware', 'malware',\n       'malware', 'malware', 'malware', 'malware', 'malware', 'malware',\n       'malware', 'malware', 'malware', 'malware', 'malware', 'malware',\n       'malware', 'malware', 'malware', 'malware', 'malware', 'malware',\n       'malware', 'malware', 'malware', 'malware', 'malware', 'malware',\n       'malware', 'malware', 'malware', 'malware', 'malware', 'malware',\n       'malware', 'malware', 'goodware', 'malware', 'malware', 'malware',\n       'malware', 'malware', 'malware', 'malware', 'malware', 'malware',\n       'malware', 'goodware', 'malware', 'malware', 'malware'],\n      dtype=object)"
     },
     "execution_count": 226,
     "metadata": {},
     "output_type": "execute_result"
    }
   ],
   "source": [
    "classe_table"
   ],
   "metadata": {
    "collapsed": false,
    "pycharm": {
     "name": "#%%\n"
    }
   }
  },
  {
   "cell_type": "code",
   "execution_count": 227,
   "outputs": [],
   "source": [
    "previsores_table_treinamento, previsores_table_teste, classe_table_treinamento, classe_table_teste = train_test_split(previsores_table, classe_table, test_size=0.33, random_state=0)"
   ],
   "metadata": {
    "collapsed": false,
    "pycharm": {
     "name": "#%%\n"
    }
   }
  },
  {
   "cell_type": "code",
   "execution_count": 228,
   "outputs": [
    {
     "data": {
      "text/plain": "(304, 258)"
     },
     "execution_count": 228,
     "metadata": {},
     "output_type": "execute_result"
    }
   ],
   "source": [
    "previsores_table_treinamento.shape"
   ],
   "metadata": {
    "collapsed": false,
    "pycharm": {
     "name": "#%%\n"
    }
   }
  },
  {
   "cell_type": "code",
   "execution_count": 229,
   "outputs": [
    {
     "data": {
      "text/plain": "SVC(C=3.0, kernel='linear', random_state=1)",
      "text/html": "<style>#sk-container-id-9 {color: black;background-color: white;}#sk-container-id-9 pre{padding: 0;}#sk-container-id-9 div.sk-toggleable {background-color: white;}#sk-container-id-9 label.sk-toggleable__label {cursor: pointer;display: block;width: 100%;margin-bottom: 0;padding: 0.3em;box-sizing: border-box;text-align: center;}#sk-container-id-9 label.sk-toggleable__label-arrow:before {content: \"▸\";float: left;margin-right: 0.25em;color: #696969;}#sk-container-id-9 label.sk-toggleable__label-arrow:hover:before {color: black;}#sk-container-id-9 div.sk-estimator:hover label.sk-toggleable__label-arrow:before {color: black;}#sk-container-id-9 div.sk-toggleable__content {max-height: 0;max-width: 0;overflow: hidden;text-align: left;background-color: #f0f8ff;}#sk-container-id-9 div.sk-toggleable__content pre {margin: 0.2em;color: black;border-radius: 0.25em;background-color: #f0f8ff;}#sk-container-id-9 input.sk-toggleable__control:checked~div.sk-toggleable__content {max-height: 200px;max-width: 100%;overflow: auto;}#sk-container-id-9 input.sk-toggleable__control:checked~label.sk-toggleable__label-arrow:before {content: \"▾\";}#sk-container-id-9 div.sk-estimator input.sk-toggleable__control:checked~label.sk-toggleable__label {background-color: #d4ebff;}#sk-container-id-9 div.sk-label input.sk-toggleable__control:checked~label.sk-toggleable__label {background-color: #d4ebff;}#sk-container-id-9 input.sk-hidden--visually {border: 0;clip: rect(1px 1px 1px 1px);clip: rect(1px, 1px, 1px, 1px);height: 1px;margin: -1px;overflow: hidden;padding: 0;position: absolute;width: 1px;}#sk-container-id-9 div.sk-estimator {font-family: monospace;background-color: #f0f8ff;border: 1px dotted black;border-radius: 0.25em;box-sizing: border-box;margin-bottom: 0.5em;}#sk-container-id-9 div.sk-estimator:hover {background-color: #d4ebff;}#sk-container-id-9 div.sk-parallel-item::after {content: \"\";width: 100%;border-bottom: 1px solid gray;flex-grow: 1;}#sk-container-id-9 div.sk-label:hover label.sk-toggleable__label {background-color: #d4ebff;}#sk-container-id-9 div.sk-serial::before {content: \"\";position: absolute;border-left: 1px solid gray;box-sizing: border-box;top: 0;bottom: 0;left: 50%;z-index: 0;}#sk-container-id-9 div.sk-serial {display: flex;flex-direction: column;align-items: center;background-color: white;padding-right: 0.2em;padding-left: 0.2em;position: relative;}#sk-container-id-9 div.sk-item {position: relative;z-index: 1;}#sk-container-id-9 div.sk-parallel {display: flex;align-items: stretch;justify-content: center;background-color: white;position: relative;}#sk-container-id-9 div.sk-item::before, #sk-container-id-9 div.sk-parallel-item::before {content: \"\";position: absolute;border-left: 1px solid gray;box-sizing: border-box;top: 0;bottom: 0;left: 50%;z-index: -1;}#sk-container-id-9 div.sk-parallel-item {display: flex;flex-direction: column;z-index: 1;position: relative;background-color: white;}#sk-container-id-9 div.sk-parallel-item:first-child::after {align-self: flex-end;width: 50%;}#sk-container-id-9 div.sk-parallel-item:last-child::after {align-self: flex-start;width: 50%;}#sk-container-id-9 div.sk-parallel-item:only-child::after {width: 0;}#sk-container-id-9 div.sk-dashed-wrapped {border: 1px dashed gray;margin: 0 0.4em 0.5em 0.4em;box-sizing: border-box;padding-bottom: 0.4em;background-color: white;}#sk-container-id-9 div.sk-label label {font-family: monospace;font-weight: bold;display: inline-block;line-height: 1.2em;}#sk-container-id-9 div.sk-label-container {text-align: center;}#sk-container-id-9 div.sk-container {/* jupyter's `normalize.less` sets `[hidden] { display: none; }` but bootstrap.min.css set `[hidden] { display: none !important; }` so we also need the `!important` here to be able to override the default hidden behavior on the sphinx rendered scikit-learn.org. See: https://github.com/scikit-learn/scikit-learn/issues/21755 */display: inline-block !important;position: relative;}#sk-container-id-9 div.sk-text-repr-fallback {display: none;}</style><div id=\"sk-container-id-9\" class=\"sk-top-container\"><div class=\"sk-text-repr-fallback\"><pre>SVC(C=3.0, kernel=&#x27;linear&#x27;, random_state=1)</pre><b>In a Jupyter environment, please rerun this cell to show the HTML representation or trust the notebook. <br />On GitHub, the HTML representation is unable to render, please try loading this page with nbviewer.org.</b></div><div class=\"sk-container\" hidden><div class=\"sk-item\"><div class=\"sk-estimator sk-toggleable\"><input class=\"sk-toggleable__control sk-hidden--visually\" id=\"sk-estimator-id-9\" type=\"checkbox\" checked><label for=\"sk-estimator-id-9\" class=\"sk-toggleable__label sk-toggleable__label-arrow\">SVC</label><div class=\"sk-toggleable__content\"><pre>SVC(C=3.0, kernel=&#x27;linear&#x27;, random_state=1)</pre></div></div></div></div></div>"
     },
     "execution_count": 229,
     "metadata": {},
     "output_type": "execute_result"
    }
   ],
   "source": [
    "svm_table = SVC(kernel= 'linear', random_state=1, C=3.0)\n",
    "svm_table.fit(previsores_table_treinamento, classe_table_treinamento)"
   ],
   "metadata": {
    "collapsed": false,
    "pycharm": {
     "name": "#%%\n"
    }
   }
  },
  {
   "cell_type": "code",
   "execution_count": 230,
   "outputs": [
    {
     "data": {
      "text/plain": "array(['goodware', 'malware', 'malware', 'malware', 'malware', 'malware',\n       'malware', 'malware', 'malware', 'malware', 'malware', 'malware',\n       'goodware', 'malware', 'malware', 'malware', 'malware', 'malware',\n       'goodware', 'malware', 'malware', 'malware', 'malware', 'malware',\n       'malware', 'malware', 'malware', 'malware', 'malware', 'malware',\n       'malware', 'malware', 'malware', 'malware', 'malware', 'malware',\n       'malware', 'malware', 'malware', 'malware', 'malware', 'malware',\n       'malware', 'malware', 'malware', 'malware', 'malware', 'malware',\n       'malware', 'malware', 'malware', 'malware', 'malware', 'malware',\n       'malware', 'malware', 'malware', 'malware', 'malware', 'malware',\n       'malware', 'malware', 'malware', 'malware', 'malware', 'malware',\n       'malware', 'malware', 'malware', 'malware', 'malware', 'goodware',\n       'malware', 'malware', 'malware', 'malware', 'malware', 'malware',\n       'malware', 'goodware', 'malware', 'malware', 'malware', 'malware',\n       'malware', 'malware', 'malware', 'goodware', 'malware', 'malware',\n       'malware', 'malware', 'goodware', 'malware', 'malware', 'malware',\n       'malware', 'malware', 'malware', 'malware', 'malware', 'malware',\n       'malware', 'malware', 'malware', 'malware', 'malware', 'malware',\n       'goodware', 'malware', 'malware', 'malware', 'malware', 'malware',\n       'malware', 'goodware', 'malware', 'malware', 'malware', 'malware',\n       'malware', 'malware', 'malware', 'malware', 'malware', 'malware',\n       'malware', 'malware', 'malware', 'malware', 'malware', 'malware',\n       'malware', 'goodware', 'malware', 'malware', 'malware', 'malware',\n       'malware', 'malware', 'malware', 'malware', 'malware', 'malware',\n       'goodware', 'malware', 'malware', 'goodware', 'malware', 'malware',\n       'malware'], dtype=object)"
     },
     "execution_count": 230,
     "metadata": {},
     "output_type": "execute_result"
    }
   ],
   "source": [
    "previsores = svm_table.predict(previsores_table_teste)\n",
    "previsores"
   ],
   "metadata": {
    "collapsed": false,
    "pycharm": {
     "name": "#%%\n"
    }
   }
  },
  {
   "cell_type": "code",
   "execution_count": 231,
   "outputs": [
    {
     "data": {
      "text/plain": "0.9337748344370861"
     },
     "execution_count": 231,
     "metadata": {},
     "output_type": "execute_result"
    }
   ],
   "source": [
    "from sklearn.metrics import accuracy_score, classification_report\n",
    "accuracy_score(classe_table_teste, previsores)"
   ],
   "metadata": {
    "collapsed": false,
    "pycharm": {
     "name": "#%%\n"
    }
   }
  },
  {
   "cell_type": "code",
   "execution_count": 232,
   "outputs": [
    {
     "name": "stdout",
     "output_type": "stream",
     "text": [
      "              precision    recall  f1-score   support\n",
      "\n",
      "    goodware       0.42      0.62      0.50         8\n",
      "     malware       0.98      0.95      0.96       143\n",
      "\n",
      "    accuracy                           0.93       151\n",
      "   macro avg       0.70      0.79      0.73       151\n",
      "weighted avg       0.95      0.93      0.94       151\n",
      "\n"
     ]
    }
   ],
   "source": [
    "print(classification_report(classe_table_teste, previsores,zero_division=0))"
   ],
   "metadata": {
    "collapsed": false,
    "pycharm": {
     "name": "#%%\n"
    }
   }
  },
  {
   "cell_type": "code",
   "execution_count": 233,
   "outputs": [
    {
     "name": "stdout",
     "output_type": "stream",
     "text": [
      "Iteration 1, loss = 0.74125778\n",
      "Iteration 2, loss = 0.58963324\n",
      "Iteration 3, loss = 0.46810691\n",
      "Iteration 4, loss = 0.37179076\n",
      "Iteration 5, loss = 0.29936044\n",
      "Iteration 6, loss = 0.24389961\n",
      "Iteration 7, loss = 0.20415936\n",
      "Iteration 8, loss = 0.17713372\n",
      "Iteration 9, loss = 0.15905966\n",
      "Iteration 10, loss = 0.14687794\n",
      "Iteration 11, loss = 0.13911970\n",
      "Iteration 12, loss = 0.13286232\n",
      "Iteration 13, loss = 0.12791572\n",
      "Iteration 14, loss = 0.12558459\n",
      "Iteration 15, loss = 0.12321543\n",
      "Iteration 16, loss = 0.12268989\n",
      "Iteration 17, loss = 0.12146974\n",
      "Iteration 18, loss = 0.12075802\n",
      "Iteration 19, loss = 0.12061536\n",
      "Iteration 20, loss = 0.12024700\n",
      "Iteration 21, loss = 0.12011449\n",
      "Iteration 22, loss = 0.11973295\n",
      "Iteration 23, loss = 0.11915754\n",
      "Iteration 24, loss = 0.11914767\n",
      "Iteration 25, loss = 0.11918751\n",
      "Iteration 26, loss = 0.11898322\n",
      "Iteration 27, loss = 0.11883832\n",
      "Iteration 28, loss = 0.11864274\n",
      "Iteration 29, loss = 0.11847344\n",
      "Iteration 30, loss = 0.11825876\n",
      "Iteration 31, loss = 0.11810913\n",
      "Iteration 32, loss = 0.11798040\n",
      "Iteration 33, loss = 0.11790053\n",
      "Iteration 34, loss = 0.11767779\n",
      "Iteration 35, loss = 0.11758105\n",
      "Iteration 36, loss = 0.11741674\n",
      "Iteration 37, loss = 0.11709085\n",
      "Iteration 38, loss = 0.11701123\n",
      "Iteration 39, loss = 0.11682041\n",
      "Iteration 40, loss = 0.11665081\n",
      "Iteration 41, loss = 0.11641530\n",
      "Iteration 42, loss = 0.11621502\n",
      "Iteration 43, loss = 0.11614947\n",
      "Iteration 44, loss = 0.11596654\n",
      "Iteration 45, loss = 0.11596640\n",
      "Iteration 46, loss = 0.11564095\n",
      "Iteration 47, loss = 0.11557187\n",
      "Iteration 48, loss = 0.11535855\n",
      "Iteration 49, loss = 0.11519026\n",
      "Iteration 50, loss = 0.11498732\n",
      "Iteration 51, loss = 0.11478291\n",
      "Iteration 52, loss = 0.11461016\n",
      "Iteration 53, loss = 0.11455426\n",
      "Iteration 54, loss = 0.11434323\n",
      "Iteration 55, loss = 0.11417435\n",
      "Iteration 56, loss = 0.11410560\n",
      "Iteration 57, loss = 0.11396468\n",
      "Iteration 58, loss = 0.11380470\n",
      "Iteration 59, loss = 0.11364481\n",
      "Iteration 60, loss = 0.11347598\n",
      "Iteration 61, loss = 0.11327306\n",
      "Iteration 62, loss = 0.11313102\n",
      "Iteration 63, loss = 0.11312950\n",
      "Iteration 64, loss = 0.11276016\n",
      "Iteration 65, loss = 0.11266038\n",
      "Iteration 66, loss = 0.11237674\n",
      "Iteration 67, loss = 0.11227161\n",
      "Iteration 68, loss = 0.11206527\n",
      "Iteration 69, loss = 0.11189752\n",
      "Iteration 70, loss = 0.11174389\n",
      "Iteration 71, loss = 0.11168001\n",
      "Iteration 72, loss = 0.11128226\n",
      "Iteration 73, loss = 0.11107245\n",
      "Iteration 74, loss = 0.11084990\n",
      "Iteration 75, loss = 0.11060454\n",
      "Iteration 76, loss = 0.11042846\n",
      "Iteration 77, loss = 0.11023375\n",
      "Iteration 78, loss = 0.11015954\n",
      "Iteration 79, loss = 0.10996331\n",
      "Iteration 80, loss = 0.10972554\n",
      "Iteration 81, loss = 0.10952110\n",
      "Iteration 82, loss = 0.10938974\n",
      "Iteration 83, loss = 0.10913593\n",
      "Iteration 84, loss = 0.10932701\n",
      "Iteration 85, loss = 0.10890051\n",
      "Iteration 86, loss = 0.10877370\n",
      "Iteration 87, loss = 0.10855151\n",
      "Iteration 88, loss = 0.10852903\n",
      "Iteration 89, loss = 0.10825025\n",
      "Iteration 90, loss = 0.10808412\n",
      "Iteration 91, loss = 0.10782072\n",
      "Iteration 92, loss = 0.10756544\n",
      "Iteration 93, loss = 0.10726936\n",
      "Iteration 94, loss = 0.10721528\n",
      "Iteration 95, loss = 0.10706644\n",
      "Iteration 96, loss = 0.10701209\n",
      "Iteration 97, loss = 0.10718148\n",
      "Iteration 98, loss = 0.10692789\n",
      "Iteration 99, loss = 0.10708129\n",
      "Iteration 100, loss = 0.10679323\n",
      "Iteration 101, loss = 0.10659991\n",
      "Iteration 102, loss = 0.10642100\n",
      "Iteration 103, loss = 0.10615937\n",
      "Iteration 104, loss = 0.10609287\n",
      "Iteration 105, loss = 0.10588858\n",
      "Iteration 106, loss = 0.10556318\n",
      "Iteration 107, loss = 0.10514561\n",
      "Iteration 108, loss = 0.10475153\n",
      "Iteration 109, loss = 0.10451716\n",
      "Iteration 110, loss = 0.10434228\n",
      "Iteration 111, loss = 0.10403903\n",
      "Iteration 112, loss = 0.10385513\n",
      "Iteration 113, loss = 0.10331102\n",
      "Iteration 114, loss = 0.10315323\n",
      "Iteration 115, loss = 0.10286201\n",
      "Iteration 116, loss = 0.10256739\n",
      "Iteration 117, loss = 0.10223650\n",
      "Iteration 118, loss = 0.10187083\n",
      "Iteration 119, loss = 0.10153730\n",
      "Iteration 120, loss = 0.10121789\n",
      "Iteration 121, loss = 0.10073402\n",
      "Iteration 122, loss = 0.10044107\n",
      "Iteration 123, loss = 0.10008454\n",
      "Iteration 124, loss = 0.09970243\n",
      "Iteration 125, loss = 0.09933244\n",
      "Iteration 126, loss = 0.09866342\n",
      "Iteration 127, loss = 0.09842151\n",
      "Iteration 128, loss = 0.09806258\n",
      "Iteration 129, loss = 0.09773341\n",
      "Iteration 130, loss = 0.09709739\n",
      "Iteration 131, loss = 0.09666132\n",
      "Iteration 132, loss = 0.09640801\n",
      "Iteration 133, loss = 0.09628628\n",
      "Iteration 134, loss = 0.09590959\n",
      "Iteration 135, loss = 0.09547393\n",
      "Iteration 136, loss = 0.09492220\n",
      "Iteration 137, loss = 0.09431958\n",
      "Iteration 138, loss = 0.09417788\n",
      "Iteration 139, loss = 0.09386837\n",
      "Iteration 140, loss = 0.09384084\n",
      "Iteration 141, loss = 0.09344686\n",
      "Iteration 142, loss = 0.09293582\n",
      "Iteration 143, loss = 0.09250358\n",
      "Iteration 144, loss = 0.09201157\n",
      "Iteration 145, loss = 0.09149426\n",
      "Iteration 146, loss = 0.09053980\n",
      "Iteration 147, loss = 0.09116113\n",
      "Iteration 148, loss = 0.09032092\n",
      "Iteration 149, loss = 0.08980446\n",
      "Iteration 150, loss = 0.08932776\n",
      "Iteration 151, loss = 0.08894171\n",
      "Iteration 152, loss = 0.08855168\n",
      "Iteration 153, loss = 0.08821326\n",
      "Iteration 154, loss = 0.08787366\n",
      "Iteration 155, loss = 0.08736172\n",
      "Iteration 156, loss = 0.08685808\n",
      "Iteration 157, loss = 0.08761863\n",
      "Iteration 158, loss = 0.08672618\n",
      "Iteration 159, loss = 0.08645305\n",
      "Iteration 160, loss = 0.08596933\n",
      "Iteration 161, loss = 0.08558511\n",
      "Iteration 162, loss = 0.08528133\n",
      "Iteration 163, loss = 0.08474205\n",
      "Iteration 164, loss = 0.08450570\n",
      "Iteration 165, loss = 0.08426672\n",
      "Iteration 166, loss = 0.08359039\n",
      "Iteration 167, loss = 0.08308460\n",
      "Iteration 168, loss = 0.08311276\n",
      "Iteration 169, loss = 0.08316451\n",
      "Iteration 170, loss = 0.08297667\n",
      "Iteration 171, loss = 0.08362472\n",
      "Iteration 172, loss = 0.08310968\n",
      "Iteration 173, loss = 0.08278391\n",
      "Iteration 174, loss = 0.08229483\n",
      "Iteration 175, loss = 0.08163183\n",
      "Iteration 176, loss = 0.08165886\n",
      "Iteration 177, loss = 0.08097003\n",
      "Iteration 178, loss = 0.08065170\n",
      "Iteration 179, loss = 0.08011796\n",
      "Iteration 180, loss = 0.07929153\n",
      "Iteration 181, loss = 0.07884950\n",
      "Iteration 182, loss = 0.07894135\n",
      "Iteration 183, loss = 0.07843220\n",
      "Iteration 184, loss = 0.07783179\n",
      "Iteration 185, loss = 0.07803783\n",
      "Iteration 186, loss = 0.07762503\n",
      "Iteration 187, loss = 0.07716233\n",
      "Iteration 188, loss = 0.07644431\n",
      "Iteration 189, loss = 0.07576951\n",
      "Iteration 190, loss = 0.07556688\n",
      "Iteration 191, loss = 0.07506580\n",
      "Iteration 192, loss = 0.07467071\n",
      "Iteration 193, loss = 0.07463242\n",
      "Iteration 194, loss = 0.07375052\n",
      "Iteration 195, loss = 0.07323384\n",
      "Iteration 196, loss = 0.07263447\n",
      "Iteration 197, loss = 0.07264126\n",
      "Iteration 198, loss = 0.07215269\n",
      "Iteration 199, loss = 0.07205853\n",
      "Iteration 200, loss = 0.07138769\n",
      "Iteration 201, loss = 0.07131739\n",
      "Iteration 202, loss = 0.06972190\n",
      "Iteration 203, loss = 0.07004124\n",
      "Iteration 204, loss = 0.06938203\n",
      "Iteration 205, loss = 0.06956982\n",
      "Iteration 206, loss = 0.06866751\n",
      "Iteration 207, loss = 0.06817102\n",
      "Iteration 208, loss = 0.06872022\n",
      "Iteration 209, loss = 0.06929028\n",
      "Iteration 210, loss = 0.06864065\n",
      "Iteration 211, loss = 0.06798996\n",
      "Iteration 212, loss = 0.06790421\n",
      "Iteration 213, loss = 0.06764739\n",
      "Iteration 214, loss = 0.06835236\n",
      "Iteration 215, loss = 0.06727159\n",
      "Iteration 216, loss = 0.06769374\n",
      "Iteration 217, loss = 0.06717485\n",
      "Iteration 218, loss = 0.06673202\n",
      "Iteration 219, loss = 0.06579201\n",
      "Iteration 220, loss = 0.06741832\n",
      "Iteration 221, loss = 0.06757772\n",
      "Iteration 222, loss = 0.06674791\n",
      "Iteration 223, loss = 0.06638799\n",
      "Iteration 224, loss = 0.06599328\n",
      "Iteration 225, loss = 0.06573704\n",
      "Iteration 226, loss = 0.06555890\n",
      "Iteration 227, loss = 0.06509071\n",
      "Iteration 228, loss = 0.06514078\n",
      "Iteration 229, loss = 0.06449013\n",
      "Iteration 230, loss = 0.06428813\n",
      "Iteration 231, loss = 0.06372840\n",
      "Iteration 232, loss = 0.06365417\n",
      "Iteration 233, loss = 0.06321937\n",
      "Iteration 234, loss = 0.06294871\n",
      "Iteration 235, loss = 0.06254570\n",
      "Iteration 236, loss = 0.06219005\n",
      "Iteration 237, loss = 0.06271434\n",
      "Iteration 238, loss = 0.06229086\n",
      "Iteration 239, loss = 0.06243803\n",
      "Iteration 240, loss = 0.06184277\n",
      "Iteration 241, loss = 0.06277969\n",
      "Iteration 242, loss = 0.06190765\n",
      "Iteration 243, loss = 0.06304050\n",
      "Iteration 244, loss = 0.06573864\n",
      "Iteration 245, loss = 0.06570681\n",
      "Iteration 246, loss = 0.06543606\n",
      "Iteration 247, loss = 0.06484096\n",
      "Iteration 248, loss = 0.06439338\n",
      "Iteration 249, loss = 0.06490645\n",
      "Iteration 250, loss = 0.06440841\n",
      "Iteration 251, loss = 0.06379960\n",
      "Training loss did not improve more than tol=0.000001 for 10 consecutive epochs. Stopping.\n"
     ]
    },
    {
     "data": {
      "text/plain": "MLPClassifier(activation='logistic', hidden_layer_sizes=(103, 103),\n              max_iter=10000, tol=1e-06, verbose=True)",
      "text/html": "<style>#sk-container-id-10 {color: black;background-color: white;}#sk-container-id-10 pre{padding: 0;}#sk-container-id-10 div.sk-toggleable {background-color: white;}#sk-container-id-10 label.sk-toggleable__label {cursor: pointer;display: block;width: 100%;margin-bottom: 0;padding: 0.3em;box-sizing: border-box;text-align: center;}#sk-container-id-10 label.sk-toggleable__label-arrow:before {content: \"▸\";float: left;margin-right: 0.25em;color: #696969;}#sk-container-id-10 label.sk-toggleable__label-arrow:hover:before {color: black;}#sk-container-id-10 div.sk-estimator:hover label.sk-toggleable__label-arrow:before {color: black;}#sk-container-id-10 div.sk-toggleable__content {max-height: 0;max-width: 0;overflow: hidden;text-align: left;background-color: #f0f8ff;}#sk-container-id-10 div.sk-toggleable__content pre {margin: 0.2em;color: black;border-radius: 0.25em;background-color: #f0f8ff;}#sk-container-id-10 input.sk-toggleable__control:checked~div.sk-toggleable__content {max-height: 200px;max-width: 100%;overflow: auto;}#sk-container-id-10 input.sk-toggleable__control:checked~label.sk-toggleable__label-arrow:before {content: \"▾\";}#sk-container-id-10 div.sk-estimator input.sk-toggleable__control:checked~label.sk-toggleable__label {background-color: #d4ebff;}#sk-container-id-10 div.sk-label input.sk-toggleable__control:checked~label.sk-toggleable__label {background-color: #d4ebff;}#sk-container-id-10 input.sk-hidden--visually {border: 0;clip: rect(1px 1px 1px 1px);clip: rect(1px, 1px, 1px, 1px);height: 1px;margin: -1px;overflow: hidden;padding: 0;position: absolute;width: 1px;}#sk-container-id-10 div.sk-estimator {font-family: monospace;background-color: #f0f8ff;border: 1px dotted black;border-radius: 0.25em;box-sizing: border-box;margin-bottom: 0.5em;}#sk-container-id-10 div.sk-estimator:hover {background-color: #d4ebff;}#sk-container-id-10 div.sk-parallel-item::after {content: \"\";width: 100%;border-bottom: 1px solid gray;flex-grow: 1;}#sk-container-id-10 div.sk-label:hover label.sk-toggleable__label {background-color: #d4ebff;}#sk-container-id-10 div.sk-serial::before {content: \"\";position: absolute;border-left: 1px solid gray;box-sizing: border-box;top: 0;bottom: 0;left: 50%;z-index: 0;}#sk-container-id-10 div.sk-serial {display: flex;flex-direction: column;align-items: center;background-color: white;padding-right: 0.2em;padding-left: 0.2em;position: relative;}#sk-container-id-10 div.sk-item {position: relative;z-index: 1;}#sk-container-id-10 div.sk-parallel {display: flex;align-items: stretch;justify-content: center;background-color: white;position: relative;}#sk-container-id-10 div.sk-item::before, #sk-container-id-10 div.sk-parallel-item::before {content: \"\";position: absolute;border-left: 1px solid gray;box-sizing: border-box;top: 0;bottom: 0;left: 50%;z-index: -1;}#sk-container-id-10 div.sk-parallel-item {display: flex;flex-direction: column;z-index: 1;position: relative;background-color: white;}#sk-container-id-10 div.sk-parallel-item:first-child::after {align-self: flex-end;width: 50%;}#sk-container-id-10 div.sk-parallel-item:last-child::after {align-self: flex-start;width: 50%;}#sk-container-id-10 div.sk-parallel-item:only-child::after {width: 0;}#sk-container-id-10 div.sk-dashed-wrapped {border: 1px dashed gray;margin: 0 0.4em 0.5em 0.4em;box-sizing: border-box;padding-bottom: 0.4em;background-color: white;}#sk-container-id-10 div.sk-label label {font-family: monospace;font-weight: bold;display: inline-block;line-height: 1.2em;}#sk-container-id-10 div.sk-label-container {text-align: center;}#sk-container-id-10 div.sk-container {/* jupyter's `normalize.less` sets `[hidden] { display: none; }` but bootstrap.min.css set `[hidden] { display: none !important; }` so we also need the `!important` here to be able to override the default hidden behavior on the sphinx rendered scikit-learn.org. See: https://github.com/scikit-learn/scikit-learn/issues/21755 */display: inline-block !important;position: relative;}#sk-container-id-10 div.sk-text-repr-fallback {display: none;}</style><div id=\"sk-container-id-10\" class=\"sk-top-container\"><div class=\"sk-text-repr-fallback\"><pre>MLPClassifier(activation=&#x27;logistic&#x27;, hidden_layer_sizes=(103, 103),\n              max_iter=10000, tol=1e-06, verbose=True)</pre><b>In a Jupyter environment, please rerun this cell to show the HTML representation or trust the notebook. <br />On GitHub, the HTML representation is unable to render, please try loading this page with nbviewer.org.</b></div><div class=\"sk-container\" hidden><div class=\"sk-item\"><div class=\"sk-estimator sk-toggleable\"><input class=\"sk-toggleable__control sk-hidden--visually\" id=\"sk-estimator-id-10\" type=\"checkbox\" checked><label for=\"sk-estimator-id-10\" class=\"sk-toggleable__label sk-toggleable__label-arrow\">MLPClassifier</label><div class=\"sk-toggleable__content\"><pre>MLPClassifier(activation=&#x27;logistic&#x27;, hidden_layer_sizes=(103, 103),\n              max_iter=10000, tol=1e-06, verbose=True)</pre></div></div></div></div></div>"
     },
     "execution_count": 233,
     "metadata": {},
     "output_type": "execute_result"
    }
   ],
   "source": [
    "rede_neural_table = MLPClassifier(verbose=True, max_iter=10000, tol=0.000001, solver='adam', activation='logistic', hidden_layer_sizes=(103,103))\n",
    "rede_neural_table.fit(previsores_table_treinamento, classe_table_treinamento)"
   ],
   "metadata": {
    "collapsed": false,
    "pycharm": {
     "name": "#%%\n"
    }
   }
  },
  {
   "cell_type": "code",
   "execution_count": 234,
   "outputs": [
    {
     "data": {
      "text/plain": "array(['malware', 'malware', 'malware', 'malware', 'malware', 'malware',\n       'malware', 'malware', 'malware', 'malware', 'malware', 'malware',\n       'malware', 'malware', 'malware', 'malware', 'malware', 'malware',\n       'malware', 'malware', 'malware', 'malware', 'malware', 'malware',\n       'malware', 'malware', 'malware', 'malware', 'malware', 'malware',\n       'malware', 'malware', 'malware', 'malware', 'malware', 'malware',\n       'malware', 'malware', 'malware', 'malware', 'malware', 'malware',\n       'malware', 'malware', 'malware', 'malware', 'malware', 'malware',\n       'malware', 'malware', 'malware', 'malware', 'malware', 'malware',\n       'malware', 'malware', 'malware', 'malware', 'malware', 'malware',\n       'malware', 'malware', 'malware', 'malware', 'malware', 'malware',\n       'malware', 'malware', 'malware', 'malware', 'malware', 'malware',\n       'malware', 'malware', 'malware', 'malware', 'malware', 'malware',\n       'malware', 'malware', 'malware', 'malware', 'malware', 'malware',\n       'malware', 'malware', 'malware', 'malware', 'malware', 'malware',\n       'malware', 'malware', 'malware', 'malware', 'malware', 'malware',\n       'malware', 'malware', 'malware', 'malware', 'malware', 'malware',\n       'malware', 'malware', 'malware', 'malware', 'malware', 'malware',\n       'malware', 'malware', 'malware', 'malware', 'malware', 'malware',\n       'malware', 'malware', 'malware', 'malware', 'malware', 'malware',\n       'malware', 'malware', 'malware', 'malware', 'malware', 'malware',\n       'malware', 'malware', 'malware', 'malware', 'malware', 'malware',\n       'malware', 'malware', 'malware', 'malware', 'malware', 'malware',\n       'malware', 'malware', 'malware', 'malware', 'malware', 'malware',\n       'goodware', 'malware', 'malware', 'malware', 'malware', 'malware',\n       'malware'], dtype='<U8')"
     },
     "execution_count": 234,
     "metadata": {},
     "output_type": "execute_result"
    }
   ],
   "source": [
    "prev = rede_neural_table.predict(previsores_table_teste)\n",
    "prev"
   ],
   "metadata": {
    "collapsed": false,
    "pycharm": {
     "name": "#%%\n"
    }
   }
  },
  {
   "cell_type": "code",
   "execution_count": 235,
   "outputs": [
    {
     "data": {
      "text/plain": "0.9403973509933775"
     },
     "execution_count": 235,
     "metadata": {},
     "output_type": "execute_result"
    }
   ],
   "source": [
    "accuracy_score(classe_table_teste, prev)"
   ],
   "metadata": {
    "collapsed": false,
    "pycharm": {
     "name": "#%%\n"
    }
   }
  },
  {
   "cell_type": "code",
   "execution_count": 238,
   "outputs": [
    {
     "name": "stdout",
     "output_type": "stream",
     "text": [
      "              precision    recall  f1-score   support\n",
      "\n",
      "    goodware       0.00      0.00      0.00         8\n",
      "     malware       0.95      0.99      0.97       143\n",
      "\n",
      "    accuracy                           0.94       151\n",
      "   macro avg       0.47      0.50      0.48       151\n",
      "weighted avg       0.90      0.94      0.92       151\n",
      "\n"
     ]
    }
   ],
   "source": [
    "print(classification_report(classe_table_teste, prev, zero_division=0))"
   ],
   "metadata": {
    "collapsed": false,
    "pycharm": {
     "name": "#%%\n"
    }
   }
  },
  {
   "cell_type": "code",
   "execution_count": 253,
   "outputs": [
    {
     "data": {
      "text/plain": "<sklearn.metrics._plot.confusion_matrix.ConfusionMatrixDisplay at 0x7f63cbc95790>"
     },
     "execution_count": 253,
     "metadata": {},
     "output_type": "execute_result"
    },
    {
     "data": {
      "text/plain": "<Figure size 432x288 with 2 Axes>",
      "image/png": "[encoded data removed]"
     },
     "metadata": {},
     "output_type": "display_data"
    }
   ],
   "source": [
    "conf = confusion_matrix(classe_table_teste, prev)\n",
    "disp = ConfusionMatrixDisplay(confusion_matrix=conf, display_labels=rede_neural_table.classes_)\n",
    "disp.plot(cmap='magma')\n"
   ],
   "metadata": {
    "collapsed": false,
    "pycharm": {
     "name": "#%%\n"
    }
   }
  }
 ],
 "metadata": {
  "kernelspec": {
   "display_name": "Python 3",
   "language": "python",
   "name": "python3"
  },
  "language_info": {
   "codemirror_mode": {
    "name": "ipython",
    "version": 2
   },
   "file_extension": ".py",
   "mimetype": "text/x-python",
   "name": "python",
   "nbconvert_exporter": "python",
   "pygments_lexer": "ipython2",
   "version": "2.7.6"
  }
 },
 "nbformat": 4,
 "nbformat_minor": 0
}